{
  "cells": [
    {
      "cell_type": "markdown",
      "metadata": {
        "id": "view-in-github",
        "colab_type": "text"
      },
      "source": [
        "<a href=\"https://colab.research.google.com/github/Gauravmehra1/play-store-app-analysis/blob/main/capstone_project_on_Play_Store_App_Review_Analysis_Capstone_Project.ipynb\" target=\"_parent\"><img src=\"https://colab.research.google.com/assets/colab-badge.svg\" alt=\"Open In Colab\"/></a>"
      ]
    },
    {
      "cell_type": "markdown",
      "metadata": {
        "id": "Y06xIdG26kRF"
      },
      "source": [
        "## <b> The Play Store apps data has enormous potential to drive app-making businesses to success. Actionable insights can be drawn for developers to work on and capture the Android market. </b>\n",
        "\n",
        "## <b> Each app (row) has values for catergory, rating, size, and more. Another dataset contains customer reviews of the android apps.</b>\n",
        "\n",
        "## <b> Explore and analyze the data to discover key factors responsible for app engagement and success. </b>"
      ]
    },
    {
      "cell_type": "markdown",
      "metadata": {
        "id": "t2UEn1P2G1Wx"
      },
      "source": [
        "**Import Libraries**"
      ]
    },
    {
      "cell_type": "code",
      "execution_count": 29,
      "metadata": {
        "id": "dByMsuzT8Tnw"
      },
      "outputs": [],
      "source": [
        "import numpy as np\n",
        "import pandas as pd\n",
        "import matplotlib.pyplot as plt\n",
        "%matplotlib inline\n",
        "import seaborn as sns"
      ]
    },
    {
      "cell_type": "markdown",
      "metadata": {
        "id": "P4UV85szHH60"
      },
      "source": [
        "**Importing data from google colab** "
      ]
    },
    {
      "cell_type": "code",
      "execution_count": 30,
      "metadata": {
        "colab": {
          "base_uri": "https://localhost:8080/"
        },
        "id": "VTM1b4aoEvKV",
        "outputId": "0e31ad0e-8e9b-4210-c452-2779145915f8"
      },
      "outputs": [
        {
          "output_type": "stream",
          "name": "stdout",
          "text": [
            "Drive already mounted at /content/drive; to attempt to forcibly remount, call drive.mount(\"/content/drive\", force_remount=True).\n"
          ]
        }
      ],
      "source": [
        "from google.colab import drive\n",
        "drive.mount('/content/drive')"
      ]
    },
    {
      "cell_type": "code",
      "execution_count": 31,
      "metadata": {
        "id": "EnXqYbfTE9cA"
      },
      "outputs": [],
      "source": [
        "File ='/content/drive/MyDrive/EDA/PlayStore.csv'\n",
        "df=pd.read_csv(File)"
      ]
    },
    {
      "cell_type": "markdown",
      "metadata": {
        "id": "i6gWJXoYHlah"
      },
      "source": [
        "#**Checking columns , shape and first 5 element** "
      ]
    },
    {
      "cell_type": "code",
      "execution_count": null,
      "metadata": {
        "colab": {
          "base_uri": "https://localhost:8080/"
        },
        "id": "MoOfx6gqFppn",
        "outputId": "1a7f1f08-ff24-45a2-a942-bd6dbded8e4b"
      },
      "outputs": [
        {
          "output_type": "execute_result",
          "data": {
            "text/plain": [
              "Index(['App', 'Category', 'Rating', 'Reviews', 'Size', 'Installs', 'Type',\n",
              "       'Price', 'Content Rating', 'Genres', 'Last Updated', 'Current Ver',\n",
              "       'Android Ver'],\n",
              "      dtype='object')"
            ]
          },
          "metadata": {},
          "execution_count": 16
        }
      ],
      "source": [
        "df.columns\n"
      ]
    },
    {
      "cell_type": "code",
      "execution_count": null,
      "metadata": {
        "colab": {
          "base_uri": "https://localhost:8080/"
        },
        "id": "J9ozNkOJGPys",
        "outputId": "722a23a4-a4e7-4621-a988-ddcac9310f4f"
      },
      "outputs": [
        {
          "output_type": "execute_result",
          "data": {
            "text/plain": [
              "(10841, 13)"
            ]
          },
          "metadata": {},
          "execution_count": 17
        }
      ],
      "source": [
        "df.shape"
      ]
    },
    {
      "cell_type": "code",
      "execution_count": null,
      "metadata": {
        "colab": {
          "base_uri": "https://localhost:8080/"
        },
        "id": "E3K6KgE-H76Q",
        "outputId": "b8849b7d-fb6e-41ee-8acf-4fdb1e4cfba2"
      },
      "outputs": [
        {
          "output_type": "execute_result",
          "data": {
            "text/plain": [
              "                                                   App        Category  \\\n",
              "0       Photo Editor & Candy Camera & Grid & ScrapBook  ART_AND_DESIGN   \n",
              "1                                  Coloring book moana  ART_AND_DESIGN   \n",
              "2    U Launcher Lite – FREE Live Cool Themes, Hide ...  ART_AND_DESIGN   \n",
              "3                                Sketch - Draw & Paint  ART_AND_DESIGN   \n",
              "4                Pixel Draw - Number Art Coloring Book  ART_AND_DESIGN   \n",
              "..                                                 ...             ...   \n",
              "335           Messenger – Text and Video Chat for Free   COMMUNICATION   \n",
              "336                                 WhatsApp Messenger   COMMUNICATION   \n",
              "337                                  Messenger for SMS   COMMUNICATION   \n",
              "338                       Google Chrome: Fast & Secure   COMMUNICATION   \n",
              "339              Messenger Lite: Free Calls & Messages   COMMUNICATION   \n",
              "\n",
              "     Rating   Reviews                Size        Installs  Type Price  \\\n",
              "0       4.1       159                 19M         10,000+  Free     0   \n",
              "1       3.9       967                 14M        500,000+  Free     0   \n",
              "2       4.7     87510                8.7M      5,000,000+  Free     0   \n",
              "3       4.5    215644                 25M     50,000,000+  Free     0   \n",
              "4       4.3       967                2.8M        100,000+  Free     0   \n",
              "..      ...       ...                 ...             ...   ...   ...   \n",
              "335     4.0  56642847  Varies with device  1,000,000,000+  Free     0   \n",
              "336     4.4  69119316  Varies with device  1,000,000,000+  Free     0   \n",
              "337     4.3    125257                 17M     10,000,000+  Free     0   \n",
              "338     4.3   9642995  Varies with device  1,000,000,000+  Free     0   \n",
              "339     4.4   1429035  Varies with device    100,000,000+  Free     0   \n",
              "\n",
              "    Content Rating                     Genres      Last Updated  \\\n",
              "0         Everyone               Art & Design   January 7, 2018   \n",
              "1         Everyone  Art & Design;Pretend Play  January 15, 2018   \n",
              "2         Everyone               Art & Design    August 1, 2018   \n",
              "3             Teen               Art & Design      June 8, 2018   \n",
              "4         Everyone    Art & Design;Creativity     June 20, 2018   \n",
              "..             ...                        ...               ...   \n",
              "335       Everyone              Communication    August 1, 2018   \n",
              "336       Everyone              Communication    August 3, 2018   \n",
              "337           Teen              Communication      June 6, 2018   \n",
              "338       Everyone              Communication    August 1, 2018   \n",
              "339       Everyone              Communication     July 25, 2018   \n",
              "\n",
              "            Current Ver         Android Ver  \n",
              "0                 1.0.0        4.0.3 and up  \n",
              "1                 2.0.0        4.0.3 and up  \n",
              "2                 1.2.4        4.0.3 and up  \n",
              "3    Varies with device          4.2 and up  \n",
              "4                   1.1          4.4 and up  \n",
              "..                  ...                 ...  \n",
              "335  Varies with device  Varies with device  \n",
              "336  Varies with device  Varies with device  \n",
              "337               1.8.9          4.1 and up  \n",
              "338  Varies with device  Varies with device  \n",
              "339        37.0.0.7.163          2.3 and up  \n",
              "\n",
              "[340 rows x 13 columns]"
            ],
            "text/html": [
              "\n",
              "  <div id=\"df-8ba5a594-c959-4c30-b617-44a061c29fd7\">\n",
              "    <div class=\"colab-df-container\">\n",
              "      <div>\n",
              "<style scoped>\n",
              "    .dataframe tbody tr th:only-of-type {\n",
              "        vertical-align: middle;\n",
              "    }\n",
              "\n",
              "    .dataframe tbody tr th {\n",
              "        vertical-align: top;\n",
              "    }\n",
              "\n",
              "    .dataframe thead th {\n",
              "        text-align: right;\n",
              "    }\n",
              "</style>\n",
              "<table border=\"1\" class=\"dataframe\">\n",
              "  <thead>\n",
              "    <tr style=\"text-align: right;\">\n",
              "      <th></th>\n",
              "      <th>App</th>\n",
              "      <th>Category</th>\n",
              "      <th>Rating</th>\n",
              "      <th>Reviews</th>\n",
              "      <th>Size</th>\n",
              "      <th>Installs</th>\n",
              "      <th>Type</th>\n",
              "      <th>Price</th>\n",
              "      <th>Content Rating</th>\n",
              "      <th>Genres</th>\n",
              "      <th>Last Updated</th>\n",
              "      <th>Current Ver</th>\n",
              "      <th>Android Ver</th>\n",
              "    </tr>\n",
              "  </thead>\n",
              "  <tbody>\n",
              "    <tr>\n",
              "      <th>0</th>\n",
              "      <td>Photo Editor &amp; Candy Camera &amp; Grid &amp; ScrapBook</td>\n",
              "      <td>ART_AND_DESIGN</td>\n",
              "      <td>4.1</td>\n",
              "      <td>159</td>\n",
              "      <td>19M</td>\n",
              "      <td>10,000+</td>\n",
              "      <td>Free</td>\n",
              "      <td>0</td>\n",
              "      <td>Everyone</td>\n",
              "      <td>Art &amp; Design</td>\n",
              "      <td>January 7, 2018</td>\n",
              "      <td>1.0.0</td>\n",
              "      <td>4.0.3 and up</td>\n",
              "    </tr>\n",
              "    <tr>\n",
              "      <th>1</th>\n",
              "      <td>Coloring book moana</td>\n",
              "      <td>ART_AND_DESIGN</td>\n",
              "      <td>3.9</td>\n",
              "      <td>967</td>\n",
              "      <td>14M</td>\n",
              "      <td>500,000+</td>\n",
              "      <td>Free</td>\n",
              "      <td>0</td>\n",
              "      <td>Everyone</td>\n",
              "      <td>Art &amp; Design;Pretend Play</td>\n",
              "      <td>January 15, 2018</td>\n",
              "      <td>2.0.0</td>\n",
              "      <td>4.0.3 and up</td>\n",
              "    </tr>\n",
              "    <tr>\n",
              "      <th>2</th>\n",
              "      <td>U Launcher Lite – FREE Live Cool Themes, Hide ...</td>\n",
              "      <td>ART_AND_DESIGN</td>\n",
              "      <td>4.7</td>\n",
              "      <td>87510</td>\n",
              "      <td>8.7M</td>\n",
              "      <td>5,000,000+</td>\n",
              "      <td>Free</td>\n",
              "      <td>0</td>\n",
              "      <td>Everyone</td>\n",
              "      <td>Art &amp; Design</td>\n",
              "      <td>August 1, 2018</td>\n",
              "      <td>1.2.4</td>\n",
              "      <td>4.0.3 and up</td>\n",
              "    </tr>\n",
              "    <tr>\n",
              "      <th>3</th>\n",
              "      <td>Sketch - Draw &amp; Paint</td>\n",
              "      <td>ART_AND_DESIGN</td>\n",
              "      <td>4.5</td>\n",
              "      <td>215644</td>\n",
              "      <td>25M</td>\n",
              "      <td>50,000,000+</td>\n",
              "      <td>Free</td>\n",
              "      <td>0</td>\n",
              "      <td>Teen</td>\n",
              "      <td>Art &amp; Design</td>\n",
              "      <td>June 8, 2018</td>\n",
              "      <td>Varies with device</td>\n",
              "      <td>4.2 and up</td>\n",
              "    </tr>\n",
              "    <tr>\n",
              "      <th>4</th>\n",
              "      <td>Pixel Draw - Number Art Coloring Book</td>\n",
              "      <td>ART_AND_DESIGN</td>\n",
              "      <td>4.3</td>\n",
              "      <td>967</td>\n",
              "      <td>2.8M</td>\n",
              "      <td>100,000+</td>\n",
              "      <td>Free</td>\n",
              "      <td>0</td>\n",
              "      <td>Everyone</td>\n",
              "      <td>Art &amp; Design;Creativity</td>\n",
              "      <td>June 20, 2018</td>\n",
              "      <td>1.1</td>\n",
              "      <td>4.4 and up</td>\n",
              "    </tr>\n",
              "    <tr>\n",
              "      <th>...</th>\n",
              "      <td>...</td>\n",
              "      <td>...</td>\n",
              "      <td>...</td>\n",
              "      <td>...</td>\n",
              "      <td>...</td>\n",
              "      <td>...</td>\n",
              "      <td>...</td>\n",
              "      <td>...</td>\n",
              "      <td>...</td>\n",
              "      <td>...</td>\n",
              "      <td>...</td>\n",
              "      <td>...</td>\n",
              "      <td>...</td>\n",
              "    </tr>\n",
              "    <tr>\n",
              "      <th>335</th>\n",
              "      <td>Messenger – Text and Video Chat for Free</td>\n",
              "      <td>COMMUNICATION</td>\n",
              "      <td>4.0</td>\n",
              "      <td>56642847</td>\n",
              "      <td>Varies with device</td>\n",
              "      <td>1,000,000,000+</td>\n",
              "      <td>Free</td>\n",
              "      <td>0</td>\n",
              "      <td>Everyone</td>\n",
              "      <td>Communication</td>\n",
              "      <td>August 1, 2018</td>\n",
              "      <td>Varies with device</td>\n",
              "      <td>Varies with device</td>\n",
              "    </tr>\n",
              "    <tr>\n",
              "      <th>336</th>\n",
              "      <td>WhatsApp Messenger</td>\n",
              "      <td>COMMUNICATION</td>\n",
              "      <td>4.4</td>\n",
              "      <td>69119316</td>\n",
              "      <td>Varies with device</td>\n",
              "      <td>1,000,000,000+</td>\n",
              "      <td>Free</td>\n",
              "      <td>0</td>\n",
              "      <td>Everyone</td>\n",
              "      <td>Communication</td>\n",
              "      <td>August 3, 2018</td>\n",
              "      <td>Varies with device</td>\n",
              "      <td>Varies with device</td>\n",
              "    </tr>\n",
              "    <tr>\n",
              "      <th>337</th>\n",
              "      <td>Messenger for SMS</td>\n",
              "      <td>COMMUNICATION</td>\n",
              "      <td>4.3</td>\n",
              "      <td>125257</td>\n",
              "      <td>17M</td>\n",
              "      <td>10,000,000+</td>\n",
              "      <td>Free</td>\n",
              "      <td>0</td>\n",
              "      <td>Teen</td>\n",
              "      <td>Communication</td>\n",
              "      <td>June 6, 2018</td>\n",
              "      <td>1.8.9</td>\n",
              "      <td>4.1 and up</td>\n",
              "    </tr>\n",
              "    <tr>\n",
              "      <th>338</th>\n",
              "      <td>Google Chrome: Fast &amp; Secure</td>\n",
              "      <td>COMMUNICATION</td>\n",
              "      <td>4.3</td>\n",
              "      <td>9642995</td>\n",
              "      <td>Varies with device</td>\n",
              "      <td>1,000,000,000+</td>\n",
              "      <td>Free</td>\n",
              "      <td>0</td>\n",
              "      <td>Everyone</td>\n",
              "      <td>Communication</td>\n",
              "      <td>August 1, 2018</td>\n",
              "      <td>Varies with device</td>\n",
              "      <td>Varies with device</td>\n",
              "    </tr>\n",
              "    <tr>\n",
              "      <th>339</th>\n",
              "      <td>Messenger Lite: Free Calls &amp; Messages</td>\n",
              "      <td>COMMUNICATION</td>\n",
              "      <td>4.4</td>\n",
              "      <td>1429035</td>\n",
              "      <td>Varies with device</td>\n",
              "      <td>100,000,000+</td>\n",
              "      <td>Free</td>\n",
              "      <td>0</td>\n",
              "      <td>Everyone</td>\n",
              "      <td>Communication</td>\n",
              "      <td>July 25, 2018</td>\n",
              "      <td>37.0.0.7.163</td>\n",
              "      <td>2.3 and up</td>\n",
              "    </tr>\n",
              "  </tbody>\n",
              "</table>\n",
              "<p>340 rows × 13 columns</p>\n",
              "</div>\n",
              "      <button class=\"colab-df-convert\" onclick=\"convertToInteractive('df-8ba5a594-c959-4c30-b617-44a061c29fd7')\"\n",
              "              title=\"Convert this dataframe to an interactive table.\"\n",
              "              style=\"display:none;\">\n",
              "        \n",
              "  <svg xmlns=\"http://www.w3.org/2000/svg\" height=\"24px\"viewBox=\"0 0 24 24\"\n",
              "       width=\"24px\">\n",
              "    <path d=\"M0 0h24v24H0V0z\" fill=\"none\"/>\n",
              "    <path d=\"M18.56 5.44l.94 2.06.94-2.06 2.06-.94-2.06-.94-.94-2.06-.94 2.06-2.06.94zm-11 1L8.5 8.5l.94-2.06 2.06-.94-2.06-.94L8.5 2.5l-.94 2.06-2.06.94zm10 10l.94 2.06.94-2.06 2.06-.94-2.06-.94-.94-2.06-.94 2.06-2.06.94z\"/><path d=\"M17.41 7.96l-1.37-1.37c-.4-.4-.92-.59-1.43-.59-.52 0-1.04.2-1.43.59L10.3 9.45l-7.72 7.72c-.78.78-.78 2.05 0 2.83L4 21.41c.39.39.9.59 1.41.59.51 0 1.02-.2 1.41-.59l7.78-7.78 2.81-2.81c.8-.78.8-2.07 0-2.86zM5.41 20L4 18.59l7.72-7.72 1.47 1.35L5.41 20z\"/>\n",
              "  </svg>\n",
              "      </button>\n",
              "      \n",
              "  <style>\n",
              "    .colab-df-container {\n",
              "      display:flex;\n",
              "      flex-wrap:wrap;\n",
              "      gap: 12px;\n",
              "    }\n",
              "\n",
              "    .colab-df-convert {\n",
              "      background-color: #E8F0FE;\n",
              "      border: none;\n",
              "      border-radius: 50%;\n",
              "      cursor: pointer;\n",
              "      display: none;\n",
              "      fill: #1967D2;\n",
              "      height: 32px;\n",
              "      padding: 0 0 0 0;\n",
              "      width: 32px;\n",
              "    }\n",
              "\n",
              "    .colab-df-convert:hover {\n",
              "      background-color: #E2EBFA;\n",
              "      box-shadow: 0px 1px 2px rgba(60, 64, 67, 0.3), 0px 1px 3px 1px rgba(60, 64, 67, 0.15);\n",
              "      fill: #174EA6;\n",
              "    }\n",
              "\n",
              "    [theme=dark] .colab-df-convert {\n",
              "      background-color: #3B4455;\n",
              "      fill: #D2E3FC;\n",
              "    }\n",
              "\n",
              "    [theme=dark] .colab-df-convert:hover {\n",
              "      background-color: #434B5C;\n",
              "      box-shadow: 0px 1px 3px 1px rgba(0, 0, 0, 0.15);\n",
              "      filter: drop-shadow(0px 1px 2px rgba(0, 0, 0, 0.3));\n",
              "      fill: #FFFFFF;\n",
              "    }\n",
              "  </style>\n",
              "\n",
              "      <script>\n",
              "        const buttonEl =\n",
              "          document.querySelector('#df-8ba5a594-c959-4c30-b617-44a061c29fd7 button.colab-df-convert');\n",
              "        buttonEl.style.display =\n",
              "          google.colab.kernel.accessAllowed ? 'block' : 'none';\n",
              "\n",
              "        async function convertToInteractive(key) {\n",
              "          const element = document.querySelector('#df-8ba5a594-c959-4c30-b617-44a061c29fd7');\n",
              "          const dataTable =\n",
              "            await google.colab.kernel.invokeFunction('convertToInteractive',\n",
              "                                                     [key], {});\n",
              "          if (!dataTable) return;\n",
              "\n",
              "          const docLinkHtml = 'Like what you see? Visit the ' +\n",
              "            '<a target=\"_blank\" href=https://colab.research.google.com/notebooks/data_table.ipynb>data table notebook</a>'\n",
              "            + ' to learn more about interactive tables.';\n",
              "          element.innerHTML = '';\n",
              "          dataTable['output_type'] = 'display_data';\n",
              "          await google.colab.output.renderOutput(dataTable, element);\n",
              "          const docLink = document.createElement('div');\n",
              "          docLink.innerHTML = docLinkHtml;\n",
              "          element.appendChild(docLink);\n",
              "        }\n",
              "      </script>\n",
              "    </div>\n",
              "  </div>\n",
              "  "
            ]
          },
          "metadata": {},
          "execution_count": 18
        }
      ],
      "source": [
        "df.head(340)"
      ]
    },
    {
      "cell_type": "markdown",
      "metadata": {
        "id": "QieqI18JIsTF"
      },
      "source": [
        "**Play store data frame has 13 rows and 10841 columns**\n",
        "\n",
        "**App**- It will tell about the name of apps in data frame \n",
        "\n",
        "**category** -It tells the app catagory \n",
        "\n",
        "**Rating** - In this we will know about the rating of app \n",
        "\n",
        "**Reviews** - It tell us the reviews give by the users \n",
        "\n",
        "**Size** - It tells us about the size of application in our moblie phone \n",
        "\n",
        "**Installs** - It will lets us know about the downloads\n",
        "\n",
        "**Type**- Tell us the app is free or paid \n",
        "\n",
        "**Price**- It will  give us the app price and for free app it will give Zero\n",
        "\n",
        "**content rating** - It will tell us the app can be used by everyone or by teen \n",
        "\n",
        "**Genres**-it tells us about the various other categories to which an application can belong.\n",
        "\n",
        "**Last updated**- It tells us when app updated \n",
        "\n",
        "**Current ver**- It tells us the updated version of the app \n",
        "\n",
        "**Android ver**- It tell us which android version is used by the app\n",
        "\n",
        "\n",
        "\n",
        "\n",
        "\n",
        "\n",
        "\n",
        "\n",
        "\n",
        "\n"
      ]
    },
    {
      "cell_type": "code",
      "execution_count": null,
      "metadata": {
        "colab": {
          "base_uri": "https://localhost:8080/"
        },
        "id": "Egr05pqlihYi",
        "outputId": "d573b235-7020-4820-e9ff-8532a5bfb5eb"
      },
      "outputs": [
        {
          "output_type": "stream",
          "name": "stdout",
          "text": [
            "<class 'pandas.core.frame.DataFrame'>\n",
            "RangeIndex: 10841 entries, 0 to 10840\n",
            "Data columns (total 13 columns):\n",
            " #   Column          Non-Null Count  Dtype  \n",
            "---  ------          --------------  -----  \n",
            " 0   App             10841 non-null  object \n",
            " 1   Category        10841 non-null  object \n",
            " 2   Rating          9367 non-null   float64\n",
            " 3   Reviews         10841 non-null  object \n",
            " 4   Size            10841 non-null  object \n",
            " 5   Installs        10841 non-null  object \n",
            " 6   Type            10840 non-null  object \n",
            " 7   Price           10841 non-null  object \n",
            " 8   Content Rating  10840 non-null  object \n",
            " 9   Genres          10841 non-null  object \n",
            " 10  Last Updated    10841 non-null  object \n",
            " 11  Current Ver     10833 non-null  object \n",
            " 12  Android Ver     10838 non-null  object \n",
            "dtypes: float64(1), object(12)\n",
            "memory usage: 1.1+ MB\n"
          ]
        }
      ],
      "source": [
        "#taking info of our data frame \n",
        "df.info()"
      ]
    },
    {
      "cell_type": "code",
      "execution_count": null,
      "metadata": {
        "colab": {
          "base_uri": "https://localhost:8080/"
        },
        "id": "_KZftYEkDOLe",
        "outputId": "f70948c5-5ce8-4459-f68f-2cb0386a9f7b"
      },
      "outputs": [
        {
          "output_type": "execute_result",
          "data": {
            "text/plain": [
              "                                                   App      Category  Rating  \\\n",
              "229                       Quick PDF Scanner + OCR FREE      BUSINESS     4.2   \n",
              "236                                                Box      BUSINESS     4.2   \n",
              "239                                 Google My Business      BUSINESS     4.4   \n",
              "256                                ZOOM Cloud Meetings      BUSINESS     4.4   \n",
              "261                          join.me - Simple Meetings      BUSINESS     4.0   \n",
              "...                                                ...           ...     ...   \n",
              "8643                    Wunderlist: To-Do List & Tasks  PRODUCTIVITY     4.6   \n",
              "8654   TickTick: To Do List with Reminder, Day Planner  PRODUCTIVITY     4.6   \n",
              "8658                           ColorNote Notepad Notes  PRODUCTIVITY     4.6   \n",
              "10049        Airway Ex - Intubate. Anesthetize. Train.       MEDICAL     4.3   \n",
              "10768                                             AAFP       MEDICAL     3.8   \n",
              "\n",
              "       Reviews                Size      Installs  Type Price Content Rating  \\\n",
              "229      80805  Varies with device    5,000,000+  Free     0       Everyone   \n",
              "236     159872  Varies with device   10,000,000+  Free     0       Everyone   \n",
              "239      70991  Varies with device    5,000,000+  Free     0       Everyone   \n",
              "256      31614                 37M   10,000,000+  Free     0       Everyone   \n",
              "261       6989  Varies with device    1,000,000+  Free     0       Everyone   \n",
              "...        ...                 ...           ...   ...   ...            ...   \n",
              "8643    404610  Varies with device   10,000,000+  Free     0       Everyone   \n",
              "8654     25370  Varies with device    1,000,000+  Free     0       Everyone   \n",
              "8658   2401017  Varies with device  100,000,000+  Free     0       Everyone   \n",
              "10049      123                 86M       10,000+  Free     0       Everyone   \n",
              "10768       63                 24M       10,000+  Free     0       Everyone   \n",
              "\n",
              "             Genres       Last Updated         Current Ver         Android Ver  \n",
              "229        Business  February 26, 2018  Varies with device        4.0.3 and up  \n",
              "236        Business      July 31, 2018  Varies with device  Varies with device  \n",
              "239        Business      July 24, 2018    2.19.0.204537701          4.4 and up  \n",
              "256        Business      July 20, 2018      4.1.28165.0716          4.0 and up  \n",
              "261        Business      July 16, 2018           4.3.0.508          4.4 and up  \n",
              "...             ...                ...                 ...                 ...  \n",
              "8643   Productivity      April 6, 2018  Varies with device  Varies with device  \n",
              "8654   Productivity     August 6, 2018  Varies with device  Varies with device  \n",
              "8658   Productivity      June 27, 2018  Varies with device  Varies with device  \n",
              "10049       Medical       June 1, 2018              0.6.88          5.0 and up  \n",
              "10768       Medical      June 22, 2018               2.3.1          5.0 and up  \n",
              "\n",
              "[483 rows x 13 columns]"
            ],
            "text/html": [
              "\n",
              "  <div id=\"df-8d0d1cc2-1b77-49f4-9ac2-445870bfe74a\">\n",
              "    <div class=\"colab-df-container\">\n",
              "      <div>\n",
              "<style scoped>\n",
              "    .dataframe tbody tr th:only-of-type {\n",
              "        vertical-align: middle;\n",
              "    }\n",
              "\n",
              "    .dataframe tbody tr th {\n",
              "        vertical-align: top;\n",
              "    }\n",
              "\n",
              "    .dataframe thead th {\n",
              "        text-align: right;\n",
              "    }\n",
              "</style>\n",
              "<table border=\"1\" class=\"dataframe\">\n",
              "  <thead>\n",
              "    <tr style=\"text-align: right;\">\n",
              "      <th></th>\n",
              "      <th>App</th>\n",
              "      <th>Category</th>\n",
              "      <th>Rating</th>\n",
              "      <th>Reviews</th>\n",
              "      <th>Size</th>\n",
              "      <th>Installs</th>\n",
              "      <th>Type</th>\n",
              "      <th>Price</th>\n",
              "      <th>Content Rating</th>\n",
              "      <th>Genres</th>\n",
              "      <th>Last Updated</th>\n",
              "      <th>Current Ver</th>\n",
              "      <th>Android Ver</th>\n",
              "    </tr>\n",
              "  </thead>\n",
              "  <tbody>\n",
              "    <tr>\n",
              "      <th>229</th>\n",
              "      <td>Quick PDF Scanner + OCR FREE</td>\n",
              "      <td>BUSINESS</td>\n",
              "      <td>4.2</td>\n",
              "      <td>80805</td>\n",
              "      <td>Varies with device</td>\n",
              "      <td>5,000,000+</td>\n",
              "      <td>Free</td>\n",
              "      <td>0</td>\n",
              "      <td>Everyone</td>\n",
              "      <td>Business</td>\n",
              "      <td>February 26, 2018</td>\n",
              "      <td>Varies with device</td>\n",
              "      <td>4.0.3 and up</td>\n",
              "    </tr>\n",
              "    <tr>\n",
              "      <th>236</th>\n",
              "      <td>Box</td>\n",
              "      <td>BUSINESS</td>\n",
              "      <td>4.2</td>\n",
              "      <td>159872</td>\n",
              "      <td>Varies with device</td>\n",
              "      <td>10,000,000+</td>\n",
              "      <td>Free</td>\n",
              "      <td>0</td>\n",
              "      <td>Everyone</td>\n",
              "      <td>Business</td>\n",
              "      <td>July 31, 2018</td>\n",
              "      <td>Varies with device</td>\n",
              "      <td>Varies with device</td>\n",
              "    </tr>\n",
              "    <tr>\n",
              "      <th>239</th>\n",
              "      <td>Google My Business</td>\n",
              "      <td>BUSINESS</td>\n",
              "      <td>4.4</td>\n",
              "      <td>70991</td>\n",
              "      <td>Varies with device</td>\n",
              "      <td>5,000,000+</td>\n",
              "      <td>Free</td>\n",
              "      <td>0</td>\n",
              "      <td>Everyone</td>\n",
              "      <td>Business</td>\n",
              "      <td>July 24, 2018</td>\n",
              "      <td>2.19.0.204537701</td>\n",
              "      <td>4.4 and up</td>\n",
              "    </tr>\n",
              "    <tr>\n",
              "      <th>256</th>\n",
              "      <td>ZOOM Cloud Meetings</td>\n",
              "      <td>BUSINESS</td>\n",
              "      <td>4.4</td>\n",
              "      <td>31614</td>\n",
              "      <td>37M</td>\n",
              "      <td>10,000,000+</td>\n",
              "      <td>Free</td>\n",
              "      <td>0</td>\n",
              "      <td>Everyone</td>\n",
              "      <td>Business</td>\n",
              "      <td>July 20, 2018</td>\n",
              "      <td>4.1.28165.0716</td>\n",
              "      <td>4.0 and up</td>\n",
              "    </tr>\n",
              "    <tr>\n",
              "      <th>261</th>\n",
              "      <td>join.me - Simple Meetings</td>\n",
              "      <td>BUSINESS</td>\n",
              "      <td>4.0</td>\n",
              "      <td>6989</td>\n",
              "      <td>Varies with device</td>\n",
              "      <td>1,000,000+</td>\n",
              "      <td>Free</td>\n",
              "      <td>0</td>\n",
              "      <td>Everyone</td>\n",
              "      <td>Business</td>\n",
              "      <td>July 16, 2018</td>\n",
              "      <td>4.3.0.508</td>\n",
              "      <td>4.4 and up</td>\n",
              "    </tr>\n",
              "    <tr>\n",
              "      <th>...</th>\n",
              "      <td>...</td>\n",
              "      <td>...</td>\n",
              "      <td>...</td>\n",
              "      <td>...</td>\n",
              "      <td>...</td>\n",
              "      <td>...</td>\n",
              "      <td>...</td>\n",
              "      <td>...</td>\n",
              "      <td>...</td>\n",
              "      <td>...</td>\n",
              "      <td>...</td>\n",
              "      <td>...</td>\n",
              "      <td>...</td>\n",
              "    </tr>\n",
              "    <tr>\n",
              "      <th>8643</th>\n",
              "      <td>Wunderlist: To-Do List &amp; Tasks</td>\n",
              "      <td>PRODUCTIVITY</td>\n",
              "      <td>4.6</td>\n",
              "      <td>404610</td>\n",
              "      <td>Varies with device</td>\n",
              "      <td>10,000,000+</td>\n",
              "      <td>Free</td>\n",
              "      <td>0</td>\n",
              "      <td>Everyone</td>\n",
              "      <td>Productivity</td>\n",
              "      <td>April 6, 2018</td>\n",
              "      <td>Varies with device</td>\n",
              "      <td>Varies with device</td>\n",
              "    </tr>\n",
              "    <tr>\n",
              "      <th>8654</th>\n",
              "      <td>TickTick: To Do List with Reminder, Day Planner</td>\n",
              "      <td>PRODUCTIVITY</td>\n",
              "      <td>4.6</td>\n",
              "      <td>25370</td>\n",
              "      <td>Varies with device</td>\n",
              "      <td>1,000,000+</td>\n",
              "      <td>Free</td>\n",
              "      <td>0</td>\n",
              "      <td>Everyone</td>\n",
              "      <td>Productivity</td>\n",
              "      <td>August 6, 2018</td>\n",
              "      <td>Varies with device</td>\n",
              "      <td>Varies with device</td>\n",
              "    </tr>\n",
              "    <tr>\n",
              "      <th>8658</th>\n",
              "      <td>ColorNote Notepad Notes</td>\n",
              "      <td>PRODUCTIVITY</td>\n",
              "      <td>4.6</td>\n",
              "      <td>2401017</td>\n",
              "      <td>Varies with device</td>\n",
              "      <td>100,000,000+</td>\n",
              "      <td>Free</td>\n",
              "      <td>0</td>\n",
              "      <td>Everyone</td>\n",
              "      <td>Productivity</td>\n",
              "      <td>June 27, 2018</td>\n",
              "      <td>Varies with device</td>\n",
              "      <td>Varies with device</td>\n",
              "    </tr>\n",
              "    <tr>\n",
              "      <th>10049</th>\n",
              "      <td>Airway Ex - Intubate. Anesthetize. Train.</td>\n",
              "      <td>MEDICAL</td>\n",
              "      <td>4.3</td>\n",
              "      <td>123</td>\n",
              "      <td>86M</td>\n",
              "      <td>10,000+</td>\n",
              "      <td>Free</td>\n",
              "      <td>0</td>\n",
              "      <td>Everyone</td>\n",
              "      <td>Medical</td>\n",
              "      <td>June 1, 2018</td>\n",
              "      <td>0.6.88</td>\n",
              "      <td>5.0 and up</td>\n",
              "    </tr>\n",
              "    <tr>\n",
              "      <th>10768</th>\n",
              "      <td>AAFP</td>\n",
              "      <td>MEDICAL</td>\n",
              "      <td>3.8</td>\n",
              "      <td>63</td>\n",
              "      <td>24M</td>\n",
              "      <td>10,000+</td>\n",
              "      <td>Free</td>\n",
              "      <td>0</td>\n",
              "      <td>Everyone</td>\n",
              "      <td>Medical</td>\n",
              "      <td>June 22, 2018</td>\n",
              "      <td>2.3.1</td>\n",
              "      <td>5.0 and up</td>\n",
              "    </tr>\n",
              "  </tbody>\n",
              "</table>\n",
              "<p>483 rows × 13 columns</p>\n",
              "</div>\n",
              "      <button class=\"colab-df-convert\" onclick=\"convertToInteractive('df-8d0d1cc2-1b77-49f4-9ac2-445870bfe74a')\"\n",
              "              title=\"Convert this dataframe to an interactive table.\"\n",
              "              style=\"display:none;\">\n",
              "        \n",
              "  <svg xmlns=\"http://www.w3.org/2000/svg\" height=\"24px\"viewBox=\"0 0 24 24\"\n",
              "       width=\"24px\">\n",
              "    <path d=\"M0 0h24v24H0V0z\" fill=\"none\"/>\n",
              "    <path d=\"M18.56 5.44l.94 2.06.94-2.06 2.06-.94-2.06-.94-.94-2.06-.94 2.06-2.06.94zm-11 1L8.5 8.5l.94-2.06 2.06-.94-2.06-.94L8.5 2.5l-.94 2.06-2.06.94zm10 10l.94 2.06.94-2.06 2.06-.94-2.06-.94-.94-2.06-.94 2.06-2.06.94z\"/><path d=\"M17.41 7.96l-1.37-1.37c-.4-.4-.92-.59-1.43-.59-.52 0-1.04.2-1.43.59L10.3 9.45l-7.72 7.72c-.78.78-.78 2.05 0 2.83L4 21.41c.39.39.9.59 1.41.59.51 0 1.02-.2 1.41-.59l7.78-7.78 2.81-2.81c.8-.78.8-2.07 0-2.86zM5.41 20L4 18.59l7.72-7.72 1.47 1.35L5.41 20z\"/>\n",
              "  </svg>\n",
              "      </button>\n",
              "      \n",
              "  <style>\n",
              "    .colab-df-container {\n",
              "      display:flex;\n",
              "      flex-wrap:wrap;\n",
              "      gap: 12px;\n",
              "    }\n",
              "\n",
              "    .colab-df-convert {\n",
              "      background-color: #E8F0FE;\n",
              "      border: none;\n",
              "      border-radius: 50%;\n",
              "      cursor: pointer;\n",
              "      display: none;\n",
              "      fill: #1967D2;\n",
              "      height: 32px;\n",
              "      padding: 0 0 0 0;\n",
              "      width: 32px;\n",
              "    }\n",
              "\n",
              "    .colab-df-convert:hover {\n",
              "      background-color: #E2EBFA;\n",
              "      box-shadow: 0px 1px 2px rgba(60, 64, 67, 0.3), 0px 1px 3px 1px rgba(60, 64, 67, 0.15);\n",
              "      fill: #174EA6;\n",
              "    }\n",
              "\n",
              "    [theme=dark] .colab-df-convert {\n",
              "      background-color: #3B4455;\n",
              "      fill: #D2E3FC;\n",
              "    }\n",
              "\n",
              "    [theme=dark] .colab-df-convert:hover {\n",
              "      background-color: #434B5C;\n",
              "      box-shadow: 0px 1px 3px 1px rgba(0, 0, 0, 0.15);\n",
              "      filter: drop-shadow(0px 1px 2px rgba(0, 0, 0, 0.3));\n",
              "      fill: #FFFFFF;\n",
              "    }\n",
              "  </style>\n",
              "\n",
              "      <script>\n",
              "        const buttonEl =\n",
              "          document.querySelector('#df-8d0d1cc2-1b77-49f4-9ac2-445870bfe74a button.colab-df-convert');\n",
              "        buttonEl.style.display =\n",
              "          google.colab.kernel.accessAllowed ? 'block' : 'none';\n",
              "\n",
              "        async function convertToInteractive(key) {\n",
              "          const element = document.querySelector('#df-8d0d1cc2-1b77-49f4-9ac2-445870bfe74a');\n",
              "          const dataTable =\n",
              "            await google.colab.kernel.invokeFunction('convertToInteractive',\n",
              "                                                     [key], {});\n",
              "          if (!dataTable) return;\n",
              "\n",
              "          const docLinkHtml = 'Like what you see? Visit the ' +\n",
              "            '<a target=\"_blank\" href=https://colab.research.google.com/notebooks/data_table.ipynb>data table notebook</a>'\n",
              "            + ' to learn more about interactive tables.';\n",
              "          element.innerHTML = '';\n",
              "          dataTable['output_type'] = 'display_data';\n",
              "          await google.colab.output.renderOutput(dataTable, element);\n",
              "          const docLink = document.createElement('div');\n",
              "          docLink.innerHTML = docLinkHtml;\n",
              "          element.appendChild(docLink);\n",
              "        }\n",
              "      </script>\n",
              "    </div>\n",
              "  </div>\n",
              "  "
            ]
          },
          "metadata": {},
          "execution_count": 20
        }
      ],
      "source": [
        "# printing duplicate rows and coloumn \n",
        "df[df.duplicated()]"
      ]
    },
    {
      "cell_type": "markdown",
      "metadata": {
        "id": "b2imJmviEtI5"
      },
      "source": [
        "**we will take data of all Duplicate app and will drop them**"
      ]
    },
    {
      "cell_type": "code",
      "execution_count": null,
      "metadata": {
        "colab": {
          "base_uri": "https://localhost:8080/"
        },
        "id": "CZjSfkACGHgV",
        "outputId": "6fba04de-37f7-41e9-ae93-a219a7dc5a97"
      },
      "outputs": [
        {
          "output_type": "execute_result",
          "data": {
            "text/plain": [
              "                                                     App             Category  \\\n",
              "0         Photo Editor & Candy Camera & Grid & ScrapBook       ART_AND_DESIGN   \n",
              "1                                    Coloring book moana       ART_AND_DESIGN   \n",
              "2      U Launcher Lite – FREE Live Cool Themes, Hide ...       ART_AND_DESIGN   \n",
              "3                                  Sketch - Draw & Paint       ART_AND_DESIGN   \n",
              "4                  Pixel Draw - Number Art Coloring Book       ART_AND_DESIGN   \n",
              "...                                                  ...                  ...   \n",
              "10836                                   Sya9a Maroc - FR               FAMILY   \n",
              "10837                   Fr. Mike Schmitz Audio Teachings               FAMILY   \n",
              "10838                             Parkinson Exercices FR              MEDICAL   \n",
              "10839                      The SCP Foundation DB fr nn5n  BOOKS_AND_REFERENCE   \n",
              "10840      iHoroscope - 2018 Daily Horoscope & Astrology            LIFESTYLE   \n",
              "\n",
              "       Rating Reviews                Size     Installs  Type Price  \\\n",
              "0         4.1     159                 19M      10,000+  Free     0   \n",
              "1         3.9     967                 14M     500,000+  Free     0   \n",
              "2         4.7   87510                8.7M   5,000,000+  Free     0   \n",
              "3         4.5  215644                 25M  50,000,000+  Free     0   \n",
              "4         4.3     967                2.8M     100,000+  Free     0   \n",
              "...       ...     ...                 ...          ...   ...   ...   \n",
              "10836     4.5      38                 53M       5,000+  Free     0   \n",
              "10837     5.0       4                3.6M         100+  Free     0   \n",
              "10838     NaN       3                9.5M       1,000+  Free     0   \n",
              "10839     4.5     114  Varies with device       1,000+  Free     0   \n",
              "10840     4.5  398307                 19M  10,000,000+  Free     0   \n",
              "\n",
              "      Content Rating                     Genres      Last Updated  \\\n",
              "0           Everyone               Art & Design   January 7, 2018   \n",
              "1           Everyone  Art & Design;Pretend Play  January 15, 2018   \n",
              "2           Everyone               Art & Design    August 1, 2018   \n",
              "3               Teen               Art & Design      June 8, 2018   \n",
              "4           Everyone    Art & Design;Creativity     June 20, 2018   \n",
              "...              ...                        ...               ...   \n",
              "10836       Everyone                  Education     July 25, 2017   \n",
              "10837       Everyone                  Education      July 6, 2018   \n",
              "10838       Everyone                    Medical  January 20, 2017   \n",
              "10839     Mature 17+          Books & Reference  January 19, 2015   \n",
              "10840       Everyone                  Lifestyle     July 25, 2018   \n",
              "\n",
              "              Current Ver         Android Ver  \n",
              "0                   1.0.0        4.0.3 and up  \n",
              "1                   2.0.0        4.0.3 and up  \n",
              "2                   1.2.4        4.0.3 and up  \n",
              "3      Varies with device          4.2 and up  \n",
              "4                     1.1          4.4 and up  \n",
              "...                   ...                 ...  \n",
              "10836                1.48          4.1 and up  \n",
              "10837                 1.0          4.1 and up  \n",
              "10838                 1.0          2.2 and up  \n",
              "10839  Varies with device  Varies with device  \n",
              "10840  Varies with device  Varies with device  \n",
              "\n",
              "[10358 rows x 13 columns]"
            ],
            "text/html": [
              "\n",
              "  <div id=\"df-8105d045-3b2f-47f7-b3d9-8df1de0d6e37\">\n",
              "    <div class=\"colab-df-container\">\n",
              "      <div>\n",
              "<style scoped>\n",
              "    .dataframe tbody tr th:only-of-type {\n",
              "        vertical-align: middle;\n",
              "    }\n",
              "\n",
              "    .dataframe tbody tr th {\n",
              "        vertical-align: top;\n",
              "    }\n",
              "\n",
              "    .dataframe thead th {\n",
              "        text-align: right;\n",
              "    }\n",
              "</style>\n",
              "<table border=\"1\" class=\"dataframe\">\n",
              "  <thead>\n",
              "    <tr style=\"text-align: right;\">\n",
              "      <th></th>\n",
              "      <th>App</th>\n",
              "      <th>Category</th>\n",
              "      <th>Rating</th>\n",
              "      <th>Reviews</th>\n",
              "      <th>Size</th>\n",
              "      <th>Installs</th>\n",
              "      <th>Type</th>\n",
              "      <th>Price</th>\n",
              "      <th>Content Rating</th>\n",
              "      <th>Genres</th>\n",
              "      <th>Last Updated</th>\n",
              "      <th>Current Ver</th>\n",
              "      <th>Android Ver</th>\n",
              "    </tr>\n",
              "  </thead>\n",
              "  <tbody>\n",
              "    <tr>\n",
              "      <th>0</th>\n",
              "      <td>Photo Editor &amp; Candy Camera &amp; Grid &amp; ScrapBook</td>\n",
              "      <td>ART_AND_DESIGN</td>\n",
              "      <td>4.1</td>\n",
              "      <td>159</td>\n",
              "      <td>19M</td>\n",
              "      <td>10,000+</td>\n",
              "      <td>Free</td>\n",
              "      <td>0</td>\n",
              "      <td>Everyone</td>\n",
              "      <td>Art &amp; Design</td>\n",
              "      <td>January 7, 2018</td>\n",
              "      <td>1.0.0</td>\n",
              "      <td>4.0.3 and up</td>\n",
              "    </tr>\n",
              "    <tr>\n",
              "      <th>1</th>\n",
              "      <td>Coloring book moana</td>\n",
              "      <td>ART_AND_DESIGN</td>\n",
              "      <td>3.9</td>\n",
              "      <td>967</td>\n",
              "      <td>14M</td>\n",
              "      <td>500,000+</td>\n",
              "      <td>Free</td>\n",
              "      <td>0</td>\n",
              "      <td>Everyone</td>\n",
              "      <td>Art &amp; Design;Pretend Play</td>\n",
              "      <td>January 15, 2018</td>\n",
              "      <td>2.0.0</td>\n",
              "      <td>4.0.3 and up</td>\n",
              "    </tr>\n",
              "    <tr>\n",
              "      <th>2</th>\n",
              "      <td>U Launcher Lite – FREE Live Cool Themes, Hide ...</td>\n",
              "      <td>ART_AND_DESIGN</td>\n",
              "      <td>4.7</td>\n",
              "      <td>87510</td>\n",
              "      <td>8.7M</td>\n",
              "      <td>5,000,000+</td>\n",
              "      <td>Free</td>\n",
              "      <td>0</td>\n",
              "      <td>Everyone</td>\n",
              "      <td>Art &amp; Design</td>\n",
              "      <td>August 1, 2018</td>\n",
              "      <td>1.2.4</td>\n",
              "      <td>4.0.3 and up</td>\n",
              "    </tr>\n",
              "    <tr>\n",
              "      <th>3</th>\n",
              "      <td>Sketch - Draw &amp; Paint</td>\n",
              "      <td>ART_AND_DESIGN</td>\n",
              "      <td>4.5</td>\n",
              "      <td>215644</td>\n",
              "      <td>25M</td>\n",
              "      <td>50,000,000+</td>\n",
              "      <td>Free</td>\n",
              "      <td>0</td>\n",
              "      <td>Teen</td>\n",
              "      <td>Art &amp; Design</td>\n",
              "      <td>June 8, 2018</td>\n",
              "      <td>Varies with device</td>\n",
              "      <td>4.2 and up</td>\n",
              "    </tr>\n",
              "    <tr>\n",
              "      <th>4</th>\n",
              "      <td>Pixel Draw - Number Art Coloring Book</td>\n",
              "      <td>ART_AND_DESIGN</td>\n",
              "      <td>4.3</td>\n",
              "      <td>967</td>\n",
              "      <td>2.8M</td>\n",
              "      <td>100,000+</td>\n",
              "      <td>Free</td>\n",
              "      <td>0</td>\n",
              "      <td>Everyone</td>\n",
              "      <td>Art &amp; Design;Creativity</td>\n",
              "      <td>June 20, 2018</td>\n",
              "      <td>1.1</td>\n",
              "      <td>4.4 and up</td>\n",
              "    </tr>\n",
              "    <tr>\n",
              "      <th>...</th>\n",
              "      <td>...</td>\n",
              "      <td>...</td>\n",
              "      <td>...</td>\n",
              "      <td>...</td>\n",
              "      <td>...</td>\n",
              "      <td>...</td>\n",
              "      <td>...</td>\n",
              "      <td>...</td>\n",
              "      <td>...</td>\n",
              "      <td>...</td>\n",
              "      <td>...</td>\n",
              "      <td>...</td>\n",
              "      <td>...</td>\n",
              "    </tr>\n",
              "    <tr>\n",
              "      <th>10836</th>\n",
              "      <td>Sya9a Maroc - FR</td>\n",
              "      <td>FAMILY</td>\n",
              "      <td>4.5</td>\n",
              "      <td>38</td>\n",
              "      <td>53M</td>\n",
              "      <td>5,000+</td>\n",
              "      <td>Free</td>\n",
              "      <td>0</td>\n",
              "      <td>Everyone</td>\n",
              "      <td>Education</td>\n",
              "      <td>July 25, 2017</td>\n",
              "      <td>1.48</td>\n",
              "      <td>4.1 and up</td>\n",
              "    </tr>\n",
              "    <tr>\n",
              "      <th>10837</th>\n",
              "      <td>Fr. Mike Schmitz Audio Teachings</td>\n",
              "      <td>FAMILY</td>\n",
              "      <td>5.0</td>\n",
              "      <td>4</td>\n",
              "      <td>3.6M</td>\n",
              "      <td>100+</td>\n",
              "      <td>Free</td>\n",
              "      <td>0</td>\n",
              "      <td>Everyone</td>\n",
              "      <td>Education</td>\n",
              "      <td>July 6, 2018</td>\n",
              "      <td>1.0</td>\n",
              "      <td>4.1 and up</td>\n",
              "    </tr>\n",
              "    <tr>\n",
              "      <th>10838</th>\n",
              "      <td>Parkinson Exercices FR</td>\n",
              "      <td>MEDICAL</td>\n",
              "      <td>NaN</td>\n",
              "      <td>3</td>\n",
              "      <td>9.5M</td>\n",
              "      <td>1,000+</td>\n",
              "      <td>Free</td>\n",
              "      <td>0</td>\n",
              "      <td>Everyone</td>\n",
              "      <td>Medical</td>\n",
              "      <td>January 20, 2017</td>\n",
              "      <td>1.0</td>\n",
              "      <td>2.2 and up</td>\n",
              "    </tr>\n",
              "    <tr>\n",
              "      <th>10839</th>\n",
              "      <td>The SCP Foundation DB fr nn5n</td>\n",
              "      <td>BOOKS_AND_REFERENCE</td>\n",
              "      <td>4.5</td>\n",
              "      <td>114</td>\n",
              "      <td>Varies with device</td>\n",
              "      <td>1,000+</td>\n",
              "      <td>Free</td>\n",
              "      <td>0</td>\n",
              "      <td>Mature 17+</td>\n",
              "      <td>Books &amp; Reference</td>\n",
              "      <td>January 19, 2015</td>\n",
              "      <td>Varies with device</td>\n",
              "      <td>Varies with device</td>\n",
              "    </tr>\n",
              "    <tr>\n",
              "      <th>10840</th>\n",
              "      <td>iHoroscope - 2018 Daily Horoscope &amp; Astrology</td>\n",
              "      <td>LIFESTYLE</td>\n",
              "      <td>4.5</td>\n",
              "      <td>398307</td>\n",
              "      <td>19M</td>\n",
              "      <td>10,000,000+</td>\n",
              "      <td>Free</td>\n",
              "      <td>0</td>\n",
              "      <td>Everyone</td>\n",
              "      <td>Lifestyle</td>\n",
              "      <td>July 25, 2018</td>\n",
              "      <td>Varies with device</td>\n",
              "      <td>Varies with device</td>\n",
              "    </tr>\n",
              "  </tbody>\n",
              "</table>\n",
              "<p>10358 rows × 13 columns</p>\n",
              "</div>\n",
              "      <button class=\"colab-df-convert\" onclick=\"convertToInteractive('df-8105d045-3b2f-47f7-b3d9-8df1de0d6e37')\"\n",
              "              title=\"Convert this dataframe to an interactive table.\"\n",
              "              style=\"display:none;\">\n",
              "        \n",
              "  <svg xmlns=\"http://www.w3.org/2000/svg\" height=\"24px\"viewBox=\"0 0 24 24\"\n",
              "       width=\"24px\">\n",
              "    <path d=\"M0 0h24v24H0V0z\" fill=\"none\"/>\n",
              "    <path d=\"M18.56 5.44l.94 2.06.94-2.06 2.06-.94-2.06-.94-.94-2.06-.94 2.06-2.06.94zm-11 1L8.5 8.5l.94-2.06 2.06-.94-2.06-.94L8.5 2.5l-.94 2.06-2.06.94zm10 10l.94 2.06.94-2.06 2.06-.94-2.06-.94-.94-2.06-.94 2.06-2.06.94z\"/><path d=\"M17.41 7.96l-1.37-1.37c-.4-.4-.92-.59-1.43-.59-.52 0-1.04.2-1.43.59L10.3 9.45l-7.72 7.72c-.78.78-.78 2.05 0 2.83L4 21.41c.39.39.9.59 1.41.59.51 0 1.02-.2 1.41-.59l7.78-7.78 2.81-2.81c.8-.78.8-2.07 0-2.86zM5.41 20L4 18.59l7.72-7.72 1.47 1.35L5.41 20z\"/>\n",
              "  </svg>\n",
              "      </button>\n",
              "      \n",
              "  <style>\n",
              "    .colab-df-container {\n",
              "      display:flex;\n",
              "      flex-wrap:wrap;\n",
              "      gap: 12px;\n",
              "    }\n",
              "\n",
              "    .colab-df-convert {\n",
              "      background-color: #E8F0FE;\n",
              "      border: none;\n",
              "      border-radius: 50%;\n",
              "      cursor: pointer;\n",
              "      display: none;\n",
              "      fill: #1967D2;\n",
              "      height: 32px;\n",
              "      padding: 0 0 0 0;\n",
              "      width: 32px;\n",
              "    }\n",
              "\n",
              "    .colab-df-convert:hover {\n",
              "      background-color: #E2EBFA;\n",
              "      box-shadow: 0px 1px 2px rgba(60, 64, 67, 0.3), 0px 1px 3px 1px rgba(60, 64, 67, 0.15);\n",
              "      fill: #174EA6;\n",
              "    }\n",
              "\n",
              "    [theme=dark] .colab-df-convert {\n",
              "      background-color: #3B4455;\n",
              "      fill: #D2E3FC;\n",
              "    }\n",
              "\n",
              "    [theme=dark] .colab-df-convert:hover {\n",
              "      background-color: #434B5C;\n",
              "      box-shadow: 0px 1px 3px 1px rgba(0, 0, 0, 0.15);\n",
              "      filter: drop-shadow(0px 1px 2px rgba(0, 0, 0, 0.3));\n",
              "      fill: #FFFFFF;\n",
              "    }\n",
              "  </style>\n",
              "\n",
              "      <script>\n",
              "        const buttonEl =\n",
              "          document.querySelector('#df-8105d045-3b2f-47f7-b3d9-8df1de0d6e37 button.colab-df-convert');\n",
              "        buttonEl.style.display =\n",
              "          google.colab.kernel.accessAllowed ? 'block' : 'none';\n",
              "\n",
              "        async function convertToInteractive(key) {\n",
              "          const element = document.querySelector('#df-8105d045-3b2f-47f7-b3d9-8df1de0d6e37');\n",
              "          const dataTable =\n",
              "            await google.colab.kernel.invokeFunction('convertToInteractive',\n",
              "                                                     [key], {});\n",
              "          if (!dataTable) return;\n",
              "\n",
              "          const docLinkHtml = 'Like what you see? Visit the ' +\n",
              "            '<a target=\"_blank\" href=https://colab.research.google.com/notebooks/data_table.ipynb>data table notebook</a>'\n",
              "            + ' to learn more about interactive tables.';\n",
              "          element.innerHTML = '';\n",
              "          dataTable['output_type'] = 'display_data';\n",
              "          await google.colab.output.renderOutput(dataTable, element);\n",
              "          const docLink = document.createElement('div');\n",
              "          docLink.innerHTML = docLinkHtml;\n",
              "          element.appendChild(docLink);\n",
              "        }\n",
              "      </script>\n",
              "    </div>\n",
              "  </div>\n",
              "  "
            ]
          },
          "metadata": {},
          "execution_count": 21
        }
      ],
      "source": [
        "df.drop_duplicates()"
      ]
    },
    {
      "cell_type": "code",
      "execution_count": null,
      "metadata": {
        "colab": {
          "base_uri": "https://localhost:8080/"
        },
        "id": "s_DS7oVxHkwm",
        "outputId": "2488aa73-1830-4e43-e111-72c3a1e2e284"
      },
      "outputs": [
        {
          "output_type": "execute_result",
          "data": {
            "text/plain": [
              "                                                     App             Category  \\\n",
              "0         Photo Editor & Candy Camera & Grid & ScrapBook       ART_AND_DESIGN   \n",
              "1                                    Coloring book moana       ART_AND_DESIGN   \n",
              "2      U Launcher Lite – FREE Live Cool Themes, Hide ...       ART_AND_DESIGN   \n",
              "3                                  Sketch - Draw & Paint       ART_AND_DESIGN   \n",
              "4                  Pixel Draw - Number Art Coloring Book       ART_AND_DESIGN   \n",
              "...                                                  ...                  ...   \n",
              "10836                                   Sya9a Maroc - FR               FAMILY   \n",
              "10837                   Fr. Mike Schmitz Audio Teachings               FAMILY   \n",
              "10838                             Parkinson Exercices FR              MEDICAL   \n",
              "10839                      The SCP Foundation DB fr nn5n  BOOKS_AND_REFERENCE   \n",
              "10840      iHoroscope - 2018 Daily Horoscope & Astrology            LIFESTYLE   \n",
              "\n",
              "       Rating Reviews                Size     Installs  Type Price  \\\n",
              "0         4.1     159                 19M      10,000+  Free     0   \n",
              "1         3.9     967                 14M     500,000+  Free     0   \n",
              "2         4.7   87510                8.7M   5,000,000+  Free     0   \n",
              "3         4.5  215644                 25M  50,000,000+  Free     0   \n",
              "4         4.3     967                2.8M     100,000+  Free     0   \n",
              "...       ...     ...                 ...          ...   ...   ...   \n",
              "10836     4.5      38                 53M       5,000+  Free     0   \n",
              "10837     5.0       4                3.6M         100+  Free     0   \n",
              "10838     NaN       3                9.5M       1,000+  Free     0   \n",
              "10839     4.5     114  Varies with device       1,000+  Free     0   \n",
              "10840     4.5  398307                 19M  10,000,000+  Free     0   \n",
              "\n",
              "      Content Rating                     Genres      Last Updated  \\\n",
              "0           Everyone               Art & Design   January 7, 2018   \n",
              "1           Everyone  Art & Design;Pretend Play  January 15, 2018   \n",
              "2           Everyone               Art & Design    August 1, 2018   \n",
              "3               Teen               Art & Design      June 8, 2018   \n",
              "4           Everyone    Art & Design;Creativity     June 20, 2018   \n",
              "...              ...                        ...               ...   \n",
              "10836       Everyone                  Education     July 25, 2017   \n",
              "10837       Everyone                  Education      July 6, 2018   \n",
              "10838       Everyone                    Medical  January 20, 2017   \n",
              "10839     Mature 17+          Books & Reference  January 19, 2015   \n",
              "10840       Everyone                  Lifestyle     July 25, 2018   \n",
              "\n",
              "              Current Ver         Android Ver  \n",
              "0                   1.0.0        4.0.3 and up  \n",
              "1                   2.0.0        4.0.3 and up  \n",
              "2                   1.2.4        4.0.3 and up  \n",
              "3      Varies with device          4.2 and up  \n",
              "4                     1.1          4.4 and up  \n",
              "...                   ...                 ...  \n",
              "10836                1.48          4.1 and up  \n",
              "10837                 1.0          4.1 and up  \n",
              "10838                 1.0          2.2 and up  \n",
              "10839  Varies with device  Varies with device  \n",
              "10840  Varies with device  Varies with device  \n",
              "\n",
              "[9660 rows x 13 columns]"
            ],
            "text/html": [
              "\n",
              "  <div id=\"df-d501d1a2-2552-4fe3-a1f5-ff61daa9c53c\">\n",
              "    <div class=\"colab-df-container\">\n",
              "      <div>\n",
              "<style scoped>\n",
              "    .dataframe tbody tr th:only-of-type {\n",
              "        vertical-align: middle;\n",
              "    }\n",
              "\n",
              "    .dataframe tbody tr th {\n",
              "        vertical-align: top;\n",
              "    }\n",
              "\n",
              "    .dataframe thead th {\n",
              "        text-align: right;\n",
              "    }\n",
              "</style>\n",
              "<table border=\"1\" class=\"dataframe\">\n",
              "  <thead>\n",
              "    <tr style=\"text-align: right;\">\n",
              "      <th></th>\n",
              "      <th>App</th>\n",
              "      <th>Category</th>\n",
              "      <th>Rating</th>\n",
              "      <th>Reviews</th>\n",
              "      <th>Size</th>\n",
              "      <th>Installs</th>\n",
              "      <th>Type</th>\n",
              "      <th>Price</th>\n",
              "      <th>Content Rating</th>\n",
              "      <th>Genres</th>\n",
              "      <th>Last Updated</th>\n",
              "      <th>Current Ver</th>\n",
              "      <th>Android Ver</th>\n",
              "    </tr>\n",
              "  </thead>\n",
              "  <tbody>\n",
              "    <tr>\n",
              "      <th>0</th>\n",
              "      <td>Photo Editor &amp; Candy Camera &amp; Grid &amp; ScrapBook</td>\n",
              "      <td>ART_AND_DESIGN</td>\n",
              "      <td>4.1</td>\n",
              "      <td>159</td>\n",
              "      <td>19M</td>\n",
              "      <td>10,000+</td>\n",
              "      <td>Free</td>\n",
              "      <td>0</td>\n",
              "      <td>Everyone</td>\n",
              "      <td>Art &amp; Design</td>\n",
              "      <td>January 7, 2018</td>\n",
              "      <td>1.0.0</td>\n",
              "      <td>4.0.3 and up</td>\n",
              "    </tr>\n",
              "    <tr>\n",
              "      <th>1</th>\n",
              "      <td>Coloring book moana</td>\n",
              "      <td>ART_AND_DESIGN</td>\n",
              "      <td>3.9</td>\n",
              "      <td>967</td>\n",
              "      <td>14M</td>\n",
              "      <td>500,000+</td>\n",
              "      <td>Free</td>\n",
              "      <td>0</td>\n",
              "      <td>Everyone</td>\n",
              "      <td>Art &amp; Design;Pretend Play</td>\n",
              "      <td>January 15, 2018</td>\n",
              "      <td>2.0.0</td>\n",
              "      <td>4.0.3 and up</td>\n",
              "    </tr>\n",
              "    <tr>\n",
              "      <th>2</th>\n",
              "      <td>U Launcher Lite – FREE Live Cool Themes, Hide ...</td>\n",
              "      <td>ART_AND_DESIGN</td>\n",
              "      <td>4.7</td>\n",
              "      <td>87510</td>\n",
              "      <td>8.7M</td>\n",
              "      <td>5,000,000+</td>\n",
              "      <td>Free</td>\n",
              "      <td>0</td>\n",
              "      <td>Everyone</td>\n",
              "      <td>Art &amp; Design</td>\n",
              "      <td>August 1, 2018</td>\n",
              "      <td>1.2.4</td>\n",
              "      <td>4.0.3 and up</td>\n",
              "    </tr>\n",
              "    <tr>\n",
              "      <th>3</th>\n",
              "      <td>Sketch - Draw &amp; Paint</td>\n",
              "      <td>ART_AND_DESIGN</td>\n",
              "      <td>4.5</td>\n",
              "      <td>215644</td>\n",
              "      <td>25M</td>\n",
              "      <td>50,000,000+</td>\n",
              "      <td>Free</td>\n",
              "      <td>0</td>\n",
              "      <td>Teen</td>\n",
              "      <td>Art &amp; Design</td>\n",
              "      <td>June 8, 2018</td>\n",
              "      <td>Varies with device</td>\n",
              "      <td>4.2 and up</td>\n",
              "    </tr>\n",
              "    <tr>\n",
              "      <th>4</th>\n",
              "      <td>Pixel Draw - Number Art Coloring Book</td>\n",
              "      <td>ART_AND_DESIGN</td>\n",
              "      <td>4.3</td>\n",
              "      <td>967</td>\n",
              "      <td>2.8M</td>\n",
              "      <td>100,000+</td>\n",
              "      <td>Free</td>\n",
              "      <td>0</td>\n",
              "      <td>Everyone</td>\n",
              "      <td>Art &amp; Design;Creativity</td>\n",
              "      <td>June 20, 2018</td>\n",
              "      <td>1.1</td>\n",
              "      <td>4.4 and up</td>\n",
              "    </tr>\n",
              "    <tr>\n",
              "      <th>...</th>\n",
              "      <td>...</td>\n",
              "      <td>...</td>\n",
              "      <td>...</td>\n",
              "      <td>...</td>\n",
              "      <td>...</td>\n",
              "      <td>...</td>\n",
              "      <td>...</td>\n",
              "      <td>...</td>\n",
              "      <td>...</td>\n",
              "      <td>...</td>\n",
              "      <td>...</td>\n",
              "      <td>...</td>\n",
              "      <td>...</td>\n",
              "    </tr>\n",
              "    <tr>\n",
              "      <th>10836</th>\n",
              "      <td>Sya9a Maroc - FR</td>\n",
              "      <td>FAMILY</td>\n",
              "      <td>4.5</td>\n",
              "      <td>38</td>\n",
              "      <td>53M</td>\n",
              "      <td>5,000+</td>\n",
              "      <td>Free</td>\n",
              "      <td>0</td>\n",
              "      <td>Everyone</td>\n",
              "      <td>Education</td>\n",
              "      <td>July 25, 2017</td>\n",
              "      <td>1.48</td>\n",
              "      <td>4.1 and up</td>\n",
              "    </tr>\n",
              "    <tr>\n",
              "      <th>10837</th>\n",
              "      <td>Fr. Mike Schmitz Audio Teachings</td>\n",
              "      <td>FAMILY</td>\n",
              "      <td>5.0</td>\n",
              "      <td>4</td>\n",
              "      <td>3.6M</td>\n",
              "      <td>100+</td>\n",
              "      <td>Free</td>\n",
              "      <td>0</td>\n",
              "      <td>Everyone</td>\n",
              "      <td>Education</td>\n",
              "      <td>July 6, 2018</td>\n",
              "      <td>1.0</td>\n",
              "      <td>4.1 and up</td>\n",
              "    </tr>\n",
              "    <tr>\n",
              "      <th>10838</th>\n",
              "      <td>Parkinson Exercices FR</td>\n",
              "      <td>MEDICAL</td>\n",
              "      <td>NaN</td>\n",
              "      <td>3</td>\n",
              "      <td>9.5M</td>\n",
              "      <td>1,000+</td>\n",
              "      <td>Free</td>\n",
              "      <td>0</td>\n",
              "      <td>Everyone</td>\n",
              "      <td>Medical</td>\n",
              "      <td>January 20, 2017</td>\n",
              "      <td>1.0</td>\n",
              "      <td>2.2 and up</td>\n",
              "    </tr>\n",
              "    <tr>\n",
              "      <th>10839</th>\n",
              "      <td>The SCP Foundation DB fr nn5n</td>\n",
              "      <td>BOOKS_AND_REFERENCE</td>\n",
              "      <td>4.5</td>\n",
              "      <td>114</td>\n",
              "      <td>Varies with device</td>\n",
              "      <td>1,000+</td>\n",
              "      <td>Free</td>\n",
              "      <td>0</td>\n",
              "      <td>Mature 17+</td>\n",
              "      <td>Books &amp; Reference</td>\n",
              "      <td>January 19, 2015</td>\n",
              "      <td>Varies with device</td>\n",
              "      <td>Varies with device</td>\n",
              "    </tr>\n",
              "    <tr>\n",
              "      <th>10840</th>\n",
              "      <td>iHoroscope - 2018 Daily Horoscope &amp; Astrology</td>\n",
              "      <td>LIFESTYLE</td>\n",
              "      <td>4.5</td>\n",
              "      <td>398307</td>\n",
              "      <td>19M</td>\n",
              "      <td>10,000,000+</td>\n",
              "      <td>Free</td>\n",
              "      <td>0</td>\n",
              "      <td>Everyone</td>\n",
              "      <td>Lifestyle</td>\n",
              "      <td>July 25, 2018</td>\n",
              "      <td>Varies with device</td>\n",
              "      <td>Varies with device</td>\n",
              "    </tr>\n",
              "  </tbody>\n",
              "</table>\n",
              "<p>9660 rows × 13 columns</p>\n",
              "</div>\n",
              "      <button class=\"colab-df-convert\" onclick=\"convertToInteractive('df-d501d1a2-2552-4fe3-a1f5-ff61daa9c53c')\"\n",
              "              title=\"Convert this dataframe to an interactive table.\"\n",
              "              style=\"display:none;\">\n",
              "        \n",
              "  <svg xmlns=\"http://www.w3.org/2000/svg\" height=\"24px\"viewBox=\"0 0 24 24\"\n",
              "       width=\"24px\">\n",
              "    <path d=\"M0 0h24v24H0V0z\" fill=\"none\"/>\n",
              "    <path d=\"M18.56 5.44l.94 2.06.94-2.06 2.06-.94-2.06-.94-.94-2.06-.94 2.06-2.06.94zm-11 1L8.5 8.5l.94-2.06 2.06-.94-2.06-.94L8.5 2.5l-.94 2.06-2.06.94zm10 10l.94 2.06.94-2.06 2.06-.94-2.06-.94-.94-2.06-.94 2.06-2.06.94z\"/><path d=\"M17.41 7.96l-1.37-1.37c-.4-.4-.92-.59-1.43-.59-.52 0-1.04.2-1.43.59L10.3 9.45l-7.72 7.72c-.78.78-.78 2.05 0 2.83L4 21.41c.39.39.9.59 1.41.59.51 0 1.02-.2 1.41-.59l7.78-7.78 2.81-2.81c.8-.78.8-2.07 0-2.86zM5.41 20L4 18.59l7.72-7.72 1.47 1.35L5.41 20z\"/>\n",
              "  </svg>\n",
              "      </button>\n",
              "      \n",
              "  <style>\n",
              "    .colab-df-container {\n",
              "      display:flex;\n",
              "      flex-wrap:wrap;\n",
              "      gap: 12px;\n",
              "    }\n",
              "\n",
              "    .colab-df-convert {\n",
              "      background-color: #E8F0FE;\n",
              "      border: none;\n",
              "      border-radius: 50%;\n",
              "      cursor: pointer;\n",
              "      display: none;\n",
              "      fill: #1967D2;\n",
              "      height: 32px;\n",
              "      padding: 0 0 0 0;\n",
              "      width: 32px;\n",
              "    }\n",
              "\n",
              "    .colab-df-convert:hover {\n",
              "      background-color: #E2EBFA;\n",
              "      box-shadow: 0px 1px 2px rgba(60, 64, 67, 0.3), 0px 1px 3px 1px rgba(60, 64, 67, 0.15);\n",
              "      fill: #174EA6;\n",
              "    }\n",
              "\n",
              "    [theme=dark] .colab-df-convert {\n",
              "      background-color: #3B4455;\n",
              "      fill: #D2E3FC;\n",
              "    }\n",
              "\n",
              "    [theme=dark] .colab-df-convert:hover {\n",
              "      background-color: #434B5C;\n",
              "      box-shadow: 0px 1px 3px 1px rgba(0, 0, 0, 0.15);\n",
              "      filter: drop-shadow(0px 1px 2px rgba(0, 0, 0, 0.3));\n",
              "      fill: #FFFFFF;\n",
              "    }\n",
              "  </style>\n",
              "\n",
              "      <script>\n",
              "        const buttonEl =\n",
              "          document.querySelector('#df-d501d1a2-2552-4fe3-a1f5-ff61daa9c53c button.colab-df-convert');\n",
              "        buttonEl.style.display =\n",
              "          google.colab.kernel.accessAllowed ? 'block' : 'none';\n",
              "\n",
              "        async function convertToInteractive(key) {\n",
              "          const element = document.querySelector('#df-d501d1a2-2552-4fe3-a1f5-ff61daa9c53c');\n",
              "          const dataTable =\n",
              "            await google.colab.kernel.invokeFunction('convertToInteractive',\n",
              "                                                     [key], {});\n",
              "          if (!dataTable) return;\n",
              "\n",
              "          const docLinkHtml = 'Like what you see? Visit the ' +\n",
              "            '<a target=\"_blank\" href=https://colab.research.google.com/notebooks/data_table.ipynb>data table notebook</a>'\n",
              "            + ' to learn more about interactive tables.';\n",
              "          element.innerHTML = '';\n",
              "          dataTable['output_type'] = 'display_data';\n",
              "          await google.colab.output.renderOutput(dataTable, element);\n",
              "          const docLink = document.createElement('div');\n",
              "          docLink.innerHTML = docLinkHtml;\n",
              "          element.appendChild(docLink);\n",
              "        }\n",
              "      </script>\n",
              "    </div>\n",
              "  </div>\n",
              "  "
            ]
          },
          "metadata": {},
          "execution_count": 22
        }
      ],
      "source": [
        "df.drop_duplicates(subset=['App'])\n"
      ]
    },
    {
      "cell_type": "markdown",
      "metadata": {
        "id": "rkmEszoSafyM"
      },
      "source": [
        "#**Asalysis on APP**"
      ]
    },
    {
      "cell_type": "code",
      "execution_count": null,
      "metadata": {
        "colab": {
          "base_uri": "https://localhost:8080/"
        },
        "id": "O4P9jPbfatEx",
        "outputId": "1b0f553b-1099-4312-fd95-10d48be8ab7a"
      },
      "outputs": [
        {
          "output_type": "execute_result",
          "data": {
            "text/plain": [
              "0       Photo Editor & Candy Camera & Grid & ScrapBook\n",
              "1                                  Coloring book moana\n",
              "2    U Launcher Lite – FREE Live Cool Themes, Hide ...\n",
              "3                                Sketch - Draw & Paint\n",
              "4                Pixel Draw - Number Art Coloring Book\n",
              "Name: App, dtype: object"
            ]
          },
          "metadata": {},
          "execution_count": 23
        }
      ],
      "source": [
        "#takinf first 5 app \n",
        "df['App'].head(5)"
      ]
    },
    {
      "cell_type": "code",
      "execution_count": null,
      "metadata": {
        "colab": {
          "base_uri": "https://localhost:8080/"
        },
        "id": "a8JkWeyJejKo",
        "outputId": "c9920df6-3890-461c-d8bc-4a85fcff280c"
      },
      "outputs": [
        {
          "output_type": "execute_result",
          "data": {
            "text/plain": [
              "ROBLOX                                                9\n",
              "CBS Sports App - Scores, News, Stats & Watch Live     8\n",
              "ESPN                                                  7\n",
              "Duolingo: Learn Languages Free                        7\n",
              "Candy Crush Saga                                      7\n",
              "                                                     ..\n",
              "Meet U - Get Friends for Snapchat, Kik & Instagram    1\n",
              "U-Report                                              1\n",
              "U of I Community Credit Union                         1\n",
              "Waiting For U Launcher Theme                          1\n",
              "iHoroscope - 2018 Daily Horoscope & Astrology         1\n",
              "Length: 9660, dtype: int64"
            ]
          },
          "metadata": {},
          "execution_count": 24
        }
      ],
      "source": [
        "#counting the number of time each App appers \n",
        "pd.value_counts(df['App'].values)"
      ]
    },
    {
      "cell_type": "code",
      "execution_count": null,
      "metadata": {
        "colab": {
          "base_uri": "https://localhost:8080/"
        },
        "id": "Pii1TNp3ie4N",
        "outputId": "eb0f40b9-d70c-449e-a3be-b846c03cf2f5"
      },
      "outputs": [
        {
          "output_type": "execute_result",
          "data": {
            "text/plain": [
              "array(['Photo Editor & Candy Camera & Grid & ScrapBook',\n",
              "       'Coloring book moana',\n",
              "       'U Launcher Lite – FREE Live Cool Themes, Hide Apps', ...,\n",
              "       'Parkinson Exercices FR', 'The SCP Foundation DB fr nn5n',\n",
              "       'iHoroscope - 2018 Daily Horoscope & Astrology'], dtype=object)"
            ]
          },
          "metadata": {},
          "execution_count": 25
        }
      ],
      "source": [
        "#taking out the uniique App\n",
        "df['App'].unique()"
      ]
    },
    {
      "cell_type": "code",
      "execution_count": null,
      "metadata": {
        "colab": {
          "base_uri": "https://localhost:8080/"
        },
        "id": "-cPslFESlCyF",
        "outputId": "eb207ea2-d2ed-4a2c-f458-88905bde824f"
      },
      "outputs": [
        {
          "output_type": "execute_result",
          "data": {
            "text/plain": [
              "                                                     App             Category  \\\n",
              "0         Photo Editor & Candy Camera & Grid & ScrapBook       ART_AND_DESIGN   \n",
              "1                                    Coloring book moana       ART_AND_DESIGN   \n",
              "2      U Launcher Lite – FREE Live Cool Themes, Hide ...       ART_AND_DESIGN   \n",
              "3                                  Sketch - Draw & Paint       ART_AND_DESIGN   \n",
              "4                  Pixel Draw - Number Art Coloring Book       ART_AND_DESIGN   \n",
              "...                                                  ...                  ...   \n",
              "10836                                   Sya9a Maroc - FR               FAMILY   \n",
              "10837                   Fr. Mike Schmitz Audio Teachings               FAMILY   \n",
              "10838                             Parkinson Exercices FR              MEDICAL   \n",
              "10839                      The SCP Foundation DB fr nn5n  BOOKS_AND_REFERENCE   \n",
              "10840      iHoroscope - 2018 Daily Horoscope & Astrology            LIFESTYLE   \n",
              "\n",
              "       Rating Reviews                Size     Installs  Type Price  \\\n",
              "0         4.1     159                 19M      10,000+  Free     0   \n",
              "1         3.9     967                 14M     500,000+  Free     0   \n",
              "2         4.7   87510                8.7M   5,000,000+  Free     0   \n",
              "3         4.5  215644                 25M  50,000,000+  Free     0   \n",
              "4         4.3     967                2.8M     100,000+  Free     0   \n",
              "...       ...     ...                 ...          ...   ...   ...   \n",
              "10836     4.5      38                 53M       5,000+  Free     0   \n",
              "10837     5.0       4                3.6M         100+  Free     0   \n",
              "10838     NaN       3                9.5M       1,000+  Free     0   \n",
              "10839     4.5     114  Varies with device       1,000+  Free     0   \n",
              "10840     4.5  398307                 19M  10,000,000+  Free     0   \n",
              "\n",
              "      Content Rating                     Genres      Last Updated  \\\n",
              "0           Everyone               Art & Design   January 7, 2018   \n",
              "1           Everyone  Art & Design;Pretend Play  January 15, 2018   \n",
              "2           Everyone               Art & Design    August 1, 2018   \n",
              "3               Teen               Art & Design      June 8, 2018   \n",
              "4           Everyone    Art & Design;Creativity     June 20, 2018   \n",
              "...              ...                        ...               ...   \n",
              "10836       Everyone                  Education     July 25, 2017   \n",
              "10837       Everyone                  Education      July 6, 2018   \n",
              "10838       Everyone                    Medical  January 20, 2017   \n",
              "10839     Mature 17+          Books & Reference  January 19, 2015   \n",
              "10840       Everyone                  Lifestyle     July 25, 2018   \n",
              "\n",
              "              Current Ver         Android Ver  \n",
              "0                   1.0.0        4.0.3 and up  \n",
              "1                   2.0.0        4.0.3 and up  \n",
              "2                   1.2.4        4.0.3 and up  \n",
              "3      Varies with device          4.2 and up  \n",
              "4                     1.1          4.4 and up  \n",
              "...                   ...                 ...  \n",
              "10836                1.48          4.1 and up  \n",
              "10837                 1.0          4.1 and up  \n",
              "10838                 1.0          2.2 and up  \n",
              "10839  Varies with device  Varies with device  \n",
              "10840  Varies with device  Varies with device  \n",
              "\n",
              "[9660 rows x 13 columns]"
            ],
            "text/html": [
              "\n",
              "  <div id=\"df-8f17acf7-ba67-4acd-ab11-6053b68dac22\">\n",
              "    <div class=\"colab-df-container\">\n",
              "      <div>\n",
              "<style scoped>\n",
              "    .dataframe tbody tr th:only-of-type {\n",
              "        vertical-align: middle;\n",
              "    }\n",
              "\n",
              "    .dataframe tbody tr th {\n",
              "        vertical-align: top;\n",
              "    }\n",
              "\n",
              "    .dataframe thead th {\n",
              "        text-align: right;\n",
              "    }\n",
              "</style>\n",
              "<table border=\"1\" class=\"dataframe\">\n",
              "  <thead>\n",
              "    <tr style=\"text-align: right;\">\n",
              "      <th></th>\n",
              "      <th>App</th>\n",
              "      <th>Category</th>\n",
              "      <th>Rating</th>\n",
              "      <th>Reviews</th>\n",
              "      <th>Size</th>\n",
              "      <th>Installs</th>\n",
              "      <th>Type</th>\n",
              "      <th>Price</th>\n",
              "      <th>Content Rating</th>\n",
              "      <th>Genres</th>\n",
              "      <th>Last Updated</th>\n",
              "      <th>Current Ver</th>\n",
              "      <th>Android Ver</th>\n",
              "    </tr>\n",
              "  </thead>\n",
              "  <tbody>\n",
              "    <tr>\n",
              "      <th>0</th>\n",
              "      <td>Photo Editor &amp; Candy Camera &amp; Grid &amp; ScrapBook</td>\n",
              "      <td>ART_AND_DESIGN</td>\n",
              "      <td>4.1</td>\n",
              "      <td>159</td>\n",
              "      <td>19M</td>\n",
              "      <td>10,000+</td>\n",
              "      <td>Free</td>\n",
              "      <td>0</td>\n",
              "      <td>Everyone</td>\n",
              "      <td>Art &amp; Design</td>\n",
              "      <td>January 7, 2018</td>\n",
              "      <td>1.0.0</td>\n",
              "      <td>4.0.3 and up</td>\n",
              "    </tr>\n",
              "    <tr>\n",
              "      <th>1</th>\n",
              "      <td>Coloring book moana</td>\n",
              "      <td>ART_AND_DESIGN</td>\n",
              "      <td>3.9</td>\n",
              "      <td>967</td>\n",
              "      <td>14M</td>\n",
              "      <td>500,000+</td>\n",
              "      <td>Free</td>\n",
              "      <td>0</td>\n",
              "      <td>Everyone</td>\n",
              "      <td>Art &amp; Design;Pretend Play</td>\n",
              "      <td>January 15, 2018</td>\n",
              "      <td>2.0.0</td>\n",
              "      <td>4.0.3 and up</td>\n",
              "    </tr>\n",
              "    <tr>\n",
              "      <th>2</th>\n",
              "      <td>U Launcher Lite – FREE Live Cool Themes, Hide ...</td>\n",
              "      <td>ART_AND_DESIGN</td>\n",
              "      <td>4.7</td>\n",
              "      <td>87510</td>\n",
              "      <td>8.7M</td>\n",
              "      <td>5,000,000+</td>\n",
              "      <td>Free</td>\n",
              "      <td>0</td>\n",
              "      <td>Everyone</td>\n",
              "      <td>Art &amp; Design</td>\n",
              "      <td>August 1, 2018</td>\n",
              "      <td>1.2.4</td>\n",
              "      <td>4.0.3 and up</td>\n",
              "    </tr>\n",
              "    <tr>\n",
              "      <th>3</th>\n",
              "      <td>Sketch - Draw &amp; Paint</td>\n",
              "      <td>ART_AND_DESIGN</td>\n",
              "      <td>4.5</td>\n",
              "      <td>215644</td>\n",
              "      <td>25M</td>\n",
              "      <td>50,000,000+</td>\n",
              "      <td>Free</td>\n",
              "      <td>0</td>\n",
              "      <td>Teen</td>\n",
              "      <td>Art &amp; Design</td>\n",
              "      <td>June 8, 2018</td>\n",
              "      <td>Varies with device</td>\n",
              "      <td>4.2 and up</td>\n",
              "    </tr>\n",
              "    <tr>\n",
              "      <th>4</th>\n",
              "      <td>Pixel Draw - Number Art Coloring Book</td>\n",
              "      <td>ART_AND_DESIGN</td>\n",
              "      <td>4.3</td>\n",
              "      <td>967</td>\n",
              "      <td>2.8M</td>\n",
              "      <td>100,000+</td>\n",
              "      <td>Free</td>\n",
              "      <td>0</td>\n",
              "      <td>Everyone</td>\n",
              "      <td>Art &amp; Design;Creativity</td>\n",
              "      <td>June 20, 2018</td>\n",
              "      <td>1.1</td>\n",
              "      <td>4.4 and up</td>\n",
              "    </tr>\n",
              "    <tr>\n",
              "      <th>...</th>\n",
              "      <td>...</td>\n",
              "      <td>...</td>\n",
              "      <td>...</td>\n",
              "      <td>...</td>\n",
              "      <td>...</td>\n",
              "      <td>...</td>\n",
              "      <td>...</td>\n",
              "      <td>...</td>\n",
              "      <td>...</td>\n",
              "      <td>...</td>\n",
              "      <td>...</td>\n",
              "      <td>...</td>\n",
              "      <td>...</td>\n",
              "    </tr>\n",
              "    <tr>\n",
              "      <th>10836</th>\n",
              "      <td>Sya9a Maroc - FR</td>\n",
              "      <td>FAMILY</td>\n",
              "      <td>4.5</td>\n",
              "      <td>38</td>\n",
              "      <td>53M</td>\n",
              "      <td>5,000+</td>\n",
              "      <td>Free</td>\n",
              "      <td>0</td>\n",
              "      <td>Everyone</td>\n",
              "      <td>Education</td>\n",
              "      <td>July 25, 2017</td>\n",
              "      <td>1.48</td>\n",
              "      <td>4.1 and up</td>\n",
              "    </tr>\n",
              "    <tr>\n",
              "      <th>10837</th>\n",
              "      <td>Fr. Mike Schmitz Audio Teachings</td>\n",
              "      <td>FAMILY</td>\n",
              "      <td>5.0</td>\n",
              "      <td>4</td>\n",
              "      <td>3.6M</td>\n",
              "      <td>100+</td>\n",
              "      <td>Free</td>\n",
              "      <td>0</td>\n",
              "      <td>Everyone</td>\n",
              "      <td>Education</td>\n",
              "      <td>July 6, 2018</td>\n",
              "      <td>1.0</td>\n",
              "      <td>4.1 and up</td>\n",
              "    </tr>\n",
              "    <tr>\n",
              "      <th>10838</th>\n",
              "      <td>Parkinson Exercices FR</td>\n",
              "      <td>MEDICAL</td>\n",
              "      <td>NaN</td>\n",
              "      <td>3</td>\n",
              "      <td>9.5M</td>\n",
              "      <td>1,000+</td>\n",
              "      <td>Free</td>\n",
              "      <td>0</td>\n",
              "      <td>Everyone</td>\n",
              "      <td>Medical</td>\n",
              "      <td>January 20, 2017</td>\n",
              "      <td>1.0</td>\n",
              "      <td>2.2 and up</td>\n",
              "    </tr>\n",
              "    <tr>\n",
              "      <th>10839</th>\n",
              "      <td>The SCP Foundation DB fr nn5n</td>\n",
              "      <td>BOOKS_AND_REFERENCE</td>\n",
              "      <td>4.5</td>\n",
              "      <td>114</td>\n",
              "      <td>Varies with device</td>\n",
              "      <td>1,000+</td>\n",
              "      <td>Free</td>\n",
              "      <td>0</td>\n",
              "      <td>Mature 17+</td>\n",
              "      <td>Books &amp; Reference</td>\n",
              "      <td>January 19, 2015</td>\n",
              "      <td>Varies with device</td>\n",
              "      <td>Varies with device</td>\n",
              "    </tr>\n",
              "    <tr>\n",
              "      <th>10840</th>\n",
              "      <td>iHoroscope - 2018 Daily Horoscope &amp; Astrology</td>\n",
              "      <td>LIFESTYLE</td>\n",
              "      <td>4.5</td>\n",
              "      <td>398307</td>\n",
              "      <td>19M</td>\n",
              "      <td>10,000,000+</td>\n",
              "      <td>Free</td>\n",
              "      <td>0</td>\n",
              "      <td>Everyone</td>\n",
              "      <td>Lifestyle</td>\n",
              "      <td>July 25, 2018</td>\n",
              "      <td>Varies with device</td>\n",
              "      <td>Varies with device</td>\n",
              "    </tr>\n",
              "  </tbody>\n",
              "</table>\n",
              "<p>9660 rows × 13 columns</p>\n",
              "</div>\n",
              "      <button class=\"colab-df-convert\" onclick=\"convertToInteractive('df-8f17acf7-ba67-4acd-ab11-6053b68dac22')\"\n",
              "              title=\"Convert this dataframe to an interactive table.\"\n",
              "              style=\"display:none;\">\n",
              "        \n",
              "  <svg xmlns=\"http://www.w3.org/2000/svg\" height=\"24px\"viewBox=\"0 0 24 24\"\n",
              "       width=\"24px\">\n",
              "    <path d=\"M0 0h24v24H0V0z\" fill=\"none\"/>\n",
              "    <path d=\"M18.56 5.44l.94 2.06.94-2.06 2.06-.94-2.06-.94-.94-2.06-.94 2.06-2.06.94zm-11 1L8.5 8.5l.94-2.06 2.06-.94-2.06-.94L8.5 2.5l-.94 2.06-2.06.94zm10 10l.94 2.06.94-2.06 2.06-.94-2.06-.94-.94-2.06-.94 2.06-2.06.94z\"/><path d=\"M17.41 7.96l-1.37-1.37c-.4-.4-.92-.59-1.43-.59-.52 0-1.04.2-1.43.59L10.3 9.45l-7.72 7.72c-.78.78-.78 2.05 0 2.83L4 21.41c.39.39.9.59 1.41.59.51 0 1.02-.2 1.41-.59l7.78-7.78 2.81-2.81c.8-.78.8-2.07 0-2.86zM5.41 20L4 18.59l7.72-7.72 1.47 1.35L5.41 20z\"/>\n",
              "  </svg>\n",
              "      </button>\n",
              "      \n",
              "  <style>\n",
              "    .colab-df-container {\n",
              "      display:flex;\n",
              "      flex-wrap:wrap;\n",
              "      gap: 12px;\n",
              "    }\n",
              "\n",
              "    .colab-df-convert {\n",
              "      background-color: #E8F0FE;\n",
              "      border: none;\n",
              "      border-radius: 50%;\n",
              "      cursor: pointer;\n",
              "      display: none;\n",
              "      fill: #1967D2;\n",
              "      height: 32px;\n",
              "      padding: 0 0 0 0;\n",
              "      width: 32px;\n",
              "    }\n",
              "\n",
              "    .colab-df-convert:hover {\n",
              "      background-color: #E2EBFA;\n",
              "      box-shadow: 0px 1px 2px rgba(60, 64, 67, 0.3), 0px 1px 3px 1px rgba(60, 64, 67, 0.15);\n",
              "      fill: #174EA6;\n",
              "    }\n",
              "\n",
              "    [theme=dark] .colab-df-convert {\n",
              "      background-color: #3B4455;\n",
              "      fill: #D2E3FC;\n",
              "    }\n",
              "\n",
              "    [theme=dark] .colab-df-convert:hover {\n",
              "      background-color: #434B5C;\n",
              "      box-shadow: 0px 1px 3px 1px rgba(0, 0, 0, 0.15);\n",
              "      filter: drop-shadow(0px 1px 2px rgba(0, 0, 0, 0.3));\n",
              "      fill: #FFFFFF;\n",
              "    }\n",
              "  </style>\n",
              "\n",
              "      <script>\n",
              "        const buttonEl =\n",
              "          document.querySelector('#df-8f17acf7-ba67-4acd-ab11-6053b68dac22 button.colab-df-convert');\n",
              "        buttonEl.style.display =\n",
              "          google.colab.kernel.accessAllowed ? 'block' : 'none';\n",
              "\n",
              "        async function convertToInteractive(key) {\n",
              "          const element = document.querySelector('#df-8f17acf7-ba67-4acd-ab11-6053b68dac22');\n",
              "          const dataTable =\n",
              "            await google.colab.kernel.invokeFunction('convertToInteractive',\n",
              "                                                     [key], {});\n",
              "          if (!dataTable) return;\n",
              "\n",
              "          const docLinkHtml = 'Like what you see? Visit the ' +\n",
              "            '<a target=\"_blank\" href=https://colab.research.google.com/notebooks/data_table.ipynb>data table notebook</a>'\n",
              "            + ' to learn more about interactive tables.';\n",
              "          element.innerHTML = '';\n",
              "          dataTable['output_type'] = 'display_data';\n",
              "          await google.colab.output.renderOutput(dataTable, element);\n",
              "          const docLink = document.createElement('div');\n",
              "          docLink.innerHTML = docLinkHtml;\n",
              "          element.appendChild(docLink);\n",
              "        }\n",
              "      </script>\n",
              "    </div>\n",
              "  </div>\n",
              "  "
            ]
          },
          "metadata": {},
          "execution_count": 26
        }
      ],
      "source": [
        "#droping down the Duplicat App\n",
        "df.drop_duplicates(['App'],inplace=True)\n",
        "df"
      ]
    },
    {
      "cell_type": "code",
      "execution_count": null,
      "metadata": {
        "colab": {
          "base_uri": "https://localhost:8080/"
        },
        "id": "Fi8MD8Afl6Da",
        "outputId": "1a031ed0-5a64-466a-c9e6-7809a1f416d7"
      },
      "outputs": [
        {
          "output_type": "execute_result",
          "data": {
            "text/plain": [
              "Photo Editor & Candy Camera & Grid & ScrapBook    1\n",
              "CK Pharmacies                                     1\n",
              "CK Call NEW                                       1\n",
              "Ck Coif                                           1\n",
              "CONTRACT KILLER: ZOMBIES                          1\n",
              "                                                 ..\n",
              "Bike Race Free - Top Motorcycle Racing Games      1\n",
              "Dance School Stories - Dance Dreams Come True     1\n",
              "3D Bowling                                        1\n",
              "Mind Games Pro                                    1\n",
              "iHoroscope - 2018 Daily Horoscope & Astrology     1\n",
              "Length: 9660, dtype: int64"
            ]
          },
          "metadata": {},
          "execution_count": 27
        }
      ],
      "source": [
        "#checking if our duplicate values has been droped \n",
        "pd.value_counts(df['App'].values)"
      ]
    },
    {
      "cell_type": "code",
      "execution_count": null,
      "metadata": {
        "colab": {
          "base_uri": "https://localhost:8080/"
        },
        "id": "YO_bvWuqnl-F",
        "outputId": "c68f2155-7861-4d31-81a8-6a70cc83848f"
      },
      "outputs": [
        {
          "output_type": "execute_result",
          "data": {
            "text/plain": [
              "         App Category  Rating  Reviews Size      Installs  Type Price  \\\n",
              "1653  ROBLOX     GAME     4.5  4447388  67M  100,000,000+  Free     0   \n",
              "\n",
              "     Content Rating                        Genres   Last Updated  \\\n",
              "1653   Everyone 10+  Adventure;Action & Adventure  July 31, 2018   \n",
              "\n",
              "       Current Ver Android Ver  \n",
              "1653  2.347.225742  4.1 and up  "
            ],
            "text/html": [
              "\n",
              "  <div id=\"df-e6da5653-bf4e-4550-a343-862f9f0cc700\">\n",
              "    <div class=\"colab-df-container\">\n",
              "      <div>\n",
              "<style scoped>\n",
              "    .dataframe tbody tr th:only-of-type {\n",
              "        vertical-align: middle;\n",
              "    }\n",
              "\n",
              "    .dataframe tbody tr th {\n",
              "        vertical-align: top;\n",
              "    }\n",
              "\n",
              "    .dataframe thead th {\n",
              "        text-align: right;\n",
              "    }\n",
              "</style>\n",
              "<table border=\"1\" class=\"dataframe\">\n",
              "  <thead>\n",
              "    <tr style=\"text-align: right;\">\n",
              "      <th></th>\n",
              "      <th>App</th>\n",
              "      <th>Category</th>\n",
              "      <th>Rating</th>\n",
              "      <th>Reviews</th>\n",
              "      <th>Size</th>\n",
              "      <th>Installs</th>\n",
              "      <th>Type</th>\n",
              "      <th>Price</th>\n",
              "      <th>Content Rating</th>\n",
              "      <th>Genres</th>\n",
              "      <th>Last Updated</th>\n",
              "      <th>Current Ver</th>\n",
              "      <th>Android Ver</th>\n",
              "    </tr>\n",
              "  </thead>\n",
              "  <tbody>\n",
              "    <tr>\n",
              "      <th>1653</th>\n",
              "      <td>ROBLOX</td>\n",
              "      <td>GAME</td>\n",
              "      <td>4.5</td>\n",
              "      <td>4447388</td>\n",
              "      <td>67M</td>\n",
              "      <td>100,000,000+</td>\n",
              "      <td>Free</td>\n",
              "      <td>0</td>\n",
              "      <td>Everyone 10+</td>\n",
              "      <td>Adventure;Action &amp; Adventure</td>\n",
              "      <td>July 31, 2018</td>\n",
              "      <td>2.347.225742</td>\n",
              "      <td>4.1 and up</td>\n",
              "    </tr>\n",
              "  </tbody>\n",
              "</table>\n",
              "</div>\n",
              "      <button class=\"colab-df-convert\" onclick=\"convertToInteractive('df-e6da5653-bf4e-4550-a343-862f9f0cc700')\"\n",
              "              title=\"Convert this dataframe to an interactive table.\"\n",
              "              style=\"display:none;\">\n",
              "        \n",
              "  <svg xmlns=\"http://www.w3.org/2000/svg\" height=\"24px\"viewBox=\"0 0 24 24\"\n",
              "       width=\"24px\">\n",
              "    <path d=\"M0 0h24v24H0V0z\" fill=\"none\"/>\n",
              "    <path d=\"M18.56 5.44l.94 2.06.94-2.06 2.06-.94-2.06-.94-.94-2.06-.94 2.06-2.06.94zm-11 1L8.5 8.5l.94-2.06 2.06-.94-2.06-.94L8.5 2.5l-.94 2.06-2.06.94zm10 10l.94 2.06.94-2.06 2.06-.94-2.06-.94-.94-2.06-.94 2.06-2.06.94z\"/><path d=\"M17.41 7.96l-1.37-1.37c-.4-.4-.92-.59-1.43-.59-.52 0-1.04.2-1.43.59L10.3 9.45l-7.72 7.72c-.78.78-.78 2.05 0 2.83L4 21.41c.39.39.9.59 1.41.59.51 0 1.02-.2 1.41-.59l7.78-7.78 2.81-2.81c.8-.78.8-2.07 0-2.86zM5.41 20L4 18.59l7.72-7.72 1.47 1.35L5.41 20z\"/>\n",
              "  </svg>\n",
              "      </button>\n",
              "      \n",
              "  <style>\n",
              "    .colab-df-container {\n",
              "      display:flex;\n",
              "      flex-wrap:wrap;\n",
              "      gap: 12px;\n",
              "    }\n",
              "\n",
              "    .colab-df-convert {\n",
              "      background-color: #E8F0FE;\n",
              "      border: none;\n",
              "      border-radius: 50%;\n",
              "      cursor: pointer;\n",
              "      display: none;\n",
              "      fill: #1967D2;\n",
              "      height: 32px;\n",
              "      padding: 0 0 0 0;\n",
              "      width: 32px;\n",
              "    }\n",
              "\n",
              "    .colab-df-convert:hover {\n",
              "      background-color: #E2EBFA;\n",
              "      box-shadow: 0px 1px 2px rgba(60, 64, 67, 0.3), 0px 1px 3px 1px rgba(60, 64, 67, 0.15);\n",
              "      fill: #174EA6;\n",
              "    }\n",
              "\n",
              "    [theme=dark] .colab-df-convert {\n",
              "      background-color: #3B4455;\n",
              "      fill: #D2E3FC;\n",
              "    }\n",
              "\n",
              "    [theme=dark] .colab-df-convert:hover {\n",
              "      background-color: #434B5C;\n",
              "      box-shadow: 0px 1px 3px 1px rgba(0, 0, 0, 0.15);\n",
              "      filter: drop-shadow(0px 1px 2px rgba(0, 0, 0, 0.3));\n",
              "      fill: #FFFFFF;\n",
              "    }\n",
              "  </style>\n",
              "\n",
              "      <script>\n",
              "        const buttonEl =\n",
              "          document.querySelector('#df-e6da5653-bf4e-4550-a343-862f9f0cc700 button.colab-df-convert');\n",
              "        buttonEl.style.display =\n",
              "          google.colab.kernel.accessAllowed ? 'block' : 'none';\n",
              "\n",
              "        async function convertToInteractive(key) {\n",
              "          const element = document.querySelector('#df-e6da5653-bf4e-4550-a343-862f9f0cc700');\n",
              "          const dataTable =\n",
              "            await google.colab.kernel.invokeFunction('convertToInteractive',\n",
              "                                                     [key], {});\n",
              "          if (!dataTable) return;\n",
              "\n",
              "          const docLinkHtml = 'Like what you see? Visit the ' +\n",
              "            '<a target=\"_blank\" href=https://colab.research.google.com/notebooks/data_table.ipynb>data table notebook</a>'\n",
              "            + ' to learn more about interactive tables.';\n",
              "          element.innerHTML = '';\n",
              "          dataTable['output_type'] = 'display_data';\n",
              "          await google.colab.output.renderOutput(dataTable, element);\n",
              "          const docLink = document.createElement('div');\n",
              "          docLink.innerHTML = docLinkHtml;\n",
              "          element.appendChild(docLink);\n",
              "        }\n",
              "      </script>\n",
              "    </div>\n",
              "  </div>\n",
              "  "
            ]
          },
          "metadata": {},
          "execution_count": 28
        }
      ],
      "source": [
        "df[df['App']=='ROBLOX']"
      ]
    },
    {
      "cell_type": "markdown",
      "metadata": {
        "id": "XJ3NtKV8pKH-"
      },
      "source": [
        "#**Asalysis Category**"
      ]
    },
    {
      "cell_type": "code",
      "execution_count": null,
      "metadata": {
        "colab": {
          "base_uri": "https://localhost:8080/"
        },
        "id": "_2-Q0177oI3L",
        "outputId": "2d27efa3-3739-4b99-c15a-c819d619dfdd"
      },
      "outputs": [
        {
          "output_type": "execute_result",
          "data": {
            "text/plain": [
              "0    ART_AND_DESIGN\n",
              "1    ART_AND_DESIGN\n",
              "2    ART_AND_DESIGN\n",
              "3    ART_AND_DESIGN\n",
              "4    ART_AND_DESIGN\n",
              "Name: Category, dtype: object"
            ]
          },
          "metadata": {},
          "execution_count": 29
        }
      ],
      "source": [
        "df['Category'].head(5)"
      ]
    },
    {
      "cell_type": "code",
      "execution_count": null,
      "metadata": {
        "colab": {
          "base_uri": "https://localhost:8080/"
        },
        "id": "m8DZvLx1pjou",
        "outputId": "6a74d18c-30ab-4f44-f644-3f4e76642d63"
      },
      "outputs": [
        {
          "output_type": "execute_result",
          "data": {
            "text/plain": [
              "array(['ART_AND_DESIGN', 'AUTO_AND_VEHICLES', 'BEAUTY',\n",
              "       'BOOKS_AND_REFERENCE', 'BUSINESS', 'COMICS', 'COMMUNICATION',\n",
              "       'DATING', 'EDUCATION', 'ENTERTAINMENT', 'EVENTS', 'FINANCE',\n",
              "       'FOOD_AND_DRINK', 'HEALTH_AND_FITNESS', 'HOUSE_AND_HOME',\n",
              "       'LIBRARIES_AND_DEMO', 'LIFESTYLE', 'GAME', 'FAMILY', 'MEDICAL',\n",
              "       'SOCIAL', 'SHOPPING', 'PHOTOGRAPHY', 'SPORTS', 'TRAVEL_AND_LOCAL',\n",
              "       'TOOLS', 'PERSONALIZATION', 'PRODUCTIVITY', 'PARENTING', 'WEATHER',\n",
              "       'VIDEO_PLAYERS', 'NEWS_AND_MAGAZINES', 'MAPS_AND_NAVIGATION',\n",
              "       '1.9'], dtype=object)"
            ]
          },
          "metadata": {},
          "execution_count": 30
        }
      ],
      "source": [
        "df['Category'].unique()"
      ]
    },
    {
      "cell_type": "code",
      "execution_count": null,
      "metadata": {
        "colab": {
          "base_uri": "https://localhost:8080/"
        },
        "id": "3ewzPe0I_Az4",
        "outputId": "85868793-a983-4d10-905e-6e0fb90fd4f2"
      },
      "outputs": [
        {
          "output_type": "execute_result",
          "data": {
            "text/plain": [
              "FAMILY                 1832\n",
              "GAME                    959\n",
              "TOOLS                   827\n",
              "BUSINESS                420\n",
              "MEDICAL                 395\n",
              "PERSONALIZATION         376\n",
              "PRODUCTIVITY            374\n",
              "LIFESTYLE               369\n",
              "FINANCE                 345\n",
              "SPORTS                  325\n",
              "COMMUNICATION           315\n",
              "HEALTH_AND_FITNESS      288\n",
              "PHOTOGRAPHY             281\n",
              "NEWS_AND_MAGAZINES      254\n",
              "SOCIAL                  239\n",
              "BOOKS_AND_REFERENCE     222\n",
              "TRAVEL_AND_LOCAL        219\n",
              "SHOPPING                202\n",
              "DATING                  171\n",
              "VIDEO_PLAYERS           163\n",
              "MAPS_AND_NAVIGATION     131\n",
              "EDUCATION               119\n",
              "FOOD_AND_DRINK          112\n",
              "ENTERTAINMENT           102\n",
              "AUTO_AND_VEHICLES        85\n",
              "LIBRARIES_AND_DEMO       84\n",
              "WEATHER                  79\n",
              "HOUSE_AND_HOME           74\n",
              "ART_AND_DESIGN           64\n",
              "EVENTS                   64\n",
              "PARENTING                60\n",
              "COMICS                   56\n",
              "BEAUTY                   53\n",
              "1.9                       1\n",
              "dtype: int64"
            ]
          },
          "metadata": {},
          "execution_count": 31
        }
      ],
      "source": [
        "pd.value_counts(df['Category'].values)"
      ]
    },
    {
      "cell_type": "markdown",
      "metadata": {
        "id": "yq-PrOs_BM_0"
      },
      "source": [
        "**Last value is 1.9 which in not a correct category We will replace this with NAN**"
      ]
    },
    {
      "cell_type": "code",
      "execution_count": null,
      "metadata": {
        "colab": {
          "base_uri": "https://localhost:8080/"
        },
        "id": "pdgRZJWeBgBz",
        "outputId": "6ee4ec40-db5a-4c98-9cbc-3959e04c6c6c"
      },
      "outputs": [
        {
          "output_type": "execute_result",
          "data": {
            "text/plain": [
              "                                           App Category  Rating Reviews  \\\n",
              "10472  Life Made WI-Fi Touchscreen Photo Frame      1.9    19.0    3.0M   \n",
              "\n",
              "         Size Installs Type     Price Content Rating             Genres  \\\n",
              "10472  1,000+     Free    0  Everyone            NaN  February 11, 2018   \n",
              "\n",
              "      Last Updated Current Ver Android Ver  \n",
              "10472       1.0.19  4.0 and up         NaN  "
            ],
            "text/html": [
              "\n",
              "  <div id=\"df-ab46b439-e7ad-4723-91a3-a010a6578183\">\n",
              "    <div class=\"colab-df-container\">\n",
              "      <div>\n",
              "<style scoped>\n",
              "    .dataframe tbody tr th:only-of-type {\n",
              "        vertical-align: middle;\n",
              "    }\n",
              "\n",
              "    .dataframe tbody tr th {\n",
              "        vertical-align: top;\n",
              "    }\n",
              "\n",
              "    .dataframe thead th {\n",
              "        text-align: right;\n",
              "    }\n",
              "</style>\n",
              "<table border=\"1\" class=\"dataframe\">\n",
              "  <thead>\n",
              "    <tr style=\"text-align: right;\">\n",
              "      <th></th>\n",
              "      <th>App</th>\n",
              "      <th>Category</th>\n",
              "      <th>Rating</th>\n",
              "      <th>Reviews</th>\n",
              "      <th>Size</th>\n",
              "      <th>Installs</th>\n",
              "      <th>Type</th>\n",
              "      <th>Price</th>\n",
              "      <th>Content Rating</th>\n",
              "      <th>Genres</th>\n",
              "      <th>Last Updated</th>\n",
              "      <th>Current Ver</th>\n",
              "      <th>Android Ver</th>\n",
              "    </tr>\n",
              "  </thead>\n",
              "  <tbody>\n",
              "    <tr>\n",
              "      <th>10472</th>\n",
              "      <td>Life Made WI-Fi Touchscreen Photo Frame</td>\n",
              "      <td>1.9</td>\n",
              "      <td>19.0</td>\n",
              "      <td>3.0M</td>\n",
              "      <td>1,000+</td>\n",
              "      <td>Free</td>\n",
              "      <td>0</td>\n",
              "      <td>Everyone</td>\n",
              "      <td>NaN</td>\n",
              "      <td>February 11, 2018</td>\n",
              "      <td>1.0.19</td>\n",
              "      <td>4.0 and up</td>\n",
              "      <td>NaN</td>\n",
              "    </tr>\n",
              "  </tbody>\n",
              "</table>\n",
              "</div>\n",
              "      <button class=\"colab-df-convert\" onclick=\"convertToInteractive('df-ab46b439-e7ad-4723-91a3-a010a6578183')\"\n",
              "              title=\"Convert this dataframe to an interactive table.\"\n",
              "              style=\"display:none;\">\n",
              "        \n",
              "  <svg xmlns=\"http://www.w3.org/2000/svg\" height=\"24px\"viewBox=\"0 0 24 24\"\n",
              "       width=\"24px\">\n",
              "    <path d=\"M0 0h24v24H0V0z\" fill=\"none\"/>\n",
              "    <path d=\"M18.56 5.44l.94 2.06.94-2.06 2.06-.94-2.06-.94-.94-2.06-.94 2.06-2.06.94zm-11 1L8.5 8.5l.94-2.06 2.06-.94-2.06-.94L8.5 2.5l-.94 2.06-2.06.94zm10 10l.94 2.06.94-2.06 2.06-.94-2.06-.94-.94-2.06-.94 2.06-2.06.94z\"/><path d=\"M17.41 7.96l-1.37-1.37c-.4-.4-.92-.59-1.43-.59-.52 0-1.04.2-1.43.59L10.3 9.45l-7.72 7.72c-.78.78-.78 2.05 0 2.83L4 21.41c.39.39.9.59 1.41.59.51 0 1.02-.2 1.41-.59l7.78-7.78 2.81-2.81c.8-.78.8-2.07 0-2.86zM5.41 20L4 18.59l7.72-7.72 1.47 1.35L5.41 20z\"/>\n",
              "  </svg>\n",
              "      </button>\n",
              "      \n",
              "  <style>\n",
              "    .colab-df-container {\n",
              "      display:flex;\n",
              "      flex-wrap:wrap;\n",
              "      gap: 12px;\n",
              "    }\n",
              "\n",
              "    .colab-df-convert {\n",
              "      background-color: #E8F0FE;\n",
              "      border: none;\n",
              "      border-radius: 50%;\n",
              "      cursor: pointer;\n",
              "      display: none;\n",
              "      fill: #1967D2;\n",
              "      height: 32px;\n",
              "      padding: 0 0 0 0;\n",
              "      width: 32px;\n",
              "    }\n",
              "\n",
              "    .colab-df-convert:hover {\n",
              "      background-color: #E2EBFA;\n",
              "      box-shadow: 0px 1px 2px rgba(60, 64, 67, 0.3), 0px 1px 3px 1px rgba(60, 64, 67, 0.15);\n",
              "      fill: #174EA6;\n",
              "    }\n",
              "\n",
              "    [theme=dark] .colab-df-convert {\n",
              "      background-color: #3B4455;\n",
              "      fill: #D2E3FC;\n",
              "    }\n",
              "\n",
              "    [theme=dark] .colab-df-convert:hover {\n",
              "      background-color: #434B5C;\n",
              "      box-shadow: 0px 1px 3px 1px rgba(0, 0, 0, 0.15);\n",
              "      filter: drop-shadow(0px 1px 2px rgba(0, 0, 0, 0.3));\n",
              "      fill: #FFFFFF;\n",
              "    }\n",
              "  </style>\n",
              "\n",
              "      <script>\n",
              "        const buttonEl =\n",
              "          document.querySelector('#df-ab46b439-e7ad-4723-91a3-a010a6578183 button.colab-df-convert');\n",
              "        buttonEl.style.display =\n",
              "          google.colab.kernel.accessAllowed ? 'block' : 'none';\n",
              "\n",
              "        async function convertToInteractive(key) {\n",
              "          const element = document.querySelector('#df-ab46b439-e7ad-4723-91a3-a010a6578183');\n",
              "          const dataTable =\n",
              "            await google.colab.kernel.invokeFunction('convertToInteractive',\n",
              "                                                     [key], {});\n",
              "          if (!dataTable) return;\n",
              "\n",
              "          const docLinkHtml = 'Like what you see? Visit the ' +\n",
              "            '<a target=\"_blank\" href=https://colab.research.google.com/notebooks/data_table.ipynb>data table notebook</a>'\n",
              "            + ' to learn more about interactive tables.';\n",
              "          element.innerHTML = '';\n",
              "          dataTable['output_type'] = 'display_data';\n",
              "          await google.colab.output.renderOutput(dataTable, element);\n",
              "          const docLink = document.createElement('div');\n",
              "          docLink.innerHTML = docLinkHtml;\n",
              "          element.appendChild(docLink);\n",
              "        }\n",
              "      </script>\n",
              "    </div>\n",
              "  </div>\n",
              "  "
            ]
          },
          "metadata": {},
          "execution_count": 32
        }
      ],
      "source": [
        "df[df['Category']=='1.9']"
      ]
    },
    {
      "cell_type": "code",
      "execution_count": null,
      "metadata": {
        "colab": {
          "base_uri": "https://localhost:8080/"
        },
        "id": "6k6C-jlQEWXb",
        "outputId": "55493f75-43f7-4ce1-f782-53361ebc6756"
      },
      "outputs": [
        {
          "output_type": "execute_result",
          "data": {
            "text/plain": [
              "App                             1.9\n",
              "Category                        NaN\n",
              "Rating                         19.0\n",
              "Reviews                        3.0M\n",
              "Size                         1,000+\n",
              "Installs                       Free\n",
              "Type                              0\n",
              "Price                      Everyone\n",
              "Content Rating                  NaN\n",
              "Genres            February 11, 2018\n",
              "Last Updated                 1.0.19\n",
              "Current Ver              4.0 and up\n",
              "Android Ver                     NaN\n",
              "Name: 10472, dtype: object"
            ]
          },
          "metadata": {},
          "execution_count": 33
        }
      ],
      "source": [
        "#replacing 1.9 with NAN using swip method \n",
        "df.loc[10472,'App']=df.loc[10472,'Category']\n",
        "df.loc[10472,'Category']=np.nan\n",
        "df.loc[10472]"
      ]
    },
    {
      "cell_type": "code",
      "execution_count": null,
      "metadata": {
        "colab": {
          "base_uri": "https://localhost:8080/"
        },
        "id": "nS3gMAw3EX43",
        "outputId": "f3bc32af-d3db-4a39-df39-708dda172312"
      },
      "outputs": [
        {
          "output_type": "execute_result",
          "data": {
            "text/plain": [
              "Text(0.5, 0, 'app categories')"
            ]
          },
          "metadata": {},
          "execution_count": 34
        },
        {
          "output_type": "display_data",
          "data": {
            "text/plain": [
              "<Figure size 1440x720 with 1 Axes>"
            ],
            "image/png": "[encoded data removed]"
          },
          "metadata": {
            "needs_background": "light"
          }
        }
      ],
      "source": [
        "#Ploting in terms of app category \n",
        "\n",
        "plt.rcParams['figure.figsize'] = (20, 10)\n",
        "df['Category'].value_counts().plot(kind='bar')\n",
        "plt.title('Counts of app Category')\n",
        "plt.ylabel('numbers of app users')\n",
        "plt.xlabel('app categories')"
      ]
    },
    {
      "cell_type": "markdown",
      "metadata": {
        "id": "OgBIgYixTA7z"
      },
      "source": [
        "#**Rating**"
      ]
    },
    {
      "cell_type": "code",
      "execution_count": null,
      "metadata": {
        "colab": {
          "base_uri": "https://localhost:8080/"
        },
        "id": "-0wISHHBMO7E",
        "outputId": "37caa0b1-70a6-4d58-d5b7-0b34f8f8b36c"
      },
      "outputs": [
        {
          "data": {
            "text/plain": [
              "0    4.1\n",
              "1    3.9\n",
              "2    4.7\n",
              "3    4.5\n",
              "4    4.3\n",
              "5    4.4\n",
              "6    3.8\n",
              "7    4.1\n",
              "8    4.4\n",
              "9    4.7\n",
              "Name: Rating, dtype: float64"
            ]
          },
          "execution_count": 103,
          "metadata": {},
          "output_type": "execute_result"
        }
      ],
      "source": [
        "#we are taking the top 10 values of Rating\n",
        "df['Rating'].head(10)"
      ]
    },
    {
      "cell_type": "code",
      "execution_count": null,
      "metadata": {
        "colab": {
          "base_uri": "https://localhost:8080/"
        },
        "id": "3NdCoUqXTFlS",
        "outputId": "f9fad999-e8e8-4f1d-b6eb-f21cc48f043b"
      },
      "outputs": [
        {
          "data": {
            "text/plain": [
              "array([ 4.1,  3.9,  4.7,  4.5,  4.3,  4.4,  3.8,  4.2,  4.6,  3.2,  4. ,\n",
              "        nan,  4.8,  4.9,  3.6,  3.7,  3.3,  3.4,  3.5,  3.1,  5. ,  2.6,\n",
              "        3. ,  1.9,  2.5,  2.8,  2.7,  1. ,  2.9,  2.3,  2.2,  1.7,  2. ,\n",
              "        1.8,  2.4,  1.6,  2.1,  1.4,  1.5,  1.2, 19. ])"
            ]
          },
          "execution_count": 104,
          "metadata": {},
          "output_type": "execute_result"
        }
      ],
      "source": [
        "#finding out the NaN rating\n",
        "df['Rating'].unique()"
      ]
    },
    {
      "cell_type": "code",
      "execution_count": null,
      "metadata": {
        "id": "jk52N6YQ3UmD"
      },
      "outputs": [],
      "source": [
        "#Replacing nan rating with 0 \n",
        "df.fillna({'Rating':0},inplace=True)\n"
      ]
    },
    {
      "cell_type": "code",
      "execution_count": null,
      "metadata": {
        "colab": {
          "base_uri": "https://localhost:8080/"
        },
        "id": "ee3Fab1w4gHP",
        "outputId": "63d04287-86ef-4118-fdcd-5c1e71f6f430"
      },
      "outputs": [
        {
          "data": {
            "text/plain": [
              "array([ 4.1,  3.9,  4.7,  4.5,  4.3,  4.4,  3.8,  4.2,  4.6,  3.2,  4. ,\n",
              "        0. ,  4.8,  4.9,  3.6,  3.7,  3.3,  3.4,  3.5,  3.1,  5. ,  2.6,\n",
              "        3. ,  1.9,  2.5,  2.8,  2.7,  1. ,  2.9,  2.3,  2.2,  1.7,  2. ,\n",
              "        1.8,  2.4,  1.6,  2.1,  1.4,  1.5,  1.2, 19. ])"
            ]
          },
          "execution_count": 106,
          "metadata": {},
          "output_type": "execute_result"
        }
      ],
      "source": [
        "#checking the values are replace with 0 \n",
        "df['Rating'].unique()"
      ]
    },
    {
      "cell_type": "code",
      "execution_count": null,
      "metadata": {
        "colab": {
          "base_uri": "https://localhost:8080/"
        },
        "id": "R18PxF8WT9yx",
        "outputId": "d062e077-1937-434e-f369-1ddacfc0766c"
      },
      "outputs": [
        {
          "data": {
            "text/plain": [
              "0.0     1463\n",
              "4.3      897\n",
              "4.4      895\n",
              "4.5      848\n",
              "4.2      810\n",
              "4.6      683\n",
              "4.1      621\n",
              "4.0      513\n",
              "4.7      442\n",
              "3.9      359\n",
              "3.8      286\n",
              "5.0      271\n",
              "3.7      224\n",
              "4.8      221\n",
              "3.6      167\n",
              "3.5      156\n",
              "3.4      126\n",
              "3.3      100\n",
              "4.9       85\n",
              "3.0       81\n",
              "3.1       69\n",
              "3.2       63\n",
              "2.9       45\n",
              "2.8       40\n",
              "2.6       24\n",
              "2.7       23\n",
              "2.5       20\n",
              "2.3       20\n",
              "2.4       19\n",
              "1.0       16\n",
              "2.2       14\n",
              "2.0       12\n",
              "1.9       11\n",
              "1.7        8\n",
              "1.8        8\n",
              "2.1        8\n",
              "1.6        4\n",
              "1.4        3\n",
              "1.5        3\n",
              "1.2        1\n",
              "19.0       1\n",
              "dtype: int64"
            ]
          },
          "execution_count": 107,
          "metadata": {},
          "output_type": "execute_result"
        }
      ],
      "source": [
        "#checking the numbers of apps as per there reating \n",
        "pd.value_counts(df['Rating'].values)"
      ]
    },
    {
      "cell_type": "code",
      "execution_count": null,
      "metadata": {
        "colab": {
          "base_uri": "https://localhost:8080/",
          "height": 81
        },
        "id": "s48K9I3QzmuU",
        "outputId": "59211441-4887-4e7c-dc79-1b63ca7ae257"
      },
      "outputs": [
        {
          "data": {
            "text/html": [
              "\n",
              "  <div id=\"df-2dd604c7-cf68-4d1b-bb92-a70156e203ac\">\n",
              "    <div class=\"colab-df-container\">\n",
              "      <div>\n",
              "<style scoped>\n",
              "    .dataframe tbody tr th:only-of-type {\n",
              "        vertical-align: middle;\n",
              "    }\n",
              "\n",
              "    .dataframe tbody tr th {\n",
              "        vertical-align: top;\n",
              "    }\n",
              "\n",
              "    .dataframe thead th {\n",
              "        text-align: right;\n",
              "    }\n",
              "</style>\n",
              "<table border=\"1\" class=\"dataframe\">\n",
              "  <thead>\n",
              "    <tr style=\"text-align: right;\">\n",
              "      <th></th>\n",
              "      <th>App</th>\n",
              "      <th>Category</th>\n",
              "      <th>Rating</th>\n",
              "      <th>Reviews</th>\n",
              "      <th>Size</th>\n",
              "      <th>Installs</th>\n",
              "      <th>Type</th>\n",
              "      <th>Price</th>\n",
              "      <th>Content Rating</th>\n",
              "      <th>Genres</th>\n",
              "      <th>Last Updated</th>\n",
              "      <th>Current Ver</th>\n",
              "      <th>Android Ver</th>\n",
              "    </tr>\n",
              "  </thead>\n",
              "  <tbody>\n",
              "    <tr>\n",
              "      <th>10472</th>\n",
              "      <td>1.9</td>\n",
              "      <td>NaN</td>\n",
              "      <td>19.0</td>\n",
              "      <td>3.0M</td>\n",
              "      <td>1,000+</td>\n",
              "      <td>Free</td>\n",
              "      <td>0</td>\n",
              "      <td>Everyone</td>\n",
              "      <td>NaN</td>\n",
              "      <td>February 11, 2018</td>\n",
              "      <td>1.0.19</td>\n",
              "      <td>4.0 and up</td>\n",
              "      <td>NaN</td>\n",
              "    </tr>\n",
              "  </tbody>\n",
              "</table>\n",
              "</div>\n",
              "      <button class=\"colab-df-convert\" onclick=\"convertToInteractive('df-2dd604c7-cf68-4d1b-bb92-a70156e203ac')\"\n",
              "              title=\"Convert this dataframe to an interactive table.\"\n",
              "              style=\"display:none;\">\n",
              "        \n",
              "  <svg xmlns=\"http://www.w3.org/2000/svg\" height=\"24px\"viewBox=\"0 0 24 24\"\n",
              "       width=\"24px\">\n",
              "    <path d=\"M0 0h24v24H0V0z\" fill=\"none\"/>\n",
              "    <path d=\"M18.56 5.44l.94 2.06.94-2.06 2.06-.94-2.06-.94-.94-2.06-.94 2.06-2.06.94zm-11 1L8.5 8.5l.94-2.06 2.06-.94-2.06-.94L8.5 2.5l-.94 2.06-2.06.94zm10 10l.94 2.06.94-2.06 2.06-.94-2.06-.94-.94-2.06-.94 2.06-2.06.94z\"/><path d=\"M17.41 7.96l-1.37-1.37c-.4-.4-.92-.59-1.43-.59-.52 0-1.04.2-1.43.59L10.3 9.45l-7.72 7.72c-.78.78-.78 2.05 0 2.83L4 21.41c.39.39.9.59 1.41.59.51 0 1.02-.2 1.41-.59l7.78-7.78 2.81-2.81c.8-.78.8-2.07 0-2.86zM5.41 20L4 18.59l7.72-7.72 1.47 1.35L5.41 20z\"/>\n",
              "  </svg>\n",
              "      </button>\n",
              "      \n",
              "  <style>\n",
              "    .colab-df-container {\n",
              "      display:flex;\n",
              "      flex-wrap:wrap;\n",
              "      gap: 12px;\n",
              "    }\n",
              "\n",
              "    .colab-df-convert {\n",
              "      background-color: #E8F0FE;\n",
              "      border: none;\n",
              "      border-radius: 50%;\n",
              "      cursor: pointer;\n",
              "      display: none;\n",
              "      fill: #1967D2;\n",
              "      height: 32px;\n",
              "      padding: 0 0 0 0;\n",
              "      width: 32px;\n",
              "    }\n",
              "\n",
              "    .colab-df-convert:hover {\n",
              "      background-color: #E2EBFA;\n",
              "      box-shadow: 0px 1px 2px rgba(60, 64, 67, 0.3), 0px 1px 3px 1px rgba(60, 64, 67, 0.15);\n",
              "      fill: #174EA6;\n",
              "    }\n",
              "\n",
              "    [theme=dark] .colab-df-convert {\n",
              "      background-color: #3B4455;\n",
              "      fill: #D2E3FC;\n",
              "    }\n",
              "\n",
              "    [theme=dark] .colab-df-convert:hover {\n",
              "      background-color: #434B5C;\n",
              "      box-shadow: 0px 1px 3px 1px rgba(0, 0, 0, 0.15);\n",
              "      filter: drop-shadow(0px 1px 2px rgba(0, 0, 0, 0.3));\n",
              "      fill: #FFFFFF;\n",
              "    }\n",
              "  </style>\n",
              "\n",
              "      <script>\n",
              "        const buttonEl =\n",
              "          document.querySelector('#df-2dd604c7-cf68-4d1b-bb92-a70156e203ac button.colab-df-convert');\n",
              "        buttonEl.style.display =\n",
              "          google.colab.kernel.accessAllowed ? 'block' : 'none';\n",
              "\n",
              "        async function convertToInteractive(key) {\n",
              "          const element = document.querySelector('#df-2dd604c7-cf68-4d1b-bb92-a70156e203ac');\n",
              "          const dataTable =\n",
              "            await google.colab.kernel.invokeFunction('convertToInteractive',\n",
              "                                                     [key], {});\n",
              "          if (!dataTable) return;\n",
              "\n",
              "          const docLinkHtml = 'Like what you see? Visit the ' +\n",
              "            '<a target=\"_blank\" href=https://colab.research.google.com/notebooks/data_table.ipynb>data table notebook</a>'\n",
              "            + ' to learn more about interactive tables.';\n",
              "          element.innerHTML = '';\n",
              "          dataTable['output_type'] = 'display_data';\n",
              "          await google.colab.output.renderOutput(dataTable, element);\n",
              "          const docLink = document.createElement('div');\n",
              "          docLink.innerHTML = docLinkHtml;\n",
              "          element.appendChild(docLink);\n",
              "        }\n",
              "      </script>\n",
              "    </div>\n",
              "  </div>\n",
              "  "
            ],
            "text/plain": [
              "       App Category  Rating Reviews    Size Installs Type     Price  \\\n",
              "10472  1.9      NaN    19.0    3.0M  1,000+     Free    0  Everyone   \n",
              "\n",
              "      Content Rating             Genres Last Updated Current Ver Android Ver  \n",
              "10472            NaN  February 11, 2018       1.0.19  4.0 and up         NaN  "
            ]
          },
          "execution_count": 108,
          "metadata": {},
          "output_type": "execute_result"
        }
      ],
      "source": [
        "#checking the number of App greater the 5\n",
        "df[df.Rating>5]"
      ]
    },
    {
      "cell_type": "code",
      "execution_count": null,
      "metadata": {
        "id": "VYDGUEXHu1jo"
      },
      "outputs": [],
      "source": [
        "#removing the App whose reating is greater than 5\n",
        "df.drop([10472],inplace=True)"
      ]
    },
    {
      "cell_type": "code",
      "execution_count": null,
      "metadata": {
        "colab": {
          "base_uri": "https://localhost:8080/",
          "height": 607
        },
        "id": "jrsnxafRPT8L",
        "outputId": "b76189d3-9620-43d6-82f8-7d29043f1a69"
      },
      "outputs": [
        {
          "data": {
            "image/png": "[encoded data removed]",
            "text/plain": [
              "<Figure size 1440x720 with 1 Axes>"
            ]
          },
          "metadata": {},
          "output_type": "display_data"
        }
      ],
      "source": [
        "#Taking out the histogram as per the rating \n",
        "df.hist();\n"
      ]
    },
    {
      "cell_type": "code",
      "execution_count": null,
      "metadata": {
        "colab": {
          "base_uri": "https://localhost:8080/",
          "height": 609
        },
        "id": "CPqP5fhzKCyC",
        "outputId": "0d7816d3-7082-4d43-abe7-4acf29d1c8e0"
      },
      "outputs": [
        {
          "data": {
            "text/plain": [
              "<matplotlib.axes._subplots.AxesSubplot at 0x7fcb6a4d4b90>"
            ]
          },
          "execution_count": 111,
          "metadata": {},
          "output_type": "execute_result"
        },
        {
          "data": {
            "image/png": "[encoded data removed]",
            "text/plain": [
              "<Figure size 1440x720 with 1 Axes>"
            ]
          },
          "metadata": {},
          "output_type": "display_data"
        }
      ],
      "source": [
        "#checking the reating with box plot\n",
        "df.boxplot()"
      ]
    },
    {
      "cell_type": "markdown",
      "metadata": {
        "id": "W3s1wBYu61eB"
      },
      "source": [
        "#**Review**"
      ]
    },
    {
      "cell_type": "code",
      "execution_count": null,
      "metadata": {
        "colab": {
          "base_uri": "https://localhost:8080/"
        },
        "id": "4bLHy21-V9cy",
        "outputId": "ccd1e7ea-6e7d-4b18-f95b-6f4987e4f627"
      },
      "outputs": [
        {
          "data": {
            "text/plain": [
              "0       159\n",
              "1       967\n",
              "2     87510\n",
              "3    215644\n",
              "4       967\n",
              "5       167\n",
              "6       178\n",
              "7     36815\n",
              "8     13791\n",
              "9       121\n",
              "Name: Reviews, dtype: object"
            ]
          },
          "execution_count": 112,
          "metadata": {},
          "output_type": "execute_result"
        }
      ],
      "source": [
        "df['Reviews'].head(10)"
      ]
    },
    {
      "cell_type": "code",
      "execution_count": null,
      "metadata": {
        "colab": {
          "base_uri": "https://localhost:8080/"
        },
        "id": "_HtNL1wKWAd8",
        "outputId": "b94f190d-728c-4ecd-add1-cdec454f5095"
      },
      "outputs": [
        {
          "data": {
            "text/plain": [
              "array(['159', '967', '87510', ..., '603', '1195', '398307'], dtype=object)"
            ]
          },
          "execution_count": 113,
          "metadata": {},
          "output_type": "execute_result"
        }
      ],
      "source": [
        "#taking the unique values from Reviews\n",
        "df['Reviews'].unique()"
      ]
    },
    {
      "cell_type": "code",
      "execution_count": null,
      "metadata": {
        "colab": {
          "base_uri": "https://localhost:8080/"
        },
        "id": "4vPPTNqtYGhi",
        "outputId": "f650a8c3-d5d8-4aa1-e2a9-2ed81ce68330"
      },
      "outputs": [
        {
          "data": {
            "text/plain": [
              "App                object\n",
              "Category           object\n",
              "Rating            float64\n",
              "Reviews            object\n",
              "Size               object\n",
              "Installs           object\n",
              "Type               object\n",
              "Price              object\n",
              "Content Rating     object\n",
              "Genres             object\n",
              "Last Updated       object\n",
              "Current Ver        object\n",
              "Android Ver        object\n",
              "dtype: object"
            ]
          },
          "execution_count": 114,
          "metadata": {},
          "output_type": "execute_result"
        }
      ],
      "source": [
        "#checking data type of Reviews \n",
        "df.dtypes"
      ]
    },
    {
      "cell_type": "code",
      "execution_count": null,
      "metadata": {
        "id": "sexDpG7B7ifX"
      },
      "outputs": [],
      "source": [
        "#converting data type from object to float\n",
        "df['Reviews']= df['Reviews'].replace('0.0',0)\n",
        "df['Reviews']=df['Reviews'].replace('3.0M',3000000)\n",
        "df['Reviews']=df['Reviews'].astype(float)"
      ]
    },
    {
      "cell_type": "code",
      "execution_count": null,
      "metadata": {
        "colab": {
          "base_uri": "https://localhost:8080/"
        },
        "id": "TGMMLkOj9kKl",
        "outputId": "3f1a640a-383a-4f81-80e4-84a5dde2eda1"
      },
      "outputs": [
        {
          "data": {
            "text/plain": [
              "dtype('float64')"
            ]
          },
          "execution_count": 116,
          "metadata": {},
          "output_type": "execute_result"
        }
      ],
      "source": [
        "#checking tthe converted data type\n",
        "df['Reviews'].dtype"
      ]
    },
    {
      "cell_type": "code",
      "execution_count": null,
      "metadata": {
        "colab": {
          "base_uri": "https://localhost:8080/"
        },
        "id": "zhoH0RH19o_7",
        "outputId": "f153d1d3-58e2-492f-c2d9-003465f3b278"
      },
      "outputs": [
        {
          "data": {
            "text/plain": [
              "count    9.659000e+03\n",
              "mean     2.165926e+05\n",
              "std      1.831320e+06\n",
              "min      0.000000e+00\n",
              "25%      2.500000e+01\n",
              "50%      9.670000e+02\n",
              "75%      2.940100e+04\n",
              "max      7.815831e+07\n",
              "Name: Reviews, dtype: float64"
            ]
          },
          "execution_count": 117,
          "metadata": {},
          "output_type": "execute_result"
        }
      ],
      "source": [
        "df['Reviews'].describe()"
      ]
    },
    {
      "cell_type": "code",
      "execution_count": null,
      "metadata": {
        "colab": {
          "base_uri": "https://localhost:8080/",
          "height": 688
        },
        "id": "9_7m1eODhEWt",
        "outputId": "52d2e15e-c38b-459f-f85c-408f44b7668f"
      },
      "outputs": [
        {
          "name": "stderr",
          "output_type": "stream",
          "text": [
            "/usr/local/lib/python3.7/dist-packages/seaborn/distributions.py:2619: FutureWarning: `distplot` is a deprecated function and will be removed in a future version. Please adapt your code to use either `displot` (a figure-level function with similar flexibility) or `kdeplot` (an axes-level function for kernel density plots).\n",
            "  warnings.warn(msg, FutureWarning)\n"
          ]
        },
        {
          "data": {
            "text/plain": [
              "<matplotlib.axes._subplots.AxesSubplot at 0x7fcb6a41b790>"
            ]
          },
          "execution_count": 118,
          "metadata": {},
          "output_type": "execute_result"
        },
        {
          "data": {
            "image/png": "[encoded data removed]",
            "text/plain": [
              "<Figure size 1440x720 with 1 Axes>"
            ]
          },
          "metadata": {},
          "output_type": "display_data"
        }
      ],
      "source": [
        "sns.distplot(df['Reviews'], hist=False,color='red')"
      ]
    },
    {
      "cell_type": "code",
      "execution_count": null,
      "metadata": {
        "colab": {
          "base_uri": "https://localhost:8080/",
          "height": 731
        },
        "id": "gtmxmaveCH5-",
        "outputId": "47df6aac-8225-49c5-d276-d999befc6d7a"
      },
      "outputs": [
        {
          "data": {
            "text/plain": [
              "<matplotlib.axes._subplots.AxesSubplot at 0x7fcb6a40e6d0>"
            ]
          },
          "execution_count": 119,
          "metadata": {},
          "output_type": "execute_result"
        },
        {
          "data": {
            "image/png": "[encoded data removed]",
            "text/plain": [
              "<Figure size 864x864 with 1 Axes>"
            ]
          },
          "metadata": {},
          "output_type": "display_data"
        }
      ],
      "source": [
        "plt.figure(figsize=(12,12))\n",
        "sum_inst = df.groupby(['Category'])['Reviews'].sum().sort_values(ascending=False)\n",
        "sns.barplot(x=sum_inst, y=sum_inst.index, data=df)"
      ]
    },
    {
      "cell_type": "markdown",
      "metadata": {
        "id": "Fc5dHhAXL-Yq"
      },
      "source": [
        "#**Size**"
      ]
    },
    {
      "cell_type": "code",
      "execution_count": 33,
      "metadata": {
        "colab": {
          "base_uri": "https://localhost:8080/"
        },
        "id": "khvaJ0eHMFu3",
        "outputId": "6d1c6b8f-ae91-4789-f2ac-0dcc01149c86"
      },
      "outputs": [
        {
          "output_type": "execute_result",
          "data": {
            "text/plain": [
              "0      19M\n",
              "1      14M\n",
              "2     8.7M\n",
              "3      25M\n",
              "4     2.8M\n",
              "5     5.6M\n",
              "6      19M\n",
              "7      29M\n",
              "8      33M\n",
              "9     3.1M\n",
              "10     28M\n",
              "11     12M\n",
              "12     20M\n",
              "13     21M\n",
              "14     37M\n",
              "15    2.7M\n",
              "16    5.5M\n",
              "17     17M\n",
              "18     39M\n",
              "19     31M\n",
              "Name: Size, dtype: object"
            ]
          },
          "metadata": {},
          "execution_count": 33
        }
      ],
      "source": [
        "df['Size'].head(20)"
      ]
    },
    {
      "cell_type": "code",
      "execution_count": 34,
      "metadata": {
        "id": "kmJKi042McYR",
        "colab": {
          "base_uri": "https://localhost:8080/"
        },
        "outputId": "af371b85-d5a8-43ad-ae6b-cb0752001bf4"
      },
      "outputs": [
        {
          "output_type": "execute_result",
          "data": {
            "text/plain": [
              "array(['19M', '14M', '8.7M', '25M', '2.8M', '5.6M', '29M', '33M', '3.1M',\n",
              "       '28M', '12M', '20M', '21M', '37M', '2.7M', '5.5M', '17M', '39M',\n",
              "       '31M', '4.2M', '7.0M', '23M', '6.0M', '6.1M', '4.6M', '9.2M',\n",
              "       '5.2M', '11M', '24M', 'Varies with device', '9.4M', '15M', '10M',\n",
              "       '1.2M', '26M', '8.0M', '7.9M', '56M', '57M', '35M', '54M', '201k',\n",
              "       '3.6M', '5.7M', '8.6M', '2.4M', '27M', '2.5M', '16M', '3.4M',\n",
              "       '8.9M', '3.9M', '2.9M', '38M', '32M', '5.4M', '18M', '1.1M',\n",
              "       '2.2M', '4.5M', '9.8M', '52M', '9.0M', '6.7M', '30M', '2.6M',\n",
              "       '7.1M', '3.7M', '22M', '7.4M', '6.4M', '3.2M', '8.2M', '9.9M',\n",
              "       '4.9M', '9.5M', '5.0M', '5.9M', '13M', '73M', '6.8M', '3.5M',\n",
              "       '4.0M', '2.3M', '7.2M', '2.1M', '42M', '7.3M', '9.1M', '55M',\n",
              "       '23k', '6.5M', '1.5M', '7.5M', '51M', '41M', '48M', '8.5M', '46M',\n",
              "       '8.3M', '4.3M', '4.7M', '3.3M', '40M', '7.8M', '8.8M', '6.6M',\n",
              "       '5.1M', '61M', '66M', '79k', '8.4M', '118k', '44M', '695k', '1.6M',\n",
              "       '6.2M', '18k', '53M', '1.4M', '3.0M', '5.8M', '3.8M', '9.6M',\n",
              "       '45M', '63M', '49M', '77M', '4.4M', '4.8M', '70M', '6.9M', '9.3M',\n",
              "       '10.0M', '8.1M', '36M', '84M', '97M', '2.0M', '1.9M', '1.8M',\n",
              "       '5.3M', '47M', '556k', '526k', '76M', '7.6M', '59M', '9.7M', '78M',\n",
              "       '72M', '43M', '7.7M', '6.3M', '334k', '34M', '93M', '65M', '79M',\n",
              "       '100M', '58M', '50M', '68M', '64M', '67M', '60M', '94M', '232k',\n",
              "       '99M', '624k', '95M', '8.5k', '41k', '292k', '11k', '80M', '1.7M',\n",
              "       '74M', '62M', '69M', '75M', '98M', '85M', '82M', '96M', '87M',\n",
              "       '71M', '86M', '91M', '81M', '92M', '83M', '88M', '704k', '862k',\n",
              "       '899k', '378k', '266k', '375k', '1.3M', '975k', '980k', '4.1M',\n",
              "       '89M', '696k', '544k', '525k', '920k', '779k', '853k', '720k',\n",
              "       '713k', '772k', '318k', '58k', '241k', '196k', '857k', '51k',\n",
              "       '953k', '865k', '251k', '930k', '540k', '313k', '746k', '203k',\n",
              "       '26k', '314k', '239k', '371k', '220k', '730k', '756k', '91k',\n",
              "       '293k', '17k', '74k', '14k', '317k', '78k', '924k', '902k', '818k',\n",
              "       '81k', '939k', '169k', '45k', '475k', '965k', '90M', '545k', '61k',\n",
              "       '283k', '655k', '714k', '93k', '872k', '121k', '322k', '1.0M',\n",
              "       '976k', '172k', '238k', '549k', '206k', '954k', '444k', '717k',\n",
              "       '210k', '609k', '308k', '705k', '306k', '904k', '473k', '175k',\n",
              "       '350k', '383k', '454k', '421k', '70k', '812k', '442k', '842k',\n",
              "       '417k', '412k', '459k', '478k', '335k', '782k', '721k', '430k',\n",
              "       '429k', '192k', '200k', '460k', '728k', '496k', '816k', '414k',\n",
              "       '506k', '887k', '613k', '243k', '569k', '778k', '683k', '592k',\n",
              "       '319k', '186k', '840k', '647k', '191k', '373k', '437k', '598k',\n",
              "       '716k', '585k', '982k', '222k', '219k', '55k', '948k', '323k',\n",
              "       '691k', '511k', '951k', '963k', '25k', '554k', '351k', '27k',\n",
              "       '82k', '208k', '913k', '514k', '551k', '29k', '103k', '898k',\n",
              "       '743k', '116k', '153k', '209k', '353k', '499k', '173k', '597k',\n",
              "       '809k', '122k', '411k', '400k', '801k', '787k', '237k', '50k',\n",
              "       '643k', '986k', '97k', '516k', '837k', '780k', '961k', '269k',\n",
              "       '20k', '498k', '600k', '749k', '642k', '881k', '72k', '656k',\n",
              "       '601k', '221k', '228k', '108k', '940k', '176k', '33k', '663k',\n",
              "       '34k', '942k', '259k', '164k', '458k', '245k', '629k', '28k',\n",
              "       '288k', '775k', '785k', '636k', '916k', '994k', '309k', '485k',\n",
              "       '914k', '903k', '608k', '500k', '54k', '562k', '847k', '957k',\n",
              "       '688k', '811k', '270k', '48k', '329k', '523k', '921k', '874k',\n",
              "       '981k', '784k', '280k', '24k', '518k', '754k', '892k', '154k',\n",
              "       '860k', '364k', '387k', '626k', '161k', '879k', '39k', '970k',\n",
              "       '170k', '141k', '160k', '144k', '143k', '190k', '376k', '193k',\n",
              "       '246k', '73k', '658k', '992k', '253k', '420k', '404k', '1,000+',\n",
              "       '470k', '226k', '240k', '89k', '234k', '257k', '861k', '467k',\n",
              "       '157k', '44k', '676k', '67k', '552k', '885k', '1020k', '582k',\n",
              "       '619k'], dtype=object)"
            ]
          },
          "metadata": {},
          "execution_count": 34
        }
      ],
      "source": [
        "df['Size'].unique()"
      ]
    },
    {
      "cell_type": "code",
      "execution_count": null,
      "metadata": {
        "id": "Hw7o-G9zMpJY"
      },
      "outputs": [],
      "source": [
        "def convert_size(size):\n",
        "  '''\n",
        "  This convert all the valid entry from kb to mb and return the result in float data type.\n",
        "  '''\n",
        "  try:\n",
        "    if 'M' in size:\n",
        "      return float(size[:1])\n",
        "    elif 'k' in size:\n",
        "      return round(float(size[:1])/1024 , 3)  \n",
        "    else:\n",
        "      return size\n",
        "  except:\n",
        "      return size"
      ]
    },
    {
      "cell_type": "code",
      "source": [
        "df['Size']= df['Size'].apply( lambda x: convert_size(x))\n",
        "df['Size'].head()"
      ],
      "metadata": {
        "colab": {
          "base_uri": "https://localhost:8080/"
        },
        "id": "iDU5JTo3x_BX",
        "outputId": "81c7898a-bcaf-4c46-88c0-a8ca78358a22"
      },
      "execution_count": null,
      "outputs": [
        {
          "output_type": "execute_result",
          "data": {
            "text/plain": [
              "0    1.0\n",
              "1    1.0\n",
              "2    8.0\n",
              "3    2.0\n",
              "4    2.0\n",
              "Name: Size, dtype: object"
            ]
          },
          "metadata": {},
          "execution_count": 11
        }
      ]
    },
    {
      "cell_type": "code",
      "execution_count": 42,
      "metadata": {
        "id": "9D6V36UoR1WT",
        "colab": {
          "base_uri": "https://localhost:8080/"
        },
        "outputId": "b550f4ac-f21c-49ed-bc0b-ef8736739f8e"
      },
      "outputs": [
        {
          "output_type": "execute_result",
          "data": {
            "text/plain": [
              "Varies with device    1695\n",
              "11M                    198\n",
              "12M                    196\n",
              "14M                    194\n",
              "13M                    191\n",
              "                      ... \n",
              "429k                     1\n",
              "200k                     1\n",
              "460k                     1\n",
              "728k                     1\n",
              "619k                     1\n",
              "Name: Size, Length: 462, dtype: int64"
            ]
          },
          "metadata": {},
          "execution_count": 42
        }
      ],
      "source": [
        "df['Size'].value_counts()"
      ]
    },
    {
      "cell_type": "markdown",
      "metadata": {
        "id": "foFWv_-bJrEx"
      },
      "source": [
        "#**Installs**"
      ]
    },
    {
      "cell_type": "code",
      "execution_count": null,
      "metadata": {
        "colab": {
          "base_uri": "https://localhost:8080/"
        },
        "id": "nI_Lt5QcNIln",
        "outputId": "f78a578f-2183-46e4-dfcc-e241947da2c1"
      },
      "outputs": [
        {
          "data": {
            "text/plain": [
              "0        10,000+\n",
              "1       500,000+\n",
              "2     5,000,000+\n",
              "3    50,000,000+\n",
              "4       100,000+\n",
              "5        50,000+\n",
              "6        50,000+\n",
              "7     1,000,000+\n",
              "8     1,000,000+\n",
              "9        10,000+\n",
              "Name: Installs, dtype: object"
            ]
          },
          "execution_count": 120,
          "metadata": {},
          "output_type": "execute_result"
        }
      ],
      "source": [
        "df['Installs'].head(10)"
      ]
    },
    {
      "cell_type": "code",
      "execution_count": null,
      "metadata": {
        "colab": {
          "base_uri": "https://localhost:8080/"
        },
        "id": "3Mr84lZONlaK",
        "outputId": "afd768b6-1cb3-4fe1-f1c6-36b91edee3ea"
      },
      "outputs": [
        {
          "data": {
            "text/plain": [
              "array(['10,000+', '500,000+', '5,000,000+', '50,000,000+', '100,000+',\n",
              "       '50,000+', '1,000,000+', '10,000,000+', '5,000+', '100,000,000+',\n",
              "       '1,000,000,000+', '1,000+', '500,000,000+', '50+', '100+', '500+',\n",
              "       '10+', '1+', '5+', '0+', '0'], dtype=object)"
            ]
          },
          "execution_count": 121,
          "metadata": {},
          "output_type": "execute_result"
        }
      ],
      "source": [
        "#Taking the unique installs \n",
        "df['Installs'].unique()"
      ]
    },
    {
      "cell_type": "code",
      "execution_count": null,
      "metadata": {
        "colab": {
          "base_uri": "https://localhost:8080/"
        },
        "id": "4RydFP4sPK14",
        "outputId": "02ed04b1-0eb9-4e9d-bb9f-e3ef7c134c08"
      },
      "outputs": [
        {
          "name": "stderr",
          "output_type": "stream",
          "text": [
            "/usr/local/lib/python3.7/dist-packages/ipykernel_launcher.py:3: FutureWarning: The default value of regex will change from True to False in a future version. In addition, single character regular expressions will *not* be treated as literal strings when regex=True.\n",
            "  This is separate from the ipykernel package so we can avoid doing imports until\n"
          ]
        }
      ],
      "source": [
        "#replacing the special carecter and converting it to float\n",
        "df['Installs']=df['Installs'].str.replace(',','')\n",
        "df['Installs']=df['Installs'].str.replace('+','')\n",
        "df['Installs']=df['Installs'].replace('Free',np.NaN)"
      ]
    },
    {
      "cell_type": "code",
      "execution_count": null,
      "metadata": {
        "colab": {
          "base_uri": "https://localhost:8080/"
        },
        "id": "56N_P4naSoVD",
        "outputId": "7964c651-9a56-4fdd-c8be-f444698c77dd"
      },
      "outputs": [
        {
          "data": {
            "text/plain": [
              "dtype('float64')"
            ]
          },
          "execution_count": 123,
          "metadata": {},
          "output_type": "execute_result"
        }
      ],
      "source": [
        "df['Installs']=df['Installs'].astype(float)\n",
        "df['Installs'].dtype"
      ]
    },
    {
      "cell_type": "code",
      "execution_count": null,
      "metadata": {
        "colab": {
          "base_uri": "https://localhost:8080/",
          "height": 731
        },
        "id": "s4H-DQXsSqJz",
        "outputId": "ae76448d-3a3d-439c-fb96-7d2fe18cb69f"
      },
      "outputs": [
        {
          "data": {
            "text/plain": [
              "<matplotlib.axes._subplots.AxesSubplot at 0x7fcb6ae63dd0>"
            ]
          },
          "execution_count": 124,
          "metadata": {},
          "output_type": "execute_result"
        },
        {
          "data": {
            "image/png": "[encoded data removed]",
            "text/plain": [
              "<Figure size 864x864 with 1 Axes>"
            ]
          },
          "metadata": {},
          "output_type": "display_data"
        }
      ],
      "source": [
        "plt.figure(figsize=(12,12))\n",
        "sum_inst = df.groupby(['Category'])['Installs'].sum().sort_values(ascending=False)\n",
        "sns.barplot(x=sum_inst, y=sum_inst.index, data=df)"
      ]
    },
    {
      "cell_type": "markdown",
      "metadata": {
        "id": "gwzqjxGthbGc"
      },
      "source": [
        "#**Type**"
      ]
    },
    {
      "cell_type": "code",
      "execution_count": null,
      "metadata": {
        "colab": {
          "base_uri": "https://localhost:8080/"
        },
        "id": "U6IhMXUIjmNP",
        "outputId": "26a9ae52-1ad7-4c12-b8b8-6dcee0352c81"
      },
      "outputs": [
        {
          "data": {
            "text/plain": [
              "10831    Free\n",
              "10832    Free\n",
              "10833    Free\n",
              "10834    Free\n",
              "10835    Free\n",
              "10836    Free\n",
              "10837    Free\n",
              "10838    Free\n",
              "10839    Free\n",
              "10840    Free\n",
              "Name: Type, dtype: object"
            ]
          },
          "execution_count": 125,
          "metadata": {},
          "output_type": "execute_result"
        }
      ],
      "source": [
        "df['Type'].tail(10)"
      ]
    },
    {
      "cell_type": "code",
      "execution_count": null,
      "metadata": {
        "colab": {
          "base_uri": "https://localhost:8080/"
        },
        "id": "vzwOKH5cjpzi",
        "outputId": "1fb77ff6-2d89-4e10-e068-e77f9545e598"
      },
      "outputs": [
        {
          "data": {
            "text/plain": [
              "array(['Free', 'Paid', nan], dtype=object)"
            ]
          },
          "execution_count": 126,
          "metadata": {},
          "output_type": "execute_result"
        }
      ],
      "source": [
        "#Taking unique type of app\n",
        "df['Type'].unique()"
      ]
    },
    {
      "cell_type": "code",
      "source": [
        "df['Type'].value_counts()"
      ],
      "metadata": {
        "id": "PfoS_3Vpwa0a",
        "outputId": "26fd1a26-8c19-4dde-e247-7d1d00dbc89a",
        "colab": {
          "base_uri": "https://localhost:8080/"
        }
      },
      "execution_count": null,
      "outputs": [
        {
          "output_type": "execute_result",
          "data": {
            "text/plain": [
              "Free    10039\n",
              "Paid      800\n",
              "0           1\n",
              "Name: Type, dtype: int64"
            ]
          },
          "metadata": {},
          "execution_count": 7
        }
      ]
    },
    {
      "cell_type": "code",
      "execution_count": null,
      "metadata": {
        "colab": {
          "base_uri": "https://localhost:8080/",
          "height": 731
        },
        "id": "NMQyFBe5kBaR",
        "outputId": "f2c910b0-eb08-4b59-a10a-78707d9eacd2"
      },
      "outputs": [
        {
          "output_type": "execute_result",
          "data": {
            "text/plain": [
              "([<matplotlib.patches.Wedge at 0x7fd5cc4021d0>,\n",
              "  <matplotlib.patches.Wedge at 0x7fd5cc402910>,\n",
              "  <matplotlib.patches.Wedge at 0x7fd5cc40a1d0>],\n",
              " [Text(-1.0704934832131052, 0.2530685725219024, 'Free'),\n",
              "  Text(1.0704200757176496, -0.25337888921656726, 'Paid'),\n",
              "  Text(1.0999999537549277, -0.00031896576173441897, '0')],\n",
              " [Text(-0.5839055362980573, 0.13803740319376492, '92.6%'),\n",
              "  Text(0.5838654958459907, -0.1382066668454003, '7.4%'),\n",
              "  Text(0.599999974775415, -0.00017398132458241035, '0.0%')])"
            ]
          },
          "metadata": {},
          "execution_count": 5
        },
        {
          "output_type": "display_data",
          "data": {
            "text/plain": [
              "<Figure size 720x720 with 1 Axes>"
            ],
            "image/png": "[encoded data removed]"
          },
          "metadata": {}
        }
      ],
      "source": [
        "#ploting free and paid app\n",
        "plt.figure(figsize=(10,10))\n",
        "labels= df['Type'].value_counts(sort = True).index\n",
        "Size= df['Type'].value_counts()\n",
        "colors = ['b','y','b']\n",
        "plt.pie(Size,labels=labels, autopct='%.1f%%' ,colors=colors)"
      ]
    },
    {
      "cell_type": "code",
      "execution_count": null,
      "metadata": {
        "id": "5f7OoTPClIpd"
      },
      "outputs": [],
      "source": []
    },
    {
      "cell_type": "markdown",
      "metadata": {
        "id": "8rIttG4mscDu"
      },
      "source": [
        "#**Price**\n"
      ]
    },
    {
      "cell_type": "code",
      "execution_count": null,
      "metadata": {
        "colab": {
          "base_uri": "https://localhost:8080/"
        },
        "id": "DPe8YSOWs-LD",
        "outputId": "7e16d57a-f5cd-4a8f-fa03-92d9ac0c7fe7"
      },
      "outputs": [
        {
          "data": {
            "text/plain": [
              "array(['0', '4.99', '3.99', '6.99', '1.49', '2.99', '7.99', '5.99',\n",
              "       '3.49', '1.99', '9.99', '7.49', '0.99', '9.00', '5.49', '10.00',\n",
              "       '24.99', '11.99', '79.99', '16.99', '14.99', '1.00', '29.99',\n",
              "       '12.99', '2.49', '10.99', '1.50', '19.99', '15.99', '33.99',\n",
              "       '74.99', '39.99', '3.95', '4.49', '1.70', '8.99', '2.00', '3.88',\n",
              "       '25.99', '399.99', '17.99', '400.00', '3.02', '1.76', '4.84',\n",
              "       '4.77', '1.61', '2.50', '1.59', '6.49', '1.29', '5.00', '13.99',\n",
              "       '299.99', '379.99', '37.99', '18.99', '389.99', '19.90', '8.49',\n",
              "       '1.75', '14.00', '4.85', '46.99', '109.99', '154.99', '3.08',\n",
              "       '2.59', '4.80', '1.96', '19.40', '3.90', '4.59', '15.46', '3.04',\n",
              "       '4.29', '2.60', '3.28', '4.60', '28.99', '2.95', '2.90', '1.97',\n",
              "       '200.00', '89.99', '2.56', '30.99', '3.61', '394.99', '1.26',\n",
              "       'Everyone', '1.20', '1.04'], dtype=object)"
            ]
          },
          "execution_count": 10,
          "metadata": {},
          "output_type": "execute_result"
        }
      ],
      "source": [
        "#checking unique elements \n",
        "df['Price'].unique()"
      ]
    },
    {
      "cell_type": "code",
      "execution_count": null,
      "metadata": {
        "colab": {
          "base_uri": "https://localhost:8080/"
        },
        "id": "0iyRWhtQtCep",
        "outputId": "99e1814f-bc9c-4109-89cd-25b3242539b6"
      },
      "outputs": [
        {
          "data": {
            "text/plain": [
              "0         10040\n",
              "$0.99       148\n",
              "$2.99       129\n",
              "$1.99        73\n",
              "$4.99        72\n",
              "          ...  \n",
              "$1.75         1\n",
              "$14.00        1\n",
              "$4.85         1\n",
              "$46.99        1\n",
              "$1.04         1\n",
              "Name: Price, Length: 93, dtype: int64"
            ]
          },
          "execution_count": 5,
          "metadata": {},
          "output_type": "execute_result"
        }
      ],
      "source": [
        "#checking value count for perticular price\n",
        "df['Price'].value_counts()\n"
      ]
    },
    {
      "cell_type": "code",
      "execution_count": null,
      "metadata": {
        "colab": {
          "base_uri": "https://localhost:8080/"
        },
        "id": "Mkfe9Cm_tJaw",
        "outputId": "a42805e9-5cbe-473e-b05a-c8cd0d3c79e3"
      },
      "outputs": [
        {
          "output_type": "stream",
          "name": "stderr",
          "text": [
            "/usr/local/lib/python3.7/dist-packages/ipykernel_launcher.py:1: FutureWarning: The default value of regex will change from True to False in a future version. In addition, single character regular expressions will *not* be treated as literal strings when regex=True.\n",
            "  \"\"\"Entry point for launching an IPython kernel.\n"
          ]
        },
        {
          "output_type": "execute_result",
          "data": {
            "text/plain": [
              "dtype('O')"
            ]
          },
          "metadata": {},
          "execution_count": 90
        }
      ],
      "source": [
        "#replacing special character\n",
        "df['Price'] = df['Price'].str.replace(\"$\" , \"\")\n",
        "df['Price']=df['Price'].replace(\"Everyone\" , \"_\")\n",
        "df['Price'].dtype"
      ]
    },
    {
      "cell_type": "code",
      "execution_count": null,
      "metadata": {
        "colab": {
          "base_uri": "https://localhost:8080/"
        },
        "id": "yI2Gfuuib6ti",
        "outputId": "fc246127-054b-4e4f-c098-9b1ed78940bf"
      },
      "outputs": [
        {
          "output_type": "execute_result",
          "data": {
            "text/plain": [
              "array(['0', '4.99', '3.99', '6.99', '1.49', '2.99', '7.99', '5.99',\n",
              "       '3.49', '1.99', '9.99', '7.49', '0.99', '9.00', '5.49', '10.00',\n",
              "       '24.99', '11.99', '79.99', '16.99', '14.99', '1.00', '29.99',\n",
              "       '12.99', '2.49', '10.99', '1.50', '19.99', '15.99', '33.99',\n",
              "       '74.99', '39.99', '3.95', '4.49', '1.70', '8.99', '2.00', '3.88',\n",
              "       '25.99', '399.99', '17.99', '400.00', '3.02', '1.76', '4.84',\n",
              "       '4.77', '1.61', '2.50', '1.59', '6.49', '1.29', '5.00', '13.99',\n",
              "       '299.99', '379.99', '37.99', '18.99', '389.99', '19.90', '8.49',\n",
              "       '1.75', '14.00', '4.85', '46.99', '109.99', '154.99', '3.08',\n",
              "       '2.59', '4.80', '1.96', '19.40', '3.90', '4.59', '15.46', '3.04',\n",
              "       '4.29', '2.60', '3.28', '4.60', '28.99', '2.95', '2.90', '1.97',\n",
              "       '200.00', '89.99', '2.56', '30.99', '3.61', '394.99', '1.26', ' ,',\n",
              "       '1.20', '1.04'], dtype=object)"
            ]
          },
          "metadata": {},
          "execution_count": 91
        }
      ],
      "source": [
        "#re-checking the value \n",
        "df['Price'].unique()"
      ]
    },
    {
      "cell_type": "code",
      "execution_count": null,
      "metadata": {
        "id": "x4caFi1idQ57",
        "colab": {
          "base_uri": "https://localhost:8080/",
          "height": 648
        },
        "outputId": "e1cbe418-3562-4201-de89-e227cd4521c9"
      },
      "outputs": [
        {
          "output_type": "execute_result",
          "data": {
            "text/plain": [
              "Text(0.5, 0, 'Price')"
            ]
          },
          "metadata": {},
          "execution_count": 92
        },
        {
          "output_type": "display_data",
          "data": {
            "text/plain": [
              "<Figure size 1440x720 with 1 Axes>"
            ],
            "image/png": "[encoded data removed]"
          },
          "metadata": {
            "needs_background": "light"
          }
        }
      ],
      "source": [
        "#grap in bases on price\n",
        "plt.rcParams['figure.figsize'] = (20, 10)\n",
        "df['Price'].value_counts().plot(kind='bar')\n",
        "plt.ylabel('users')\n",
        "plt.xlabel('Price')"
      ]
    },
    {
      "cell_type": "code",
      "source": [],
      "metadata": {
        "id": "qFOxQkjgIioN"
      },
      "execution_count": null,
      "outputs": []
    },
    {
      "cell_type": "markdown",
      "source": [
        "#**content rating**"
      ],
      "metadata": {
        "id": "cD4YWdOTIoiR"
      }
    },
    {
      "cell_type": "code",
      "source": [
        "df[\"Content Rating\"].head()"
      ],
      "metadata": {
        "colab": {
          "base_uri": "https://localhost:8080/"
        },
        "id": "eKhFaTUkIrsC",
        "outputId": "fd3977b0-589c-4920-9018-f7315eb6e8af"
      },
      "execution_count": null,
      "outputs": [
        {
          "output_type": "execute_result",
          "data": {
            "text/plain": [
              "0    Everyone\n",
              "1    Everyone\n",
              "2    Everyone\n",
              "3        Teen\n",
              "4    Everyone\n",
              "Name: Content Rating, dtype: object"
            ]
          },
          "metadata": {},
          "execution_count": 93
        }
      ]
    },
    {
      "cell_type": "code",
      "source": [
        "#checking unique values\n",
        "df[\"Content Rating\"].unique()\n"
      ],
      "metadata": {
        "colab": {
          "base_uri": "https://localhost:8080/"
        },
        "id": "gDL8ATY-IueN",
        "outputId": "1f6de074-3779-4388-9b09-d97bb9df2d00"
      },
      "execution_count": null,
      "outputs": [
        {
          "output_type": "execute_result",
          "data": {
            "text/plain": [
              "array(['Everyone', 'Teen', 'Everyone 10+', 'Mature 17+',\n",
              "       'Adults only 18+', 'Unrated', nan], dtype=object)"
            ]
          },
          "metadata": {},
          "execution_count": 94
        }
      ]
    },
    {
      "cell_type": "code",
      "source": [
        "#taking out the value count for each element \n",
        "df[\"Content Rating\"].value_counts()"
      ],
      "metadata": {
        "colab": {
          "base_uri": "https://localhost:8080/"
        },
        "id": "CK2UrFmDIwwi",
        "outputId": "46adbd13-c1c6-409c-9ff9-26e836f49b9d"
      },
      "execution_count": null,
      "outputs": [
        {
          "output_type": "execute_result",
          "data": {
            "text/plain": [
              "Everyone           8714\n",
              "Teen               1208\n",
              "Mature 17+          499\n",
              "Everyone 10+        414\n",
              "Adults only 18+       3\n",
              "Unrated               2\n",
              "Name: Content Rating, dtype: int64"
            ]
          },
          "metadata": {},
          "execution_count": 95
        }
      ]
    },
    {
      "cell_type": "code",
      "source": [
        "#ploting content rating \n",
        "plt.rcParams['figure.figsize'] = (20, 10)\n",
        "df['Content Rating'].value_counts().plot(kind='bar')\n",
        "plt.ylabel('Number of users')\n",
        "plt.xlabel('Users')"
      ],
      "metadata": {
        "colab": {
          "base_uri": "https://localhost:8080/",
          "height": 692
        },
        "id": "E0xAGc3cI1oy",
        "outputId": "66769466-8c0c-421b-84b7-3b5a34719447"
      },
      "execution_count": null,
      "outputs": [
        {
          "output_type": "execute_result",
          "data": {
            "text/plain": [
              "Text(0.5, 0, 'Users')"
            ]
          },
          "metadata": {},
          "execution_count": 96
        },
        {
          "output_type": "display_data",
          "data": {
            "text/plain": [
              "<Figure size 1440x720 with 1 Axes>"
            ],
            "image/png": "[encoded data removed]"
          },
          "metadata": {
            "needs_background": "light"
          }
        }
      ]
    },
    {
      "cell_type": "code",
      "source": [],
      "metadata": {
        "id": "88owXVnhI6LI"
      },
      "execution_count": null,
      "outputs": []
    },
    {
      "cell_type": "markdown",
      "source": [
        "#**Genres**"
      ],
      "metadata": {
        "id": "6HDuj2IZJCgI"
      }
    },
    {
      "cell_type": "code",
      "source": [
        "#checking first 5 columns\n",
        "df['Genres'].head()"
      ],
      "metadata": {
        "colab": {
          "base_uri": "https://localhost:8080/"
        },
        "id": "aRSL0x4uJMDG",
        "outputId": "db453297-59c7-4374-807a-804eadb2116a"
      },
      "execution_count": null,
      "outputs": [
        {
          "output_type": "execute_result",
          "data": {
            "text/plain": [
              "0                 Art & Design\n",
              "1    Art & Design;Pretend Play\n",
              "2                 Art & Design\n",
              "3                 Art & Design\n",
              "4      Art & Design;Creativity\n",
              "Name: Genres, dtype: object"
            ]
          },
          "metadata": {},
          "execution_count": 97
        }
      ]
    },
    {
      "cell_type": "code",
      "source": [
        "#checking unique values\n",
        "df[\"Genres\"].unique()"
      ],
      "metadata": {
        "colab": {
          "base_uri": "https://localhost:8080/"
        },
        "id": "Fq-f9UNuJQ-o",
        "outputId": "501e90a7-7458-477e-b170-04e3eea4e057"
      },
      "execution_count": null,
      "outputs": [
        {
          "output_type": "execute_result",
          "data": {
            "text/plain": [
              "array(['Art & Design', 'Art & Design;Pretend Play',\n",
              "       'Art & Design;Creativity', 'Art & Design;Action & Adventure',\n",
              "       'Auto & Vehicles', 'Beauty', 'Books & Reference', 'Business',\n",
              "       'Comics', 'Comics;Creativity', 'Communication', 'Dating',\n",
              "       'Education;Education', 'Education', 'Education;Creativity',\n",
              "       'Education;Music & Video', 'Education;Action & Adventure',\n",
              "       'Education;Pretend Play', 'Education;Brain Games', 'Entertainment',\n",
              "       'Entertainment;Music & Video', 'Entertainment;Brain Games',\n",
              "       'Entertainment;Creativity', 'Events', 'Finance', 'Food & Drink',\n",
              "       'Health & Fitness', 'House & Home', 'Libraries & Demo',\n",
              "       'Lifestyle', 'Lifestyle;Pretend Play',\n",
              "       'Adventure;Action & Adventure', 'Arcade', 'Casual', 'Card',\n",
              "       'Casual;Pretend Play', 'Action', 'Strategy', 'Puzzle', 'Sports',\n",
              "       'Music', 'Word', 'Racing', 'Casual;Creativity',\n",
              "       'Casual;Action & Adventure', 'Simulation', 'Adventure', 'Board',\n",
              "       'Trivia', 'Role Playing', 'Simulation;Education',\n",
              "       'Action;Action & Adventure', 'Casual;Brain Games',\n",
              "       'Simulation;Action & Adventure', 'Educational;Creativity',\n",
              "       'Puzzle;Brain Games', 'Educational;Education', 'Card;Brain Games',\n",
              "       'Educational;Brain Games', 'Educational;Pretend Play',\n",
              "       'Entertainment;Education', 'Casual;Education',\n",
              "       'Music;Music & Video', 'Racing;Action & Adventure',\n",
              "       'Arcade;Pretend Play', 'Role Playing;Action & Adventure',\n",
              "       'Simulation;Pretend Play', 'Puzzle;Creativity',\n",
              "       'Sports;Action & Adventure', 'Educational;Action & Adventure',\n",
              "       'Arcade;Action & Adventure', 'Entertainment;Action & Adventure',\n",
              "       'Puzzle;Action & Adventure', 'Strategy;Action & Adventure',\n",
              "       'Music & Audio;Music & Video', 'Health & Fitness;Education',\n",
              "       'Adventure;Education', 'Board;Brain Games',\n",
              "       'Board;Action & Adventure', 'Board;Pretend Play',\n",
              "       'Casual;Music & Video', 'Role Playing;Pretend Play',\n",
              "       'Entertainment;Pretend Play', 'Video Players & Editors;Creativity',\n",
              "       'Card;Action & Adventure', 'Medical', 'Social', 'Shopping',\n",
              "       'Photography', 'Travel & Local',\n",
              "       'Travel & Local;Action & Adventure', 'Tools', 'Tools;Education',\n",
              "       'Personalization', 'Productivity', 'Parenting',\n",
              "       'Parenting;Music & Video', 'Parenting;Education',\n",
              "       'Parenting;Brain Games', 'Weather', 'Video Players & Editors',\n",
              "       'Video Players & Editors;Music & Video', 'News & Magazines',\n",
              "       'Maps & Navigation', 'Health & Fitness;Action & Adventure',\n",
              "       'Educational', 'Casino', 'Adventure;Brain Games',\n",
              "       'Trivia;Education', 'Lifestyle;Education',\n",
              "       'Books & Reference;Creativity', 'Books & Reference;Education',\n",
              "       'Puzzle;Education', 'Role Playing;Education',\n",
              "       'Role Playing;Brain Games', 'Strategy;Education',\n",
              "       'Racing;Pretend Play', 'Communication;Creativity',\n",
              "       'February 11, 2018', 'Strategy;Creativity'], dtype=object)"
            ]
          },
          "metadata": {},
          "execution_count": 98
        }
      ]
    },
    {
      "cell_type": "code",
      "source": [
        "#checking value count of geners\n",
        "df['Genres'].value_counts()"
      ],
      "metadata": {
        "colab": {
          "base_uri": "https://localhost:8080/"
        },
        "id": "hEpW4ZhGJfnt",
        "outputId": "53b07457-8028-41ce-d798-8df7b34fcd10"
      },
      "execution_count": null,
      "outputs": [
        {
          "output_type": "execute_result",
          "data": {
            "text/plain": [
              "Tools                     842\n",
              "Entertainment             623\n",
              "Education                 549\n",
              "Medical                   463\n",
              "Business                  460\n",
              "                         ... \n",
              "Arcade;Pretend Play         1\n",
              "Card;Brain Games            1\n",
              "Lifestyle;Pretend Play      1\n",
              "Comics;Creativity           1\n",
              "Strategy;Creativity         1\n",
              "Name: Genres, Length: 120, dtype: int64"
            ]
          },
          "metadata": {},
          "execution_count": 99
        }
      ]
    },
    {
      "cell_type": "code",
      "source": [
        "#ploting graph which genres is used most\n",
        "plt.rcParams['figure.figsize'] = (20, 10)\n",
        "df['Genres'].value_counts().plot(kind='bar')\n",
        "plt.ylabel('Number of genres used in app')\n",
        "plt.xlabel('Genre')"
      ],
      "metadata": {
        "colab": {
          "base_uri": "https://localhost:8080/",
          "height": 803
        },
        "id": "MZCedaH7JUl1",
        "outputId": "fdb62c67-81c3-44a6-df0a-1d8a6c9631b5"
      },
      "execution_count": null,
      "outputs": [
        {
          "output_type": "execute_result",
          "data": {
            "text/plain": [
              "Text(0.5, 0, 'Genre')"
            ]
          },
          "metadata": {},
          "execution_count": 100
        },
        {
          "output_type": "display_data",
          "data": {
            "text/plain": [
              "<Figure size 1440x720 with 1 Axes>"
            ],
            "image/png": "[encoded data removed]"
          },
          "metadata": {
            "needs_background": "light"
          }
        }
      ]
    },
    {
      "cell_type": "markdown",
      "source": [
        "#**Last updated**"
      ],
      "metadata": {
        "id": "1wO0GDNKJ7mt"
      }
    },
    {
      "cell_type": "code",
      "source": [
        "df[\"Last Updated\"].head()"
      ],
      "metadata": {
        "colab": {
          "base_uri": "https://localhost:8080/"
        },
        "id": "96s_oySoKCga",
        "outputId": "44435e25-abc7-4e3b-ed22-188bbedcdae7"
      },
      "execution_count": null,
      "outputs": [
        {
          "output_type": "execute_result",
          "data": {
            "text/plain": [
              "0     January 7, 2018\n",
              "1    January 15, 2018\n",
              "2      August 1, 2018\n",
              "3        June 8, 2018\n",
              "4       June 20, 2018\n",
              "Name: Last Updated, dtype: object"
            ]
          },
          "metadata": {},
          "execution_count": 102
        }
      ]
    },
    {
      "cell_type": "code",
      "source": [
        "df[\"Last Updated\"].unique()"
      ],
      "metadata": {
        "colab": {
          "base_uri": "https://localhost:8080/"
        },
        "id": "v4hk8TUEKH1y",
        "outputId": "43e8f2b4-efef-40c7-d442-04f6c0ba7e9b"
      },
      "execution_count": null,
      "outputs": [
        {
          "output_type": "execute_result",
          "data": {
            "text/plain": [
              "array(['January 7, 2018', 'January 15, 2018', 'August 1, 2018', ...,\n",
              "       'January 20, 2014', 'February 16, 2014', 'March 23, 2014'],\n",
              "      dtype=object)"
            ]
          },
          "metadata": {},
          "execution_count": 103
        }
      ]
    },
    {
      "cell_type": "code",
      "source": [
        "df[\"Last Updated\"].value_counts()"
      ],
      "metadata": {
        "colab": {
          "base_uri": "https://localhost:8080/"
        },
        "id": "raNswN2QKOrh",
        "outputId": "7624c627-9153-468b-8321-193d11bf0024"
      },
      "execution_count": null,
      "outputs": [
        {
          "output_type": "execute_result",
          "data": {
            "text/plain": [
              "August 3, 2018        326\n",
              "August 2, 2018        304\n",
              "July 31, 2018         294\n",
              "August 1, 2018        285\n",
              "July 30, 2018         211\n",
              "                     ... \n",
              "March 20, 2014          1\n",
              "April 7, 2015           1\n",
              "September 22, 2014      1\n",
              "October 3, 2015         1\n",
              "March 23, 2014          1\n",
              "Name: Last Updated, Length: 1378, dtype: int64"
            ]
          },
          "metadata": {},
          "execution_count": 104
        }
      ]
    },
    {
      "cell_type": "code",
      "source": [],
      "metadata": {
        "id": "TxfgZAP8LD9n"
      },
      "execution_count": null,
      "outputs": []
    },
    {
      "cell_type": "markdown",
      "source": [
        "#**Current ver**"
      ],
      "metadata": {
        "id": "LjSjFVwPRSiR"
      }
    },
    {
      "cell_type": "code",
      "source": [
        "#checking first columns\n",
        "df['Current Ver'].head()"
      ],
      "metadata": {
        "colab": {
          "base_uri": "https://localhost:8080/"
        },
        "id": "SKuuSs7DRXgX",
        "outputId": "ba79f59b-03ef-49cb-f741-1a4daadf71f0"
      },
      "execution_count": null,
      "outputs": [
        {
          "output_type": "execute_result",
          "data": {
            "text/plain": [
              "0                 1.0.0\n",
              "1                 2.0.0\n",
              "2                 1.2.4\n",
              "3    Varies with device\n",
              "4                   1.1\n",
              "Name: Current Ver, dtype: object"
            ]
          },
          "metadata": {},
          "execution_count": 128
        }
      ]
    },
    {
      "cell_type": "code",
      "source": [
        "#checking out the unique va;lues\n",
        "df['Current Ver'].unique()"
      ],
      "metadata": {
        "colab": {
          "base_uri": "https://localhost:8080/"
        },
        "id": "gSpNPIynRc7N",
        "outputId": "856dad62-2083-4639-99e1-b5e45670d10d"
      },
      "execution_count": null,
      "outputs": [
        {
          "output_type": "execute_result",
          "data": {
            "text/plain": [
              "array(['1.0.0', '2.0.0', '1.2.4', ..., '1.0.612928', '0.3.4', '2.0.148.0'],\n",
              "      dtype=object)"
            ]
          },
          "metadata": {},
          "execution_count": 133
        }
      ]
    },
    {
      "cell_type": "code",
      "source": [
        "#checking value count of current ver\n",
        "df['Current Ver'].value_counts()"
      ],
      "metadata": {
        "colab": {
          "base_uri": "https://localhost:8080/"
        },
        "id": "mu5K7h1jSNzJ",
        "outputId": "d0e9f93a-c7ac-4cbc-d76d-853a444e9a1e"
      },
      "execution_count": null,
      "outputs": [
        {
          "output_type": "execute_result",
          "data": {
            "text/plain": [
              "Varies with device    1459\n",
              "1.0                    809\n",
              "1.1                    264\n",
              "1.2                    178\n",
              "2.0                    151\n",
              "                      ... \n",
              "1.0.17.3905              1\n",
              "15.1.2                   1\n",
              "4.94.19                  1\n",
              "1.1.11.11                1\n",
              "2.0.148.0                1\n",
              "Name: Current Ver, Length: 2832, dtype: int64"
            ]
          },
          "metadata": {},
          "execution_count": 138
        }
      ]
    },
    {
      "cell_type": "code",
      "source": [],
      "metadata": {
        "id": "1knkzGy1TeuS"
      },
      "execution_count": null,
      "outputs": []
    },
    {
      "cell_type": "markdown",
      "source": [
        "#**Android ver**"
      ],
      "metadata": {
        "id": "Qp8BnFX8TlEA"
      }
    },
    {
      "cell_type": "code",
      "source": [
        "#taking firt 5 elements\n",
        "df[\"Android Ver\"].head()"
      ],
      "metadata": {
        "colab": {
          "base_uri": "https://localhost:8080/"
        },
        "id": "rr-cRkS8Tj0M",
        "outputId": "44d82327-8dd4-4089-ec47-83ec59dedf30"
      },
      "execution_count": null,
      "outputs": [
        {
          "output_type": "execute_result",
          "data": {
            "text/plain": [
              "0    4.0.3 and up\n",
              "1    4.0.3 and up\n",
              "2    4.0.3 and up\n",
              "3      4.2 and up\n",
              "4      4.4 and up\n",
              "Name: Android Ver, dtype: object"
            ]
          },
          "metadata": {},
          "execution_count": 170
        }
      ]
    },
    {
      "cell_type": "code",
      "source": [
        "#checking out the unique values\n",
        "df[\"Android Ver\"].unique()"
      ],
      "metadata": {
        "colab": {
          "base_uri": "https://localhost:8080/"
        },
        "id": "HDryQ7UMTvO0",
        "outputId": "cb45cda7-e218-463d-c2cb-e392f1811bc0"
      },
      "execution_count": null,
      "outputs": [
        {
          "output_type": "execute_result",
          "data": {
            "text/plain": [
              "array(['4.0.3 and up', '4.2 and up', '4.4 and up', '2.3 and up',\n",
              "       '3.0 and up', '4.1 and up', '4.0 and up', '2.3.3 and up', 'nan',\n",
              "       '2.2 and up', '5.0 and up', '6.0 and up', '1.6 and up',\n",
              "       '1.5 and up', '2.1 and up', '7.0 and up', '5.1 and up',\n",
              "       '4.3 and up', '4.0.3 - 7.1.1', '2.0 and up', '3.2 and up',\n",
              "       '4.4W and up', '7.1 and up', '7.0 - 7.1.1', '8.0 and up',\n",
              "       '5.0 - 8.0', '3.1 and up', '2.0.1 and up', '4.1 - 7.1.1', nan,\n",
              "       '5.0 - 6.0', '1.0 and up', '2.2 - 7.1.1', '5.0 - 7.1.1'],\n",
              "      dtype=object)"
            ]
          },
          "metadata": {},
          "execution_count": 171
        }
      ]
    },
    {
      "cell_type": "code",
      "source": [
        "#Taking the values for android ver\n",
        "df['Android Ver'].value_counts()"
      ],
      "metadata": {
        "id": "Oz6t81QOXnV2"
      },
      "execution_count": null,
      "outputs": []
    },
    {
      "cell_type": "code",
      "source": [
        "#grap for Android Ver\n",
        "plt.rcParams['figure.figsize'] = (20, 10)\n",
        "df['Android Ver'].value_counts().plot(kind='bar')\n",
        "plt.ylabel('number of users')\n",
        "plt.xlabel('Android Ver')"
      ],
      "metadata": {
        "colab": {
          "base_uri": "https://localhost:8080/",
          "height": 676
        },
        "id": "OZKdKkPDUQpM",
        "outputId": "dd63c10a-6f0c-46f0-ff27-ae0b26f46a7b"
      },
      "execution_count": null,
      "outputs": [
        {
          "output_type": "execute_result",
          "data": {
            "text/plain": [
              "Text(0.5, 0, 'Android Ver')"
            ]
          },
          "metadata": {},
          "execution_count": 172
        },
        {
          "output_type": "display_data",
          "data": {
            "text/plain": [
              "<Figure size 1440x720 with 1 Axes>"
            ],
            "image/png": "[encoded data removed]"
          },
          "metadata": {
            "needs_background": "light"
          }
        }
      ]
    },
    {
      "cell_type": "code",
      "source": [],
      "metadata": {
        "id": "WkR1xXrmVNEe"
      },
      "execution_count": null,
      "outputs": []
    },
    {
      "cell_type": "markdown",
      "source": [
        "#**Importing new file and doing analysis on USER REVIEWS**"
      ],
      "metadata": {
        "id": "6Vkka7PufDw0"
      }
    },
    {
      "cell_type": "code",
      "source": [
        "File ='/content/drive/MyDrive/EDA/UserReviews.csv'\n",
        "df=pd.read_csv(File)"
      ],
      "metadata": {
        "id": "U_pEcg2PfVSH"
      },
      "execution_count": null,
      "outputs": []
    },
    {
      "cell_type": "code",
      "source": [
        "df.columns\n"
      ],
      "metadata": {
        "colab": {
          "base_uri": "https://localhost:8080/"
        },
        "id": "lts480rhf4tz",
        "outputId": "1c92a979-7841-4490-8dd4-a31c49654b01"
      },
      "execution_count": null,
      "outputs": [
        {
          "output_type": "execute_result",
          "data": {
            "text/plain": [
              "Index(['App', 'Translated_Review', 'Sentiment', 'Sentiment_Polarity',\n",
              "       'Sentiment_Subjectivity'],\n",
              "      dtype='object')"
            ]
          },
          "metadata": {},
          "execution_count": 36
        }
      ]
    },
    {
      "cell_type": "code",
      "source": [
        "df.head(10)"
      ],
      "metadata": {
        "id": "6KfkN9yYhAXv",
        "colab": {
          "base_uri": "https://localhost:8080/"
        },
        "outputId": "6f0b2953-e163-4f9a-addc-23872373e7eb"
      },
      "execution_count": null,
      "outputs": [
        {
          "output_type": "execute_result",
          "data": {
            "text/plain": [
              "                     App                                  Translated_Review  \\\n",
              "0  10 Best Foods for You  I like eat delicious food. That's I'm cooking ...   \n",
              "1  10 Best Foods for You    This help eating healthy exercise regular basis   \n",
              "2  10 Best Foods for You                                                NaN   \n",
              "3  10 Best Foods for You         Works great especially going grocery store   \n",
              "4  10 Best Foods for You                                       Best idea us   \n",
              "5  10 Best Foods for You                                           Best way   \n",
              "6  10 Best Foods for You                                            Amazing   \n",
              "7  10 Best Foods for You                                                NaN   \n",
              "8  10 Best Foods for You                               Looking forward app,   \n",
              "9  10 Best Foods for You              It helpful site ! It help foods get !   \n",
              "\n",
              "  Sentiment  Sentiment_Polarity  Sentiment_Subjectivity  \n",
              "0  Positive                1.00                0.533333  \n",
              "1  Positive                0.25                0.288462  \n",
              "2       NaN                 NaN                     NaN  \n",
              "3  Positive                0.40                0.875000  \n",
              "4  Positive                1.00                0.300000  \n",
              "5  Positive                1.00                0.300000  \n",
              "6  Positive                0.60                0.900000  \n",
              "7       NaN                 NaN                     NaN  \n",
              "8   Neutral                0.00                0.000000  \n",
              "9   Neutral                0.00                0.000000  "
            ],
            "text/html": [
              "\n",
              "  <div id=\"df-375679be-9894-440b-8c31-395b4d037d3b\">\n",
              "    <div class=\"colab-df-container\">\n",
              "      <div>\n",
              "<style scoped>\n",
              "    .dataframe tbody tr th:only-of-type {\n",
              "        vertical-align: middle;\n",
              "    }\n",
              "\n",
              "    .dataframe tbody tr th {\n",
              "        vertical-align: top;\n",
              "    }\n",
              "\n",
              "    .dataframe thead th {\n",
              "        text-align: right;\n",
              "    }\n",
              "</style>\n",
              "<table border=\"1\" class=\"dataframe\">\n",
              "  <thead>\n",
              "    <tr style=\"text-align: right;\">\n",
              "      <th></th>\n",
              "      <th>App</th>\n",
              "      <th>Translated_Review</th>\n",
              "      <th>Sentiment</th>\n",
              "      <th>Sentiment_Polarity</th>\n",
              "      <th>Sentiment_Subjectivity</th>\n",
              "    </tr>\n",
              "  </thead>\n",
              "  <tbody>\n",
              "    <tr>\n",
              "      <th>0</th>\n",
              "      <td>10 Best Foods for You</td>\n",
              "      <td>I like eat delicious food. That's I'm cooking ...</td>\n",
              "      <td>Positive</td>\n",
              "      <td>1.00</td>\n",
              "      <td>0.533333</td>\n",
              "    </tr>\n",
              "    <tr>\n",
              "      <th>1</th>\n",
              "      <td>10 Best Foods for You</td>\n",
              "      <td>This help eating healthy exercise regular basis</td>\n",
              "      <td>Positive</td>\n",
              "      <td>0.25</td>\n",
              "      <td>0.288462</td>\n",
              "    </tr>\n",
              "    <tr>\n",
              "      <th>2</th>\n",
              "      <td>10 Best Foods for You</td>\n",
              "      <td>NaN</td>\n",
              "      <td>NaN</td>\n",
              "      <td>NaN</td>\n",
              "      <td>NaN</td>\n",
              "    </tr>\n",
              "    <tr>\n",
              "      <th>3</th>\n",
              "      <td>10 Best Foods for You</td>\n",
              "      <td>Works great especially going grocery store</td>\n",
              "      <td>Positive</td>\n",
              "      <td>0.40</td>\n",
              "      <td>0.875000</td>\n",
              "    </tr>\n",
              "    <tr>\n",
              "      <th>4</th>\n",
              "      <td>10 Best Foods for You</td>\n",
              "      <td>Best idea us</td>\n",
              "      <td>Positive</td>\n",
              "      <td>1.00</td>\n",
              "      <td>0.300000</td>\n",
              "    </tr>\n",
              "    <tr>\n",
              "      <th>5</th>\n",
              "      <td>10 Best Foods for You</td>\n",
              "      <td>Best way</td>\n",
              "      <td>Positive</td>\n",
              "      <td>1.00</td>\n",
              "      <td>0.300000</td>\n",
              "    </tr>\n",
              "    <tr>\n",
              "      <th>6</th>\n",
              "      <td>10 Best Foods for You</td>\n",
              "      <td>Amazing</td>\n",
              "      <td>Positive</td>\n",
              "      <td>0.60</td>\n",
              "      <td>0.900000</td>\n",
              "    </tr>\n",
              "    <tr>\n",
              "      <th>7</th>\n",
              "      <td>10 Best Foods for You</td>\n",
              "      <td>NaN</td>\n",
              "      <td>NaN</td>\n",
              "      <td>NaN</td>\n",
              "      <td>NaN</td>\n",
              "    </tr>\n",
              "    <tr>\n",
              "      <th>8</th>\n",
              "      <td>10 Best Foods for You</td>\n",
              "      <td>Looking forward app,</td>\n",
              "      <td>Neutral</td>\n",
              "      <td>0.00</td>\n",
              "      <td>0.000000</td>\n",
              "    </tr>\n",
              "    <tr>\n",
              "      <th>9</th>\n",
              "      <td>10 Best Foods for You</td>\n",
              "      <td>It helpful site ! It help foods get !</td>\n",
              "      <td>Neutral</td>\n",
              "      <td>0.00</td>\n",
              "      <td>0.000000</td>\n",
              "    </tr>\n",
              "  </tbody>\n",
              "</table>\n",
              "</div>\n",
              "      <button class=\"colab-df-convert\" onclick=\"convertToInteractive('df-375679be-9894-440b-8c31-395b4d037d3b')\"\n",
              "              title=\"Convert this dataframe to an interactive table.\"\n",
              "              style=\"display:none;\">\n",
              "        \n",
              "  <svg xmlns=\"http://www.w3.org/2000/svg\" height=\"24px\"viewBox=\"0 0 24 24\"\n",
              "       width=\"24px\">\n",
              "    <path d=\"M0 0h24v24H0V0z\" fill=\"none\"/>\n",
              "    <path d=\"M18.56 5.44l.94 2.06.94-2.06 2.06-.94-2.06-.94-.94-2.06-.94 2.06-2.06.94zm-11 1L8.5 8.5l.94-2.06 2.06-.94-2.06-.94L8.5 2.5l-.94 2.06-2.06.94zm10 10l.94 2.06.94-2.06 2.06-.94-2.06-.94-.94-2.06-.94 2.06-2.06.94z\"/><path d=\"M17.41 7.96l-1.37-1.37c-.4-.4-.92-.59-1.43-.59-.52 0-1.04.2-1.43.59L10.3 9.45l-7.72 7.72c-.78.78-.78 2.05 0 2.83L4 21.41c.39.39.9.59 1.41.59.51 0 1.02-.2 1.41-.59l7.78-7.78 2.81-2.81c.8-.78.8-2.07 0-2.86zM5.41 20L4 18.59l7.72-7.72 1.47 1.35L5.41 20z\"/>\n",
              "  </svg>\n",
              "      </button>\n",
              "      \n",
              "  <style>\n",
              "    .colab-df-container {\n",
              "      display:flex;\n",
              "      flex-wrap:wrap;\n",
              "      gap: 12px;\n",
              "    }\n",
              "\n",
              "    .colab-df-convert {\n",
              "      background-color: #E8F0FE;\n",
              "      border: none;\n",
              "      border-radius: 50%;\n",
              "      cursor: pointer;\n",
              "      display: none;\n",
              "      fill: #1967D2;\n",
              "      height: 32px;\n",
              "      padding: 0 0 0 0;\n",
              "      width: 32px;\n",
              "    }\n",
              "\n",
              "    .colab-df-convert:hover {\n",
              "      background-color: #E2EBFA;\n",
              "      box-shadow: 0px 1px 2px rgba(60, 64, 67, 0.3), 0px 1px 3px 1px rgba(60, 64, 67, 0.15);\n",
              "      fill: #174EA6;\n",
              "    }\n",
              "\n",
              "    [theme=dark] .colab-df-convert {\n",
              "      background-color: #3B4455;\n",
              "      fill: #D2E3FC;\n",
              "    }\n",
              "\n",
              "    [theme=dark] .colab-df-convert:hover {\n",
              "      background-color: #434B5C;\n",
              "      box-shadow: 0px 1px 3px 1px rgba(0, 0, 0, 0.15);\n",
              "      filter: drop-shadow(0px 1px 2px rgba(0, 0, 0, 0.3));\n",
              "      fill: #FFFFFF;\n",
              "    }\n",
              "  </style>\n",
              "\n",
              "      <script>\n",
              "        const buttonEl =\n",
              "          document.querySelector('#df-375679be-9894-440b-8c31-395b4d037d3b button.colab-df-convert');\n",
              "        buttonEl.style.display =\n",
              "          google.colab.kernel.accessAllowed ? 'block' : 'none';\n",
              "\n",
              "        async function convertToInteractive(key) {\n",
              "          const element = document.querySelector('#df-375679be-9894-440b-8c31-395b4d037d3b');\n",
              "          const dataTable =\n",
              "            await google.colab.kernel.invokeFunction('convertToInteractive',\n",
              "                                                     [key], {});\n",
              "          if (!dataTable) return;\n",
              "\n",
              "          const docLinkHtml = 'Like what you see? Visit the ' +\n",
              "            '<a target=\"_blank\" href=https://colab.research.google.com/notebooks/data_table.ipynb>data table notebook</a>'\n",
              "            + ' to learn more about interactive tables.';\n",
              "          element.innerHTML = '';\n",
              "          dataTable['output_type'] = 'display_data';\n",
              "          await google.colab.output.renderOutput(dataTable, element);\n",
              "          const docLink = document.createElement('div');\n",
              "          docLink.innerHTML = docLinkHtml;\n",
              "          element.appendChild(docLink);\n",
              "        }\n",
              "      </script>\n",
              "    </div>\n",
              "  </div>\n",
              "  "
            ]
          },
          "metadata": {},
          "execution_count": 37
        }
      ]
    },
    {
      "cell_type": "code",
      "source": [
        "df.shape"
      ],
      "metadata": {
        "colab": {
          "base_uri": "https://localhost:8080/"
        },
        "id": "ISp0gDQmh4_w",
        "outputId": "783c7d14-7d4b-4031-a000-698ca1cd5d00"
      },
      "execution_count": null,
      "outputs": [
        {
          "output_type": "execute_result",
          "data": {
            "text/plain": [
              "(64295, 5)"
            ]
          },
          "metadata": {},
          "execution_count": 38
        }
      ]
    },
    {
      "cell_type": "code",
      "source": [
        "df.info()"
      ],
      "metadata": {
        "colab": {
          "base_uri": "https://localhost:8080/"
        },
        "id": "WGU5JRZ7kg-A",
        "outputId": "62146b67-7b15-4b2e-aa86-b08987760aa3"
      },
      "execution_count": null,
      "outputs": [
        {
          "output_type": "stream",
          "name": "stdout",
          "text": [
            "<class 'pandas.core.frame.DataFrame'>\n",
            "RangeIndex: 64295 entries, 0 to 64294\n",
            "Data columns (total 5 columns):\n",
            " #   Column                  Non-Null Count  Dtype  \n",
            "---  ------                  --------------  -----  \n",
            " 0   App                     64295 non-null  object \n",
            " 1   Translated_Review       37427 non-null  object \n",
            " 2   Sentiment               37432 non-null  object \n",
            " 3   Sentiment_Polarity      37432 non-null  float64\n",
            " 4   Sentiment_Subjectivity  37432 non-null  float64\n",
            "dtypes: float64(2), object(3)\n",
            "memory usage: 2.5+ MB\n"
          ]
        }
      ]
    },
    {
      "cell_type": "markdown",
      "source": [
        "**USER REVIEWS dataframe has 5 rows and 64295 columns**\n",
        "\n",
        "**App**- It will tell about the name of apps in data frame\n",
        "\n",
        "**Translated_review**- I this we will know about the reivew in the perticular  \n",
        "app\n",
        "\n",
        "**Sentiment** - In this we will check the sentiment are positive or negative\n",
        "\n",
        "**Sentiment_Polarity** -In this we will check the Sentiment_Polarity of each app\n",
        "\n",
        "**Sentiment_Subjectivity** - In this we will check the Sentiment_Subjectivity of app"
      ],
      "metadata": {
        "id": "d06sQ6-omHZu"
      }
    },
    {
      "cell_type": "markdown",
      "source": [
        "#*App*"
      ],
      "metadata": {
        "id": "QPBJb6uPj4t2"
      }
    },
    {
      "cell_type": "code",
      "source": [
        "#checking first 5 elements\n",
        "df['App'].head()"
      ],
      "metadata": {
        "colab": {
          "base_uri": "https://localhost:8080/"
        },
        "id": "e9nX_PN1hSEE",
        "outputId": "c94cefdc-fe37-4557-9c64-7da2f47cd3aa"
      },
      "execution_count": null,
      "outputs": [
        {
          "output_type": "execute_result",
          "data": {
            "text/plain": [
              "0    10 Best Foods for You\n",
              "1    10 Best Foods for You\n",
              "2    10 Best Foods for You\n",
              "3    10 Best Foods for You\n",
              "4    10 Best Foods for You\n",
              "Name: App, dtype: object"
            ]
          },
          "metadata": {},
          "execution_count": 32
        }
      ]
    },
    {
      "cell_type": "code",
      "source": [
        "#taking unique elements \n",
        "df['App'].unique()"
      ],
      "metadata": {
        "colab": {
          "base_uri": "https://localhost:8080/"
        },
        "id": "XDvkVfnKhey5",
        "outputId": "e2aeeb05-87c2-46f7-c1ee-b6772b65f958"
      },
      "execution_count": null,
      "outputs": [
        {
          "output_type": "execute_result",
          "data": {
            "text/plain": [
              "array(['10 Best Foods for You', '104 找工作 - 找工作 找打工 找兼職 履歷健檢 履歷診療室',\n",
              "       '11st', ..., 'Hotwire Hotel & Car Rental App',\n",
              "       'Housing-Real Estate & Property', 'Houzz Interior Design Ideas'],\n",
              "      dtype=object)"
            ]
          },
          "metadata": {},
          "execution_count": 33
        }
      ]
    },
    {
      "cell_type": "code",
      "source": [
        "# taking the count of aaps\n",
        "pd.value_counts(df['App'].values)"
      ],
      "metadata": {
        "colab": {
          "base_uri": "https://localhost:8080/"
        },
        "id": "V5cnEhPzhrt4",
        "outputId": "d9711b02-e518-41c0-c1b3-3037aea62ebd"
      },
      "execution_count": null,
      "outputs": [
        {
          "output_type": "execute_result",
          "data": {
            "text/plain": [
              "Angry Birds Classic                                  320\n",
              "CBS Sports App - Scores, News, Stats & Watch Live    320\n",
              "Bowmasters                                           320\n",
              "8 Ball Pool                                          300\n",
              "Helix Jump                                           300\n",
              "                                                    ... \n",
              "Easy Healthy Recipes                                  31\n",
              "Dresses Ideas & Fashions +3000                        31\n",
              "Detector de Radares Gratis                            31\n",
              "Easy Hair Style Design                                30\n",
              "Drawing Clothes Fashion Ideas                         30\n",
              "Length: 1074, dtype: int64"
            ]
          },
          "metadata": {},
          "execution_count": 34
        }
      ]
    },
    {
      "cell_type": "code",
      "source": [
        "#droping the duplicate App\n",
        "df.drop_duplicates(['App'],inplace=True)\n",
        "df"
      ],
      "metadata": {
        "colab": {
          "base_uri": "https://localhost:8080/",
          "height": 424
        },
        "id": "Eg6DuNd6kC0X",
        "outputId": "1a51ba56-d76c-4bdc-d250-45bcc99f3b93"
      },
      "execution_count": null,
      "outputs": [
        {
          "output_type": "execute_result",
          "data": {
            "text/plain": [
              "                                                  App  \\\n",
              "0                               10 Best Foods for You   \n",
              "200                  104 找工作 - 找工作 找打工 找兼職 履歷健檢 履歷診療室   \n",
              "240                                              11st   \n",
              "280                        1800 Contacts - Lens Store   \n",
              "360                   1LINE – One Line with One Touch   \n",
              "...                                               ...   \n",
              "64076  Hotspot Shield Free VPN Proxy & Wi-Fi Security   \n",
              "64116                                         Hotstar   \n",
              "64156                  Hotwire Hotel & Car Rental App   \n",
              "64196                  Housing-Real Estate & Property   \n",
              "64236                     Houzz Interior Design Ideas   \n",
              "\n",
              "                                       Translated_Review Sentiment  \\\n",
              "0      I like eat delicious food. That's I'm cooking ...  Positive   \n",
              "200                                                Great  Positive   \n",
              "240                             Horrible ID verification  Negative   \n",
              "280    Great hassle free way order contacts. Got call...  Positive   \n",
              "360    gets 1* there's ad every single level restart,...  Negative   \n",
              "...                                                  ...       ...   \n",
              "64076    7 days free trial asking credit card. Stupid!!!  Negative   \n",
              "64116                                            running   Neutral   \n",
              "64156                                                NaN       NaN   \n",
              "64196  Incorrect listings. The agents show property d...  Negative   \n",
              "64236                                                NaN       NaN   \n",
              "\n",
              "       Sentiment_Polarity  Sentiment_Subjectivity  \n",
              "0                1.000000                0.533333  \n",
              "200              0.800000                0.750000  \n",
              "240             -1.000000                1.000000  \n",
              "280              0.600000                0.775000  \n",
              "360             -0.157143                0.704762  \n",
              "...                   ...                     ...  \n",
              "64076           -0.300000                0.900000  \n",
              "64116            0.000000                0.000000  \n",
              "64156                 NaN                     NaN  \n",
              "64196           -0.025000                0.125000  \n",
              "64236                 NaN                     NaN  \n",
              "\n",
              "[1074 rows x 5 columns]"
            ],
            "text/html": [
              "\n",
              "  <div id=\"df-5d21a57f-4ad9-4de7-a447-f648a79695af\">\n",
              "    <div class=\"colab-df-container\">\n",
              "      <div>\n",
              "<style scoped>\n",
              "    .dataframe tbody tr th:only-of-type {\n",
              "        vertical-align: middle;\n",
              "    }\n",
              "\n",
              "    .dataframe tbody tr th {\n",
              "        vertical-align: top;\n",
              "    }\n",
              "\n",
              "    .dataframe thead th {\n",
              "        text-align: right;\n",
              "    }\n",
              "</style>\n",
              "<table border=\"1\" class=\"dataframe\">\n",
              "  <thead>\n",
              "    <tr style=\"text-align: right;\">\n",
              "      <th></th>\n",
              "      <th>App</th>\n",
              "      <th>Translated_Review</th>\n",
              "      <th>Sentiment</th>\n",
              "      <th>Sentiment_Polarity</th>\n",
              "      <th>Sentiment_Subjectivity</th>\n",
              "    </tr>\n",
              "  </thead>\n",
              "  <tbody>\n",
              "    <tr>\n",
              "      <th>0</th>\n",
              "      <td>10 Best Foods for You</td>\n",
              "      <td>I like eat delicious food. That's I'm cooking ...</td>\n",
              "      <td>Positive</td>\n",
              "      <td>1.000000</td>\n",
              "      <td>0.533333</td>\n",
              "    </tr>\n",
              "    <tr>\n",
              "      <th>200</th>\n",
              "      <td>104 找工作 - 找工作 找打工 找兼職 履歷健檢 履歷診療室</td>\n",
              "      <td>Great</td>\n",
              "      <td>Positive</td>\n",
              "      <td>0.800000</td>\n",
              "      <td>0.750000</td>\n",
              "    </tr>\n",
              "    <tr>\n",
              "      <th>240</th>\n",
              "      <td>11st</td>\n",
              "      <td>Horrible ID verification</td>\n",
              "      <td>Negative</td>\n",
              "      <td>-1.000000</td>\n",
              "      <td>1.000000</td>\n",
              "    </tr>\n",
              "    <tr>\n",
              "      <th>280</th>\n",
              "      <td>1800 Contacts - Lens Store</td>\n",
              "      <td>Great hassle free way order contacts. Got call...</td>\n",
              "      <td>Positive</td>\n",
              "      <td>0.600000</td>\n",
              "      <td>0.775000</td>\n",
              "    </tr>\n",
              "    <tr>\n",
              "      <th>360</th>\n",
              "      <td>1LINE – One Line with One Touch</td>\n",
              "      <td>gets 1* there's ad every single level restart,...</td>\n",
              "      <td>Negative</td>\n",
              "      <td>-0.157143</td>\n",
              "      <td>0.704762</td>\n",
              "    </tr>\n",
              "    <tr>\n",
              "      <th>...</th>\n",
              "      <td>...</td>\n",
              "      <td>...</td>\n",
              "      <td>...</td>\n",
              "      <td>...</td>\n",
              "      <td>...</td>\n",
              "    </tr>\n",
              "    <tr>\n",
              "      <th>64076</th>\n",
              "      <td>Hotspot Shield Free VPN Proxy &amp; Wi-Fi Security</td>\n",
              "      <td>7 days free trial asking credit card. Stupid!!!</td>\n",
              "      <td>Negative</td>\n",
              "      <td>-0.300000</td>\n",
              "      <td>0.900000</td>\n",
              "    </tr>\n",
              "    <tr>\n",
              "      <th>64116</th>\n",
              "      <td>Hotstar</td>\n",
              "      <td>running</td>\n",
              "      <td>Neutral</td>\n",
              "      <td>0.000000</td>\n",
              "      <td>0.000000</td>\n",
              "    </tr>\n",
              "    <tr>\n",
              "      <th>64156</th>\n",
              "      <td>Hotwire Hotel &amp; Car Rental App</td>\n",
              "      <td>NaN</td>\n",
              "      <td>NaN</td>\n",
              "      <td>NaN</td>\n",
              "      <td>NaN</td>\n",
              "    </tr>\n",
              "    <tr>\n",
              "      <th>64196</th>\n",
              "      <td>Housing-Real Estate &amp; Property</td>\n",
              "      <td>Incorrect listings. The agents show property d...</td>\n",
              "      <td>Negative</td>\n",
              "      <td>-0.025000</td>\n",
              "      <td>0.125000</td>\n",
              "    </tr>\n",
              "    <tr>\n",
              "      <th>64236</th>\n",
              "      <td>Houzz Interior Design Ideas</td>\n",
              "      <td>NaN</td>\n",
              "      <td>NaN</td>\n",
              "      <td>NaN</td>\n",
              "      <td>NaN</td>\n",
              "    </tr>\n",
              "  </tbody>\n",
              "</table>\n",
              "<p>1074 rows × 5 columns</p>\n",
              "</div>\n",
              "      <button class=\"colab-df-convert\" onclick=\"convertToInteractive('df-5d21a57f-4ad9-4de7-a447-f648a79695af')\"\n",
              "              title=\"Convert this dataframe to an interactive table.\"\n",
              "              style=\"display:none;\">\n",
              "        \n",
              "  <svg xmlns=\"http://www.w3.org/2000/svg\" height=\"24px\"viewBox=\"0 0 24 24\"\n",
              "       width=\"24px\">\n",
              "    <path d=\"M0 0h24v24H0V0z\" fill=\"none\"/>\n",
              "    <path d=\"M18.56 5.44l.94 2.06.94-2.06 2.06-.94-2.06-.94-.94-2.06-.94 2.06-2.06.94zm-11 1L8.5 8.5l.94-2.06 2.06-.94-2.06-.94L8.5 2.5l-.94 2.06-2.06.94zm10 10l.94 2.06.94-2.06 2.06-.94-2.06-.94-.94-2.06-.94 2.06-2.06.94z\"/><path d=\"M17.41 7.96l-1.37-1.37c-.4-.4-.92-.59-1.43-.59-.52 0-1.04.2-1.43.59L10.3 9.45l-7.72 7.72c-.78.78-.78 2.05 0 2.83L4 21.41c.39.39.9.59 1.41.59.51 0 1.02-.2 1.41-.59l7.78-7.78 2.81-2.81c.8-.78.8-2.07 0-2.86zM5.41 20L4 18.59l7.72-7.72 1.47 1.35L5.41 20z\"/>\n",
              "  </svg>\n",
              "      </button>\n",
              "      \n",
              "  <style>\n",
              "    .colab-df-container {\n",
              "      display:flex;\n",
              "      flex-wrap:wrap;\n",
              "      gap: 12px;\n",
              "    }\n",
              "\n",
              "    .colab-df-convert {\n",
              "      background-color: #E8F0FE;\n",
              "      border: none;\n",
              "      border-radius: 50%;\n",
              "      cursor: pointer;\n",
              "      display: none;\n",
              "      fill: #1967D2;\n",
              "      height: 32px;\n",
              "      padding: 0 0 0 0;\n",
              "      width: 32px;\n",
              "    }\n",
              "\n",
              "    .colab-df-convert:hover {\n",
              "      background-color: #E2EBFA;\n",
              "      box-shadow: 0px 1px 2px rgba(60, 64, 67, 0.3), 0px 1px 3px 1px rgba(60, 64, 67, 0.15);\n",
              "      fill: #174EA6;\n",
              "    }\n",
              "\n",
              "    [theme=dark] .colab-df-convert {\n",
              "      background-color: #3B4455;\n",
              "      fill: #D2E3FC;\n",
              "    }\n",
              "\n",
              "    [theme=dark] .colab-df-convert:hover {\n",
              "      background-color: #434B5C;\n",
              "      box-shadow: 0px 1px 3px 1px rgba(0, 0, 0, 0.15);\n",
              "      filter: drop-shadow(0px 1px 2px rgba(0, 0, 0, 0.3));\n",
              "      fill: #FFFFFF;\n",
              "    }\n",
              "  </style>\n",
              "\n",
              "      <script>\n",
              "        const buttonEl =\n",
              "          document.querySelector('#df-5d21a57f-4ad9-4de7-a447-f648a79695af button.colab-df-convert');\n",
              "        buttonEl.style.display =\n",
              "          google.colab.kernel.accessAllowed ? 'block' : 'none';\n",
              "\n",
              "        async function convertToInteractive(key) {\n",
              "          const element = document.querySelector('#df-5d21a57f-4ad9-4de7-a447-f648a79695af');\n",
              "          const dataTable =\n",
              "            await google.colab.kernel.invokeFunction('convertToInteractive',\n",
              "                                                     [key], {});\n",
              "          if (!dataTable) return;\n",
              "\n",
              "          const docLinkHtml = 'Like what you see? Visit the ' +\n",
              "            '<a target=\"_blank\" href=https://colab.research.google.com/notebooks/data_table.ipynb>data table notebook</a>'\n",
              "            + ' to learn more about interactive tables.';\n",
              "          element.innerHTML = '';\n",
              "          dataTable['output_type'] = 'display_data';\n",
              "          await google.colab.output.renderOutput(dataTable, element);\n",
              "          const docLink = document.createElement('div');\n",
              "          docLink.innerHTML = docLinkHtml;\n",
              "          element.appendChild(docLink);\n",
              "        }\n",
              "      </script>\n",
              "    </div>\n",
              "  </div>\n",
              "  "
            ]
          },
          "metadata": {},
          "execution_count": 35
        }
      ]
    },
    {
      "cell_type": "code",
      "source": [
        "#counting the app after droping\n",
        "pd.value_counts(df['App'].values)"
      ],
      "metadata": {
        "colab": {
          "base_uri": "https://localhost:8080/"
        },
        "id": "BoQUlQIlkT2e",
        "outputId": "fd0a47c9-307e-4a84-ab19-fa8f86c1a3d6"
      },
      "execution_count": null,
      "outputs": [
        {
          "output_type": "execute_result",
          "data": {
            "text/plain": [
              "10 Best Foods for You                        1\n",
              "Fair: A New Way To Own A Car                 1\n",
              "FOX Sports: Live Streaming, Scores & News    1\n",
              "FP Notebook                                  1\n",
              "FREE LIVE TALK                               1\n",
              "                                            ..\n",
              "Calls & Text by Mo+                          1\n",
              "Calls Blacklist - Call Blocker               1\n",
              "Calm - Meditate, Sleep, Relax                1\n",
              "Calorie Counter & Diet Tracker               1\n",
              "Houzz Interior Design Ideas                  1\n",
              "Length: 1074, dtype: int64"
            ]
          },
          "metadata": {},
          "execution_count": 36
        }
      ]
    },
    {
      "cell_type": "code",
      "source": [
        "#checking the repreated values are drop or not \n",
        "df[df['App']=='Angry Birds Classic']"
      ],
      "metadata": {
        "colab": {
          "base_uri": "https://localhost:8080/",
          "height": 81
        },
        "id": "hWfvRFN5kiE-",
        "outputId": "a27fb7b4-2d97-43d1-ad8f-2a31c10e4e0f"
      },
      "execution_count": null,
      "outputs": [
        {
          "output_type": "execute_result",
          "data": {
            "text/plain": [
              "                      App                                  Translated_Review  \\\n",
              "7352  Angry Birds Classic  Way many ads. I remember Angry Birds first cam...   \n",
              "\n",
              "     Sentiment  Sentiment_Polarity  Sentiment_Subjectivity  \n",
              "7352  Negative              -0.125                0.483333  "
            ],
            "text/html": [
              "\n",
              "  <div id=\"df-90e0e404-c8d0-4586-9943-55325cb6ac8e\">\n",
              "    <div class=\"colab-df-container\">\n",
              "      <div>\n",
              "<style scoped>\n",
              "    .dataframe tbody tr th:only-of-type {\n",
              "        vertical-align: middle;\n",
              "    }\n",
              "\n",
              "    .dataframe tbody tr th {\n",
              "        vertical-align: top;\n",
              "    }\n",
              "\n",
              "    .dataframe thead th {\n",
              "        text-align: right;\n",
              "    }\n",
              "</style>\n",
              "<table border=\"1\" class=\"dataframe\">\n",
              "  <thead>\n",
              "    <tr style=\"text-align: right;\">\n",
              "      <th></th>\n",
              "      <th>App</th>\n",
              "      <th>Translated_Review</th>\n",
              "      <th>Sentiment</th>\n",
              "      <th>Sentiment_Polarity</th>\n",
              "      <th>Sentiment_Subjectivity</th>\n",
              "    </tr>\n",
              "  </thead>\n",
              "  <tbody>\n",
              "    <tr>\n",
              "      <th>7352</th>\n",
              "      <td>Angry Birds Classic</td>\n",
              "      <td>Way many ads. I remember Angry Birds first cam...</td>\n",
              "      <td>Negative</td>\n",
              "      <td>-0.125</td>\n",
              "      <td>0.483333</td>\n",
              "    </tr>\n",
              "  </tbody>\n",
              "</table>\n",
              "</div>\n",
              "      <button class=\"colab-df-convert\" onclick=\"convertToInteractive('df-90e0e404-c8d0-4586-9943-55325cb6ac8e')\"\n",
              "              title=\"Convert this dataframe to an interactive table.\"\n",
              "              style=\"display:none;\">\n",
              "        \n",
              "  <svg xmlns=\"http://www.w3.org/2000/svg\" height=\"24px\"viewBox=\"0 0 24 24\"\n",
              "       width=\"24px\">\n",
              "    <path d=\"M0 0h24v24H0V0z\" fill=\"none\"/>\n",
              "    <path d=\"M18.56 5.44l.94 2.06.94-2.06 2.06-.94-2.06-.94-.94-2.06-.94 2.06-2.06.94zm-11 1L8.5 8.5l.94-2.06 2.06-.94-2.06-.94L8.5 2.5l-.94 2.06-2.06.94zm10 10l.94 2.06.94-2.06 2.06-.94-2.06-.94-.94-2.06-.94 2.06-2.06.94z\"/><path d=\"M17.41 7.96l-1.37-1.37c-.4-.4-.92-.59-1.43-.59-.52 0-1.04.2-1.43.59L10.3 9.45l-7.72 7.72c-.78.78-.78 2.05 0 2.83L4 21.41c.39.39.9.59 1.41.59.51 0 1.02-.2 1.41-.59l7.78-7.78 2.81-2.81c.8-.78.8-2.07 0-2.86zM5.41 20L4 18.59l7.72-7.72 1.47 1.35L5.41 20z\"/>\n",
              "  </svg>\n",
              "      </button>\n",
              "      \n",
              "  <style>\n",
              "    .colab-df-container {\n",
              "      display:flex;\n",
              "      flex-wrap:wrap;\n",
              "      gap: 12px;\n",
              "    }\n",
              "\n",
              "    .colab-df-convert {\n",
              "      background-color: #E8F0FE;\n",
              "      border: none;\n",
              "      border-radius: 50%;\n",
              "      cursor: pointer;\n",
              "      display: none;\n",
              "      fill: #1967D2;\n",
              "      height: 32px;\n",
              "      padding: 0 0 0 0;\n",
              "      width: 32px;\n",
              "    }\n",
              "\n",
              "    .colab-df-convert:hover {\n",
              "      background-color: #E2EBFA;\n",
              "      box-shadow: 0px 1px 2px rgba(60, 64, 67, 0.3), 0px 1px 3px 1px rgba(60, 64, 67, 0.15);\n",
              "      fill: #174EA6;\n",
              "    }\n",
              "\n",
              "    [theme=dark] .colab-df-convert {\n",
              "      background-color: #3B4455;\n",
              "      fill: #D2E3FC;\n",
              "    }\n",
              "\n",
              "    [theme=dark] .colab-df-convert:hover {\n",
              "      background-color: #434B5C;\n",
              "      box-shadow: 0px 1px 3px 1px rgba(0, 0, 0, 0.15);\n",
              "      filter: drop-shadow(0px 1px 2px rgba(0, 0, 0, 0.3));\n",
              "      fill: #FFFFFF;\n",
              "    }\n",
              "  </style>\n",
              "\n",
              "      <script>\n",
              "        const buttonEl =\n",
              "          document.querySelector('#df-90e0e404-c8d0-4586-9943-55325cb6ac8e button.colab-df-convert');\n",
              "        buttonEl.style.display =\n",
              "          google.colab.kernel.accessAllowed ? 'block' : 'none';\n",
              "\n",
              "        async function convertToInteractive(key) {\n",
              "          const element = document.querySelector('#df-90e0e404-c8d0-4586-9943-55325cb6ac8e');\n",
              "          const dataTable =\n",
              "            await google.colab.kernel.invokeFunction('convertToInteractive',\n",
              "                                                     [key], {});\n",
              "          if (!dataTable) return;\n",
              "\n",
              "          const docLinkHtml = 'Like what you see? Visit the ' +\n",
              "            '<a target=\"_blank\" href=https://colab.research.google.com/notebooks/data_table.ipynb>data table notebook</a>'\n",
              "            + ' to learn more about interactive tables.';\n",
              "          element.innerHTML = '';\n",
              "          dataTable['output_type'] = 'display_data';\n",
              "          await google.colab.output.renderOutput(dataTable, element);\n",
              "          const docLink = document.createElement('div');\n",
              "          docLink.innerHTML = docLinkHtml;\n",
              "          element.appendChild(docLink);\n",
              "        }\n",
              "      </script>\n",
              "    </div>\n",
              "  </div>\n",
              "  "
            ]
          },
          "metadata": {},
          "execution_count": 37
        }
      ]
    },
    {
      "cell_type": "code",
      "source": [],
      "metadata": {
        "id": "ejCyYlDulDaq"
      },
      "execution_count": null,
      "outputs": []
    },
    {
      "cell_type": "markdown",
      "source": [
        "#*Translated_review*"
      ],
      "metadata": {
        "id": "qTKhfrian-46"
      }
    },
    {
      "cell_type": "code",
      "source": [
        "df['Translated_Review'].head(5)"
      ],
      "metadata": {
        "colab": {
          "base_uri": "https://localhost:8080/"
        },
        "id": "11PEiiGwoERq",
        "outputId": "24eb43b7-2276-4520-e61c-8319ef072906"
      },
      "execution_count": null,
      "outputs": [
        {
          "output_type": "execute_result",
          "data": {
            "text/plain": [
              "0      I like eat delicious food. That's I'm cooking ...\n",
              "200                                                Great\n",
              "240                             Horrible ID verification\n",
              "280    Great hassle free way order contacts. Got call...\n",
              "360    gets 1* there's ad every single level restart,...\n",
              "Name: Translated_Review, dtype: object"
            ]
          },
          "metadata": {},
          "execution_count": 38
        }
      ]
    },
    {
      "cell_type": "code",
      "source": [
        "df['Translated_Review'].unique()"
      ],
      "metadata": {
        "colab": {
          "base_uri": "https://localhost:8080/"
        },
        "id": "ZLZh9pB7oI-U",
        "outputId": "b2b63226-7483-429d-b7fd-11a53ccdf6ef"
      },
      "execution_count": null,
      "outputs": [
        {
          "output_type": "execute_result",
          "data": {
            "text/plain": [
              "array(['I like eat delicious food. That\\'s I\\'m cooking food myself, case \"10 Best Foods\" helps lot, also \"Best Before (Shelf Life)\"',\n",
              "       'Great', 'Horrible ID verification',\n",
              "       'Great hassle free way order contacts. Got call reminding prescription expires tomorrow.',\n",
              "       \"gets 1* there's ad every single level restart, frustrating, potential\",\n",
              "       'Like The Old Version Better Where Backspace Is Beside P Letter And Emoji Is Below Capitalization.',\n",
              "       'Terrible! Not user-friendly like original app. Please give customers option both. I look forward navigating cumbersome app. Namaste!',\n",
              "       'This good dating app, I love much. This lot Chinese English speaking members. Most active I chat requests soon registered. There advertising, I chat others members freely. I used different dating apps, functions simple direct one. Users exchanged contact easily. Those guys met nice, gentle serious. Feeling good it. Hopefully every enjoy using app.',\n",
              "       'Thanks lot excellent map \"2gis\". I love it, like much...... It\\'s working well, even without data connection; that\\'s helpful people. Go ahead, keep us.',\n",
              "       'What waiting for. Join platform thank later.',\n",
              "       \"It's really good, I problem. When make groupchats tells whole groupchat ((your email)) used second line create chat send messages groupchat, actul message says email. I would like fixed please. Other that, amazing\",\n",
              "       \"It'd great u added exercises. I mean chest, back, shoulders.\",\n",
              "       'The amazing , highlights within may post . I downloaded see highlights otherwise I like listen I hope guys would . I suggest idea may allow users post highlights match . Well , I hope would look . THANKS',\n",
              "       nan,\n",
              "       \"Nice wallpapers they're NOT 4k even 2k, they're presented. They're hardly fullHD that's perhaps scaled 4k, making look grainy blurry. Would recommend phone screen resolution higher full HD. Nice collection, great quality, unfortunately.\",\n",
              "       'This good searching house.',\n",
              "       '1. Look filtering criteria 2. Better store filtering criteria future',\n",
              "       \"So far I like it. The options talk, get help connect great! However qite bugs glitches. I'm sure upgrade would offer wouldnt consider bugs worked out. This great idea could help many people, please fix bugs!\",\n",
              "       'Amazing!! Really love simplicity app. All favourite sports present I dont really anything much say really. Although inclusion full scale table leagues scoreboard cricket would great. But even without great. ☺',\n",
              "       'I love app. Has plenty completely doable recipes, like complicated wall recipes plan. A variation work routines, broken 8 20 minutes, minutes. I also started yoga sessions added. All plans beginner level, feel like behind even get started.',\n",
              "       'I know Chinese wish English version app. This best Google play store!',\n",
              "       \"I like it, let register guest login. When I said naughty Santa shuldnt say I KNEW good something positive I'm good year. Now kids think abt Santa since call request. I many others feel same... Full Review\",\n",
              "       \"It's actually really good app. I'm ddisappointed show I watch can't watched here. But, it. So I. Happy! Not ads. Just commercial based like t.v.. I understand complaints. I see bugs ads. Nothing u see cable. Its add phone. This surprisingly top notch\",\n",
              "       'Please add sound setting children try play loud sound becomes irrigation parents time. If sound level added children learn parents also irritated. Because kids raise mobile volume automatically.',\n",
              "       \"I would like lot better, crashing restarting Every 60 90 seconds. It's annoying halfway article crash.\",\n",
              "       'Bug? The letters match lines notebook background anymore. It used to, update changed. Threw preschooler bit. If change, would 5 star game. Please fix! I would happily email screenshot!',\n",
              "       \"My concern trading game working. We uninstalled reinstalled couple times luck, I can't find troubleshooting tab son happy able practice writing. Beside everything great. My son happy learning much, plus help school\",\n",
              "       \"Absolutely horrible, able open months without crashing immediately. Have latest updates essential ph-1 phone. Your work. Wouldn't recommend anyone.\",\n",
              "       'Still nothing repaired to the new swipe of the app. Goes more than 20 times a day. Not well implemented, not intuitive.',\n",
              "       \"Best way begin day. Please ever begin Trump bashing. I longer media hate speech President. He rough exterior. Still, he's remarkable job putting America first.\",\n",
              "       'Overall great behind scenes, last couple weeks, someone decided start sending push notifications every single story. Baseball, category 1 hurricanes, usually 10+ larger event. Probably reinstalling let leave phone alone fifteen minutes I get pinged again.',\n",
              "       \"No automatic weather update start up, UI intuitive, useless animations instead functional basic features - can't recommend it, sorry.\",\n",
              "       'World best launcher I ever seen',\n",
              "       'previous version functioning well. live news section working all. uninstall it.',\n",
              "       \"Can't view emails. , Need option customise appearance colour. , Need show what's pop Asus cover ..... Hope improve it. Thank you...\",\n",
              "       'Add Dark Theme Please',\n",
              "       \"Decent enough app. Visual voicemail prior phone must built-in I never used get voicemail, new phone I to. I can't tap msg begins playing like old phone, opens another screen I tap start playback. Not deal breaker , little slower. I like msg transcription, msgs appear get transcribed understand pattern yet. Overall I like far. Don't care ui fonts Color scheme though. Seems dated rough.\",\n",
              "       'I time keep track everything. This program many things. It even goes pictures shows ones might duplicates. It takes seconds review decide ones I going keep. Easy peasy.',\n",
              "       'So I tried day great, second day ( today ) literally ALLLLL planks. I understand point app, ladies ever c section... Those muscles longer used way slowly work way up! This WAY much looking elsewhere. Other seemed decent regular go getter.',\n",
              "       \"Before Sony Xperia M4 I Sony loyal ... No longer. Eats data plan constantly updating massive amount bloatware. And unstable, crashes every two months. I'm buying bloatware free phone ever consider another Sony. I dislike paying problem. Must month end Sony wants update F@#$ing phone again.\",\n",
              "       'Need report views like web.',\n",
              "       'Everytime I try open crashes....I used love beyond broken now....guess I find another weather',\n",
              "       \"Obviously like content terrible. If acorntv must crappy app, give us option casting content phone browsers. Instead forces us sucks. There many things wrong I can't even begin start listing all.\",\n",
              "       \"This helpful me. I've using two years I think time finally rate it. This gives thorough assessment symptoms quite possibilities either reassure send see doctor. Which even better. Ada perfect feeling little paranoid health. Thank much developers amazing helpful app!\",\n",
              "       \"I really hate adobe reader fact I really like it. It's best available viewing pdf files. I gave single star recent update stopped scanning documents unless I separate adobe scanning documents. It big deal actually delivered new deliver feature small part another app! So unless adobe provide stable reliable scanner I going give adobe 1 star rating.\",\n",
              "       \"If looking lot REALLY COOL FX, things like color, shade, contrast, well app. There lot things do, I know them. Also try photo editor. It's logo square picture field yellow flowers dotted line around edges. Pretty generic, also great.\",\n",
              "       'All game great! I really enjoy years now. But thing keeping rating 5 stars. When \"create skin\" update hit, I excited create seeing friend make one. So I updated, I can\\'t make skins Facebook ac... Full Review',\n",
              "       \"It's awesome\",\n",
              "       'Scam alert. Since 2014, failed give rewards points. Customer scammer kept pushing blame user. Finally admitted bug persists Agoda continue scam. If read still get scam u deserves it. Notice wiki page got deleted cos employees wrote like adv. Karma!',\n",
              "       'I always thought aircraft flying house much I assumed lived flight path. But I know aircraft gone I look ? The accurate picks area I live every time.',\n",
              "       \"**WORKS GREAT Sitting airport waiting mother law, can't find her, look flight rubbing behind. Next thing I know calling landed. So yes works, type airline first :-)\",\n",
              "       'Great training tool learning airway anatomy procedure dealing recognizing difficult airways. Looking forward content.',\n",
              "       \"This used really good years ago. I redownloaded recently, changed, really badly. It can't even figure simple people I think of. Change things back, please. This much frustrating. I also miss answered questions, would move down, depending getting closer thinking of.\",\n",
              "       \"This best ebook reading app. No ads, Gesture support, TTS, Bookmark. And many more. It may issues, like TTS split text incorrectly ( time, like '12:45 am' splitted '12:' '45 am', decimal number like '12.45 cm' splitted '12.' '45 cm') But overall I'm happy much.\",\n",
              "       \"Loved day lost alarms made late appointment. (May Android's fault, affected I can't afford risk!)\",\n",
              "       'I used many years. Almost always worked flawlessly. Sadly, past 2 weeks failed go multiple occasions. It simply work anymore. I late work two days result. Unfortunately I uninstalled moving on.',\n",
              "       'Does pretty much says tin. Turns \"spare\" seldom used phones portable cameras. I Alfred indoors supplement expensive weather-resistant outdoor cams already place. I opted pay turn ads satisfied level service. Edit: increased five stars. facebook devil.',\n",
              "       'Im try purchase item failed payment. I received bank statement acc deducted check order, shown waiting payment...so frusted. Never happen shoope app.',\n",
              "       \"Very useful responsive developers. When serious attend events Facebook, helps find easily shares phone calendar want, anything interested littering schedule. Only point improve opinion event organisers show it. The developers keen help add organisers need it, still means can't stop managing events main fb viewer favourite organisers here.\",\n",
              "       'I get Request Failed messages bottom almost everytime I new pages/tabs it. It mostly I attempt pull-down refresh. My net speed good, somehow feels like big. Correct please.',\n",
              "       'Good Sports app, interesting wonderful news transfer news.',\n",
              "       \"I like write translate word phrase language. But, need online... Also choose language country... You're actually free choose want font size, country, language more... This really great translations...\",\n",
              "       'OMG THIS IS THE BEST EVER!!!!!! Cuz last time I performed poorly maths... I lost scholar badge math!!! BUT studying hard using math study books I got scholar badge!!!!!Thank much!!!',\n",
              "       'I absolutely recommend! I thought genius knew figuring undiagnosed disorder, wrong! You guys went lengths every little detail w/ disorders I even know exsisted! Thank you, Robert Erron!!!',\n",
              "       'What TOTAL waste time. CONSTANTLY plugging apps... again. Admittedly I started once, IMMEDIATELY gave insecure feeling going data, secure would be. And ongoing flogging drove crazy. I immediately removed I feel safe comfortable using it.',\n",
              "       \"I'm using Samsung grand neo plus. work me....is downloading like it.. grand users bothered please\",\n",
              "       'The pop-up ads reminders annoying distracting. If going ads, totally cover screen I trying othe apps.',\n",
              "       'Love I let go lack room phone',\n",
              "       \"Loved awesomeness! I using Allrecipes past 8 years failed once, good thing recipes easy direct follow, also helpful thinking make dinner. My regret try save recipes Google home print I can't. For I give 4 stars. Kudos team members Allrecipes made cooking easy fun all.\",\n",
              "       \"So guys.. think game already playstore, im thinking make online, like characters keep game exciting, costume make every players fav. character unique.. I've playing game ever since release... Full Review\",\n",
              "       'Useable annoying. I recommend Amazon Drive simply because, Android okay, PC sync broken mess, makes frustrating manage files. Google drive One Drive similarly priced better.',\n",
              "       \"OK, despite experience could little intuitive, mention updates seem break many features fix. The 'Minutes remaining current chapter' algorithm seems wrecked latest update example. If possible Kindle Unlimited third party reader I'd switch shot functionality issues like this. Amazon good creating intuitive, consistent reliable user experiences.\",\n",
              "       \"Great App! Only reason I gave 4/5 starts recent update broke chat option. I've trying days nothing... Hopefully get fixed soon\",\n",
              "       'This fun mess around explore! There many different communities make new friends enjoy playing favorite characters. Everyone ive met welcoming sweet ive even made couple friends around world here. I love new update helps get closer everyone texting. 10/10 amazing!',\n",
              "       'To look reservations know reservation number. In older logged could see trips without this. Then find res. Number I open pdf file email. Not handy.',\n",
              "       '¡Me encanta! I love much. I forever grateful creators, put much thought effort amazing free app. This best investments space time life. As artist, definite MUST have. ¡Gracias por hacer este app! I question: way pose skeleton? I want see skull looks like mouth open.',\n",
              "       'Overall I like app, bugs, nothing major unbearable. An interesting thing, especially genetic genealogists, would Y and/or Mitochondrial haplogroup fact. I lot genetic genealogy FTDNA would nice able match haplogroups certain ancestors.',\n",
              "       'Unfortunately, I longer search SD card. I almost there, usefulness gone. I would given 4+ stars this. Some folks criticized color scheme, change Settings. More themes would nice, though.',\n",
              "       \"I every drive. In car I secure phone dash run app. My wife's car better compatible head unit. Both provide handsfree experience blows native car options water. I wish paging phone contacts easier favorite contacts accessible. It would also nice auto launch little smarter could know I driving vs passenger. I imagine would done device state; charging, docked, etc..\",\n",
              "       'Crashes constantly! Typing text entry field always appear correctly. Words typed show I delete something still there. Message sent errors way common. Duplicate messages send. MMS group texts properly. crashes frequently. Pretty pathetic stock Android messaging app.',\n",
              "       \"So much fun addictive, brain teaser sometimes quite challenging. Love grow game, love endless levels, love die different types games game, keeps busy hours. One favourite games. I still get hatching part I enjoy game much. Would nice get birds game. Sometimes apples hard get far good. Thanks great game. Love free videos watch get extra birds sometimes. It always helps. It's clever...:-)\",\n",
              "       \"Way many ads. I remember Angry Birds first came fun. Now nothing constant ads forced videos timers proceed. Makes game virtually unplayable, I've uninstalled it. A shame, too. But I'm going held hostage ads videos. Bad enough YouTube it. And Rovio YouTube.\",\n",
              "       'This game ads every level. The pop ups get power ups extremely annoying. And ads play volunteer automatically, sucks someplace quiet. The ads make lot less fun actually almost unplayable... There games far fewer ads.',\n",
              "       'This awesome app. Love it. Wish stickers though. But still great.',\n",
              "       'Logs use, slow, constant forced update. Why complicated, I want view insurance card...',\n",
              "       \"A glitchy piece so-and-so. This provides four functions: list claims, ability view one's ID card, provider lookup, messages center. Navigating often causes time out; sometimes, opening produces error message currently functioning call toll-free number. What good work? Additionally, many require login time opened offer login fingerprints. This doesn't, hassle enter credentials time. Please join customers 21st century, Anthem Blue Cross! 3 stars works, decent usefulness.\",\n",
              "       'Jayden - press & hold re-order! Is working well far tho hard oldster figure make save edits etc. LATER: Love new circles mark \"done.\" Great. I see \"move\" \"copy.\" If copy\\'s paid version, I\\'ll never see it, \\'way $$$.',\n",
              "       'We cant find mumbai showing African country only... One Idiot',\n",
              "       'Perhaps helpful data developer: I opened new update icons normal, looked good, UNTIL I tried set home screen setting, drawer icons became tiny again. UPDATE: I tried clearing settings Android options--to start clean slate. I set desired settings again, Apex working fine. So problem seems old config read incorrectly update. All icons, drawer home screen settings good now.',\n",
              "       \"This great! Don't listen comments people saying need pointless, yes. Apks install part core system files. But install alot of. Apks 3rd party stores ad find sometimes work. This solves problem. So enjoy\",\n",
              "       'lock delay + working OK unlocks password using multiple passwords. Profiles work well using multiple passwords, inherits profile lock modes (pw) create complete index independent set. Needs URGENT correct multitasking LOCK convenience uses main pw. allow different password function order reveal applock main password. Anyway, You trust app, never fails protect apps.',\n",
              "       \"A very good application, that's just the words to teach as easily, te need to be harder, and then they do not learn, but simply get out\",\n",
              "       \"Don't install update!!!!. Its totally screwed phone. The camera work. The torch icon appears disappears. The torch turns off. When try reset phone, settings stop working I hard reset start menu.( power key volume) however cured problems. Camera still work properly. Black lines across screen purple large patches flash over.\",\n",
              "       'Umm played arrow.io samsung duos controls bit lower attack pls fix addmore newstuffs great game hope updated game',\n",
              "       'It would 5 stars feature parity mobile. For example format text (bold, italic, bulleted/numbered lists). Not format text mobile almost next impossible edit text task rich text formatting without creating huge mess. Asana resolve immediately paying customers get back business.',\n",
              "       'Overall impressive start. Love map view pick experiences. On constructive feedback - Some videos well stitched good sharpness clarity, I mind downloading 100mb higher res videos. Also paid content seem worthy. Finally I lost purchases I reinstall app, need solution I buy more.',\n",
              "       \"The graphics good gameplay also good matter stupid game lags much. It's slow. Why smooth, like requirements?. You stated requirements info card herebin playstore. Also phone 4GB ram. What ... Full Review\",\n",
              "       'Overall bad. Main downfall bill pay. Not pending balance, randomly clears several days later - must rely memory much when/if cleared vs removing overall balance submitted. We rely \"quick check apps\". This that.',\n",
              "       'Like ti', 'Works well',\n",
              "       \"Im trying design electrical schematics purpose I would require customs models I could create import. I would purchase subscription ability create import custom sub-models we're added. I sincerely begging feature added program currently robust capability design.\",\n",
              "       'It suddenly started closing self! Autoscout24 keep stopping! Whats wrong app?! Im disappointed!',\n",
              "       \"Wondering can't Classic filter... I received new phone restored Aviary filters noticed Classic filter installed would restore. I contacted told Classic filter discontinued. How disappointing. This favorite filter hands down. Shame Aviary\",\n",
              "       'Very good freeware editing, aware limited # stickers available free. Use sparingly!!! Great picture editing software, using adobe years & product comparable. Enjoy type software used expensive. Like things free market price based item commodity. Still great program free! :-) Enjoy using it, get excellent results! :-)',\n",
              "       \"One worst every single thing paid. If pay convenience something force pay something else otherwise won't open section paid earlier. As far concern please avoid looting app.\",\n",
              "       'Enjoyed books couple years.',\n",
              "       'There point. You never see clips videos outside UK. Cannot really reach audience. Other sports news better used',\n",
              "       \"I love app. Never time unlik messaging apps. Useful features secure. More features too. Great call quality. There's much it. Ads - I often see ads, least face like apps, maybe I Blackberry device. Only downfall I see people using give fair chance, keep bleating ads- well ads aplenty messaging recommended.\",\n",
              "       'Best banking ever!', 'OK far',\n",
              "       \"DO NOT USE THIS It's trash. I cancelled told I go Google get money back. Now Google going back them. They sent broken link I'm paying trash I use. Don't let get you. I'm getting lawyer.\",\n",
              "       \"Terrible dating app! Unless pay, can't even communicate anyone. Can read message. It's waste. Deleting app.\",\n",
              "       'Great App!!!!', 'Love',\n",
              "       'I mad I really wanted I installed said available country I live Canada.',\n",
              "       \"Awesome game great idea.... would terrific u could make realistic... defense types go center... attack types circle around... stamina types dodge spin opponents... need get five stars, make realistic. Do I'll give 10 stars\",\n",
              "       'Great simple 83 year old like use. A bugs 1) On task-bar trying edit home screen clicked comes \"Can\\'t run application\" go Big Launcher Preferences edit home screen 2) Have Whatsapp installed contact also whatsapp number displayed twice',\n",
              "       'trash. Had luck POF aint even good. Maybe stop connecting us women million miles away alow us talk speak women without swipe right. Get rid fake accounts maybe? This shame black dating site directed towards black people horrible real options security. anyways goodluck everyone using site. expect nothing advise.',\n",
              "       'The application is correct, but the design leaves a lot of wishes, cooperation with the fingerprint reader is limited only to log only one case. The application is quite slow poorly optimized. Some elements of the app are almost archaic. Problem with saving confirmations in PDF. When I save the confirmation, I save it as a 0 Kb non-open file, then I save it using an external file manager, in my case Solid Explorer, it works fine.',\n",
              "       'Great information',\n",
              "       \"I love September learning French German secondary school I'm eleven I can't pay anything apart good wish pay please reply Monday I uninstalling thank you.\",\n",
              "       \"Pretty good. However, contains annoying little bug also user app: The native update progress complete lesson online. In order force update, need log log back again. Doesn't destroy user experience, definitely pain\",\n",
              "       'These developer way expensive easy self promoting ads. This child game.',\n",
              "       'My old phone sim card inside. How I phone app? Please try provide alert options like Skype, notification etc based wifi/mobile data cell connectivity',\n",
              "       'Lovely app, lots ideas easy use!',\n",
              "       'Waaaaay many ads baby app. My toddler clicks every freaking inappropriate ad puts covers buttons touching. Uninstalling. So annoying!!!',\n",
              "       'Its interesting game I like it, need add characters stuff.',\n",
              "       '2 1/2 year old loves it. Worth paying remove ads. Difficult child accidentally exit app. I let play tablet crib bedtime I sneak crying. Only wish letter number puzzles would say name clicks piece.',\n",
              "       'Keep scrolling couple times think hit end pics sometimes takes second two pics load. It\\'s big deal know miss many pics. There lot many beautiful, creative, & unique. If sure pics like look ones & find lots. You select \"favorite\" I save wallpaper changer & enjoy them.',\n",
              "       'I do not have any motions of changing the situation, you are my zingadgi, just do not change you',\n",
              "       'This used great developers seem incapable unwilling fix long term issues. For example Reddit videos volume timeline capabilities. Reported 8 months ago. This works BaconReader issues.',\n",
              "       \"The biggest BS dating there. Fake profiles, swipe right till finger goes numb, respond till buying credits! Wanna talk fake girls Ghana, trying scam you? How girls wanna give sex show? Don't waste time money. There real women site.\",\n",
              "       'Then updated hands-room, though, it hit the keyboard problem is to track back how',\n",
              "       'The new Itaú has gotten better on the one hand, but there are some things that can still get better. - Allow exporting vouchers to go instead of sending emails linking to another site',\n",
              "       \"Lol, from Brazil bank are a joke. To what application should everything need to go agency or ATM? Otherwise, everything is wrong. All. Bb code, biometrics. Bb and Itaú are competing to see which world's worst banking service.\",\n",
              "       'I thought it was a mistake, but it turns out that if I accept the facial recognition the application closes, but if I say that I agree or stay locked. Facial recognition should be mandatory. Refuse update, hopefully solve it soon.',\n",
              "       \"I really like allows keep important info pet handy phone. However, could improvements. My biggest complaint typically loads slowly mine SO's phones, sometimes I force close open work. I'll continue convenience I hope see improvements!\",\n",
              "       \"Develop app. It's slow. It takes much time view news details. feel annoying. And also shows many ads.\",\n",
              "       'Excellent location based data mining Based location (or areas I interest) I see real time events tailored I am... Everything traffic, events, emergencies social posts. The mines social media, always getting thorough easily accessible. It also follows topics I want. Really good app... Does phone dry either. Yay',\n",
              "       \"Can't sign days upgrading new version. It said unable complete request asked try again. I tried signing several times still falled. It worked previous version. After testing, works set English language environment phone. Some users mentioned .\",\n",
              "       'I like features, super helpful! Only issue new easydeposit feature. If anyone help small issue get work absolutely get 5 stare rating. Thank advanve!',\n",
              "       'This excellent Digital Card, ideal for online payments. The payment with a single card should last longer since 3 times are enough to enter the data. It would be great if you add features like HSBC Total Control.',\n",
              "       'For a while now I just can not access my account. It blocks during loading and nothing happens. I can not check my money in and out which really starts to exasperate me! Do something !!!',\n",
              "       'For haters know realeased 2014 2018 early days yeesh people',\n",
              "       'Heads up: If purchased extras, MUST turn device completely back on...them MUST go settings select RESTORE PURCHASES. Once this, purchases show available us. So much fun grand-daughters love it!!! I think fun too. You artistic like, mixing patterns colors hair make anything really.',\n",
              "       \"I love game, I got yesterday tablet crazy designs. XD problem want get anything new, pay. even worse, pay everything separately. want us pay, least something let's unlock everything game, would least little bit easier.\",\n",
              "       'It nothing, keeps loading never loads. It working good last update. Please FIX IT ASAP',\n",
              "       'Nothing else comes close except different phone. This handles even really tough ones. Great tool. The Cognex version power old Manatee had. Great scanner still everyone trying (and failing) beat.',\n",
              "       \"Great app! I don't features I've tracking 14 months. My favorite weight loss far!\",\n",
              "       'Too many ads. lucky hit ball twice ad plays may get x get sometimes watching it. And ad bar right next main UI element aka hit button. Much better better looking playing games little ads unless choose watch benefits.',\n",
              "       'This game fun, game either really lag ball missing commercial, latest update still fix it, please help',\n",
              "       'Awesome game problem ads constantly stop working. Wait 24 hours watch adds collect money,a bag brick gold ads stop working says collected already. Other awesome game love it. Plenty options real fun play frien... Full Review',\n",
              "       'Useless Application Too much boring decorating ideas. Never install application.',\n",
              "       'I make 5 star review fix exp system add add buddies game. For reason exp system award kills? It changes place... I 7 killa got 10 place got 12 exp??? Not worth it, skins way expensiv... Full Review',\n",
              "       'Please fix mother ****** This game best games PS year u fix loading problem. This game take long time load info, walk 5km, go work 9am till 6pm,take shower n sleep night 8pm 6am game still keep loading untill phone died 3 min... Full Review',\n",
              "       \"Unrealistic player ratings values How messi's highest rating ever 97 (2013) salah got 96 rating decent season also eriksen expensive player world? Don't get wrong really like expensive best\",\n",
              "       \"Wow amazing dating app. The registration process easy setting profile breeze. I think dating around long time maybe get huge status tinder pof plenty fish now. The concept brilliant far I love datehookup fling feature. Out dating I've used think favorite even happn okcupid. Thanks everyone making fun hook dating experience\",\n",
              "       'If want beautiful Design cake You must',\n",
              "       \"Weather Won't Update Worked fine multiple phones years. Got Galaxy S7, weather update. Also, clock stuck wrong time zone. Tried everything I could think get working. Very disappointed.\",\n",
              "       \"It's lovely widget app. But I'm gonna hold 2 stars developer corrects issue:- It's always synced actual time. The mobiles time shows time notification bar stuck minutes hours behind it. And happened Redmi 4, MiA1 hTC U11 well. Kindly help make best time widget ever...\",\n",
              "       \"I loved beginning now. Idk bug, I can't anymore soon I open photo gallery, ad pops top white screen give option X I can't go back photo. It go away. I've even tried uninstalling reinstalling. Same issue. Please fix I'll give 5 star. Thank you.\",\n",
              "       'Very good especially landscapes images sometimes respond properly.',\n",
              "       'This a̸p̸p̸ Na Kare please Mere Bhai A L please fake fake fake fake fake please install fake fake fake fake',\n",
              "       \"Wanted refund first month, work me. Received email charged account Aug.1st around 10:30 night. I immediately started searching request refund 3rd party Google course impossible find!!! Don't ever subscribe 30 day trial EVER!!!\",\n",
              "       'WRITE REAL CHANGELOGS!',\n",
              "       \"I've used issues order coupons restaurant honor glitch I removed app. Six months later I figured give another try damn thing happens order. No word yet restaurant honor coupon time. Removing again! Tip, call order less confusion.\",\n",
              "       \"Used paid version years satisfied except search function stopped searching metadata individual episodes. But I've trouble couple months. Currently asking allow access 2 storage Startup I allow kicks out. Rinse repeat. I've emailed support answer.\",\n",
              "       'I used love I past month keeps.crashing, verse images disappear. As recent today.my frustration crashed middle reading plan. The help/tech support helpful all. They keep repeating steps uninstall install, clear cache. None t... Full Review',\n",
              "       \"It great useful but... IT DOESN'T HAVE ANY INSTRUCTIONS! This real downer I ended deleting information I know save it.\",\n",
              "       \"I multiple times per week. I like able search new recipes, grocery list included great. I wish grocery list combined like items (For example, recipe called 2 eggs another 3 eggs, I wish list would recognize I need 5 eggs, instead creating two separate line items). The meal planning work well phone desktop version, I'm sure could fixed easily. Overall, favorite/most used apps.\",\n",
              "       \"Overall, I've positive experience gentleman complaining community stuck up, considered maybe cup tea? I get ignored, I take is. Just geared towards heavier men, mean everyone attracted you. I'm heavier dude I'm attracted heavy dudes. I know you, I think based comment, attitude what's getting connections want. My opinion, course.\",\n",
              "       \"I old phone perfect. Yesterday's update caused errors. It pick GPS. Thinks location off. I discover pause restart 20-30 secs find GPS location. 5/12 hrs ride record nothing screen appears ok. Google maps forward step. Make another maps leave alone!\",\n",
              "       'The could prettier interface definitely needs explanation purpose ranges.',\n",
              "       \"Hi, i've using quite long time now. I updated 5 months so, background always. The thing is, used study learning put background using whatsapp group study. The sound stopped every 5 minutes so. Which supposed end 2 hours. It's fine dont put background. Any solution? Thanks keep good work.\",\n",
              "       'Great works. Frequent issues trying schedule appointments, adding promo code never works, I always center add says \"promo found\" every time (dozens tries). So annoying!',\n",
              "       \"So entered self... I liked old days, Facebook birthdays could magically enter contacts' birthdays notify me. The way me... pretty useless. Haven't received notification months, shows 5-6 birthdays total. Ugh.\",\n",
              "       'How get wallpaper ringtones please blow love birds help',\n",
              "       'I gave BPM another chance prove wrong, I paid 2 months subscription I ended nothing. BPM rogue, BPM fake, BPM scam. The moment subscription ends I know start bombarding email fake messages, fake likes, fake views, lure back pay. Shame BPM.',\n",
              "       'Abrupt end unpleasant. Suggest \"sorry\" type message followed menu start new game exit. Apart abrupt exit I LOVE game.',\n",
              "       'My post keep failing. I saved something draft. So I keep trying upload work working I tried uninstall reinstall whala. My draft saved deleted. Deleted. Deleted. Tsk Tsk Tsk Tsk. Update: today 10-26-2017 I still cannot upload / publish article. Fix please. It keeps showing ads longer worth phone letting publish article. Can somebody fix issue?',\n",
              "       \"Good pictures work I blogging 3 years definitely easer although I liked fact could take picture phone put straight blog. THIS NOW DOSE NOT WORK NOW. When I put picture turns black. When I try delete picture post crashes. Please fix this. Apart works fine. There somethings can't always way. Over ok.\",\n",
              "       \"added ad stream go away. I complained couple days later another ad appeared first still too. Having scroll TWO ads get I want read sucks. I'm uninstalling it.\",\n",
              "       'Great app. Make everything easy scheduling appointments even completing rapid pass right there. You also keep donations appointments. I love',\n",
              "       'Have used years great success. Easy & fast. Love charts. My doctor appreciates it, too. Still good & reliable ever. This never temperamental.',\n",
              "       'My Cardiologist loves app!! The ability email reports great. I send get doctor. The \"RTF\" format facilitates getting report via secure messaging physician allow attaching files. I copy paste Kaiser\\'s message form get data (without graphics). It also facilitates easily getting info copied chart desired without transcribe. It copied pasted. Meanwhile PDF report informative visualize due charts.',\n",
              "       'Wants access contacts lists! Way intrusive!',\n",
              "       'buggy, lot slower less intuitive compared iOS version.',\n",
              "       'Subscription cost high. Was big fan Bloomberg TV miss now. Just unaffordable.',\n",
              "       \"I meh game first. I like music sound effects, 30-minute wait lack incentives bored. I actually put aside nearly year. But I love now. I love intricacy map artwork especially. I'm still annoyed lengthy animations, playability seems improved. Really, I like except dastardly bees. Oh, snails. I hope around level 600 we're given salt.\",\n",
              "       \"Put it in the practice of your application. Bi man would not be smart development. We've got a zero key, you put it in the middle.\",\n",
              "       'As soon I turned ok add came go till counted down, way way annoying me. Before saved image another add came editing first picture 3 adds came on. Way annoying deleted it.',\n",
              "       'I lost $200 app, I choose Araras hotel due pictures Booking show I arrived place destroyed looks abandoned. I ask refund support center denied I could stay family terrible conditions decided lost money went another safe better place. Please Booking lost money better trivago.',\n",
              "       \"Really like game far. Great gameplay lots fun. Edit: I took away star constant asking rate even I've already rated taking away chances chests. Just seems excessive. It's good game, people need badgered rating.\",\n",
              "       'Please bring back properly labeled buttons music player. I box screen reader recent updates messed seekbar buttons.',\n",
              "       'Its easy', 'After Vi Vi',\n",
              "       \"A godsend. Thank much app. I severe anxiety analytical mind, I struggle everyday disecting mental health trying rationalise nonsensical thoughts. I've discovered binaural beats past months first time life I escape able completely relax. This best brain wave I ever tried. I can't ever fully express words difference made life.\",\n",
              "       'Would given Branch 5 stars. But fix payment issues. Pls take look fintech apps( mention names) easy smooth edit card details making payment app. I 1min.',\n",
              "       \"Until it's good, BUT WHEN WILL UPDATE THE MENGÃO SHIELD ?????\",\n",
              "       \"I flooded ads, redirected, news articles really hidden ads APK's, requires permissions. If allow permissions open. JUNK\",\n",
              "       'Awesome',\n",
              "       'The fine constantly logs Android meaning I cannot trust boarding pass available airports. Very frustrating online log almost every time open app. Has affecting Android months months. Latest update helped.',\n",
              "       'This slow, I know people saying great!.',\n",
              "       'The Good Parts: small starts fairly quickly. Goes direct info users likely want see. What It Needs: Cardless ATM feature similar SCB. Bugs: The Show Transfers action show transfer I made earlier today via iBanking. The Show Payment function show payment made AIS yesterday. Balance incorrect withdraw money using another platform logged app. Pointless OTP others commented.',\n",
              "       'My free work time never uploads new video plz look problem solve asap. Thanks',\n",
              "       \"Game fun i've able connect fb account yet.\",\n",
              "       'Some levels insanely stuck days. Overall, loved game. First time I\\'ve ever beat game (current) end. It says \"coming soon\" level 205.',\n",
              "       'Ok aiming system good bounces. After level 100 becomes equivalent bursting bubble wrap. All levels practically identical 2 balls.',\n",
              "       \"Other able make changes home see lot upgrades like cats. It's wonderful game. I've able upgrade house seems like year so. Last time I asked help, I really get answer. So. What going help give better REVIEW.\",\n",
              "       'Please please consider adding English language option! Otherwise, reliable weather ❤',\n",
              "       'I liked build because built bridge always make fall give 4 5 also PLZ DOWNLOAD BEST GAME',\n",
              "       \"Protection against sellers is lacking. When the expedition failed in a timely manner and reasoned that it didn't make sense, the duo continued 100% to the pelapak. Even though the buyer can't complain directly to the expedition, what the complaint can be is a seller. When the duot was handed over 100% to the seller, the seller became poor to complain to the expedition.\",\n",
              "       'I tried first time using dating businesses send messages. It great started paying subscription. Wish free course worth paying $5 per month removes possibility deal creepers many business texts.',\n",
              "       \"I like basic version OK--nice colors decent syncing across apps--but I would upgrade paid pro version, someone would confirm whether ALARM notification feature--i.e., actul wake-up type alarm, NOT one-time vibration pop-up window--can easily set notifications. It's little pricey that's feature I would really looking upgrade, I can't tell that's actually included not.\",\n",
              "       '5*****APP INDEED.',\n",
              "       'Pretty good personalization. Some features find new icons blocked unless make account let make reason. *** Edit- After sending email support, bounced back message mailbox longer service. I think company longer updating app.',\n",
              "       'Just downloaded I\\'m reviewing let guys know I can\\'t figure sign app. When tap \"Log In Sign Up\" gives login option, sign-up option. If I try enter info I want sign with, I get error message. A redirect sign-up page needed somewhere here.',\n",
              "       'There are really bad days with the quality of the news that is called hot news. This loss will come to an end if you do not change. My house will uninstall immediately',\n",
              "       'Gr8 Rookies From personal experience gem. If beginner want learn From Scrape baby you. From simple Addition Substraction Programs complex file Handling. This got everything. I would strongly recommend want make Programming learning endeavour Fun .only becoz loads advertisements I deducting 1 otherwise great app. Live long &strong feed poor hurt animals Peace ✌',\n",
              "       'How many ads take How many ads take crash tablet? I started read intro 3 ads!! Then wanted back main menu another ad! Then I wanted close guessed it. Another add. Granted free add intensive I would pay add free version.',\n",
              "       \"Good afternoon, I'm grateful that you've answered the problem with a barcode scanner. It really is not a problem related camera apparatus or photography situation. With other applications reading normally occurs, only with the box that gives this little bug. I think it's because of the Android version (8.0). Maybe there is some big in this version only, and because few users use this Android version, end up having little report on case. I would like you to check if there is really any problem regarding this in the application itself. He usually reads 5 digits but then reads everything wrong.\",\n",
              "       \"This needs three things get 5-star rating me. 1. Programmer mode (Dec, Bin, Hex, Oct, AND, OR, XOR, etc...). 2. Programmable functions. 3. Don't annoy pop-up asking 5-star review. For basic calculator, nice, clean UI (I appreciate trying pretend ugly physical calculator), smooth interface.\",\n",
              "       'After playing game year fun. The issue I noticing trend gang fights. They seem set make pay actually get 100. Also, get gems like used to. Shows thwy care money fun. I know e... Full Review',\n",
              "       'I dislike new colors. Way bright. For may noticed features advertisements slows way down, advertisements way big mobile screen. I feel CBS deceiving trying convince users upgraded much better. The new version awful 100% downgrade blinding colors advertisements block content visible screen. There new feature updated I find absolutely annoying. Shame CBS greedy sticking users annoying useless ads!!',\n",
              "       \"The good reviewing material cdl. I got permit 3 days ago passed 1st attempt. However answers questions incorrect, I've notified fixed answers yet. So aware reviewing.\",\n",
              "       'Good lost phone store someone tried unlock took pic good',\n",
              "       'It great people except I think marketing strategy putting attractive successful people section buy bagels pursue relationships. One thing I dont like I getting end, I imagine guys dealing end well result people missing connection keep paying them. That part super annoying.',\n",
              "       \"Update 7/4/18 CNBC failed year. Love watch CNBC live every day. Prompted review again, 10/15, unfortunately improvements since last review. It still freezes afternoon. Really irritated I can't see market closing articles. Much better latest update freezes mid afternoon really frustrating market closes. Used go several times day day. The new update horrible. Doesn't fit, limited info, limited charts work. Android HTC Update: still freezes mid afternoon sometimes stories.\",\n",
              "       'Not lot variety unless buy recipe packs, boring unless pay up. Using Happy Foods stock restaurant also takes forever--the animation long unskippable, lot recipes, every single want fully stock.',\n",
              "       'Why blue? Makes harder find people associate CVS red logo… Ever heard corporate brand identity?',\n",
              "       'The good episode instead going next whole reset. I stopped using 4 months I return surprise surprise STILL thing.',\n",
              "       \"It's good offline archive travel itineraries. Nowadays gate changes delay notifications pretty well time. Also possibility saving boarding passes really handy.\",\n",
              "       'Floating window working properly 7.1 Samsung c9 pro. Sometimes appears disappeared. New scanning, Antivirus use, auto cleaning working. My expectation failed. Many improvements needed. Now going uninstall. Sorry...',\n",
              "       \"Updated 2015: STIL app, still love still highly recommend! *** I've short time, impressed enough I purchased premium. Previously, I calendar updated I stand it. This I want need calendar: color organization I quickly identify entry goes whose schedule, I LOVE two-week view go back forth monthly daily views. 4/12/15: Still LOVE app! Best calendar I've far!!\",\n",
              "       'This GAME DOESN\\'T EVEN LAUNCH!!! , every time I go play it, goes black home screen says \"restart send feedback\" IS THERE ANY WAY TO FIX IT??!!!! SPENT 8.99 ON A GAME THAT DOESN\\'T EVEN WORK LIKE C\\'MON GOOGLE PLAY GET YOUR ACT STRAIGHT AND MAKE SURE GAMES RUN BEFORE LETTING PEOPLE DOWNLOAD THEM!!!!',\n",
              "       'This never let down. And I using years now. Shows numbers contact list. Love love love app. Thanks guys great job.',\n",
              "       \"I really like since challenges keep track progress. I hard time knowing since exercises I'm low speed data videos show load kinda hard follow. I sent... Full Review\",\n",
              "       \"Tried couple drove mad can't even find plain veges fruit without brandname size works me. I live New Zealand none brands mean anything anyway barcode databases caught products here. This easy million entries 'potatoe'. I also love easy create button food I eat fast, unlike others' I tried, good look it. You also change distribution macros without pay like apps. So simple effective! Have lost weight I wanted loose app. Great job Mario\",\n",
              "       'Works great. Helpful. Fairly user friendly. Only issue bug search items using scanner, find them, pop-up front found item says \"item found\" would like add yes no.... sometime pop-up go away unless press back button yes button 10x or... Full Review',\n",
              "       'That lot rate features. I everyday. One aspect missing I pay full version. I beginning bodybuilding bodybuilding workouts I burn probably additional 2 300 calories however count calorie burn strength training workouts. That important feature feature available I definitely pay full version',\n",
              "       \"I basic free version I can't comment whole thing. However , great features like working calories, showing weight level , much salt intake well fats etc. I love it. It works makes... Full Review\",\n",
              "       \"I enjoyed mostly! The bad thing ads. Ads pop I'm middle game. Sometimes, stay on, even I press exit button. I understand may ads sponsors, much. Many people complained. This many ads making game less enjoyable. Please change this.\",\n",
              "       \"This new update sucks . Whenever try change camera front back stops working filters little much. It'll great good filters rather tens irrelevant filters.\",\n",
              "       \"You get 1 star I DON'T WANT TO USE FACEBOOK TO CONNECT!!! I prefer Google Play Games like majority Android users. Nobody trusts Facebook anything anymore! So change connection policy STOP PROMOTING FACEBOOK!\",\n",
              "       'If get free lives refill, continue accumulate lives. Ex: I 3 lives left I win new 5 spin..or leveling I 8 technically..but refill back 5 I understand refill... It easier get way people continue play. The piggy bank able time time always purchased. Seems fair loyal players. Once notification read mail box notification disappear...but stays. Just tips :)',\n",
              "       \"The game starts somewhere around level 1500 I actually level 2000 now. I used able scroll kingdoms 10-15 seconds get level, recently even work. It takes 3 minutes scrolling even play game. I LOVE Candy Crush games, I quite close quitting uninstalling. I see various comments besides going months. Why able fix it? It can't difficult fix..is it?\",\n",
              "       \"Takes mind worries. A fun game. Although, getting quite annoying adds covering game can't complete game even start play game. This needs fixed.\",\n",
              "       'Firstly, game slow loading freezes quite often. Secondly, know cheap rip games makers can\\'t spell \"pause\" properly.(spell check goes long way guys)',\n",
              "       'Best ever Camera',\n",
              "       \"I love Canva, thank mobile desktop versions. I daily. Only issue I've come across Mobile reason elements moved slightly saved/shared. In words... preview document within editor design looks perfect, saved, two lines/elements shifted slightly left be. On desktop version, 5 star, although I experienced odd glitch lately. Still favourite app. Look forward font search tool update day.\",\n",
              "       'Great app, really bad discussion navigation. No way collapse replies see unread replies like website. Makes discussion section irritating lot replies.',\n",
              "       'So I tried first time cancel order. It charged something I wont receiving I try log back in, says account disabled. Not cool',\n",
              "       'The timer chakra user friendly fixed wish must customizable user... Secondly alfa tones forest ocean user may lock continues work even chakra music changes... If meditation 7 minutes discontinue every minute turning alfa on...',\n",
              "       \"Why can not I sign up for Minnesota's favorite team, and I can do other MLS teams, what kind of discrimination is this?\",\n",
              "       \"It would great easier way earn gems. It would also great could could customize characters. At least Choices start gems. You give us anything cost fortune. I'm spending money here. I likely delete game I finish story.\",\n",
              "       \"Zelle feature implementation flawed. If can't transfer money different banks using name phone/email, Zelle helpfulness reduced drastically. Sometimes need transfer money banks another since person, number email. However, great handy exactly set do. Highly recommended though.\",\n",
              "       'I suggest must voice recording private chat,so easy chatting using voice..really hope it.thanks you.',\n",
              "       'Why updated app? Even I get private chat always get hang, says responding. And also I call somebody I went back users connect call I able connect , honest, update great flop, fix soon please',\n",
              "       'UPDATE: Please, please bring back ability save individual flights. This extremely useful. After latest update saved flights, upto 6 months, future wiped. A fantastic app. My go fight fares, 2 years. But, recently, latest update I think, I still constantly recieve price updates fares I deleted favourites weeks ago. Slightly annoying. Why Momondo?',\n",
              "       'I look forward meeting team great day!!!',\n",
              "       'This save itenary, inconvenient trying access travel information.',\n",
              "       'Very good but...how get currency changing method',\n",
              "       \"I really love app. However, much offer anymore, I still it. I usually cash small payouts paypal Walmart extra cash. I give 5 stars I problems all. I'm able cash out. I've using years now. I still recommend downloading app.\",\n",
              "       'There spot red moves it, piece gets stuck. Have done touch screen sensor test touch screen perfect.',\n",
              "       \"The majority offers coupons remaining. So need scroll forever find valid coupon. This becoming useless It still usable. Your response make sense. It nothing using multiple apps. If can't redeem offer presented\",\n",
              "       'Overall game good could great put diamonds neee high hardly buy choice spending fortune. The outfit joke aswell stick way trough cost much. Make options free♦ lower amount need make choice',\n",
              "       'I really like easy much safer dating apps. There always problem scammers/catfishers dateing site, CDFF really takes members safety seriously. I met awesome people site I made friends with, high hopes I soon meet Godly man I seek. God Bless Joyfuljoy67',\n",
              "       \"I love Chrome! I thankful Google developing take less space run faster even smoothly well greased machine people like can't afford buy expensive phone actually get memory left phone preloaded enjoy phones sit debate we're going delete next time says memory low please remove.. Blah blah ..love Google Android Dev teams working us lower class Android users\",\n",
              "       'I another',\n",
              "       \"Okay I know trying improve adding nice pretty pictures. But latest update approximately July 12th, system freezes regularly. And doesn't, screens take three four times long load. Not good trying purchase tickets online every week like I do. Get fixed I'm switching AMC!!\",\n",
              "       'Needs relogin painful. I want I front computer. And I relogin repeatedly difficult. They enable passcode easier mean instead relogin. Other issue delay mute. I liked mute button screen I afraid delay I say mute actually mutes. It nice somehow forwarded meetings added I remember type meeting numbers. Apart complains. great helpful.',\n",
              "       'Poor app. Wish designed brains first, coding it. So many changes proof poor design.',\n",
              "       \"Has gone hell. Takes FOREVER login (that's IF lets login all!), fingerprint works/doesn't, keeps telling I need activate card activated ages ago. Soooo frustrating. If card tied Costco membership, I'd cancel constant annoyance.\",\n",
              "       \"Forget paying app, designed make fail payments get charged that. If want supposed still need go bank. Don't trust\",\n",
              "       'useful works every stop accepting pin password lock account. Then tells reset password many login attempts even I still keep locked account websute better. Very annoying.',\n",
              "       'Used Florence Rome much success. Love placing pins marking visited. Best feature locator map. I able find way easily I took wrong turn. Would love able map route A B. Also think different colored stars available. For example red site visit green example restaurants.',\n",
              "       'Terrible app, monopolizes a lot of space, is slow, complicated interface in the end you can even pay the receipts.',\n",
              "       'The game favors big spenders rigged deck rotations...used fun screwing decent players over. Also favored elixir spending. Opponent push 20 elixir 5. 100% rigged game unless wanna spend $1000s dollars like so-called \"pros\" youll never get anywhere.',\n",
              "       \"It's amazing game I loved it. U it.The graphics awesome . Cool game. It's favourite game... I think give better events would help us grow base faster. And SUPER CELL favour search friends names also tag no. ( available ). plz favour really nice game..... also chat friends global clan . another icon\",\n",
              "       \"You make colours different. I'm slightest bit colour blind besides red I hardly tell apart. Maybe red, yellow maybe blue something along lines. Would love see small change like I'm actually able play game. Thanks.\",\n",
              "       \"Used LOVE app, lately rotating photos making blurry (even though original right side completely clear). I've tried uninstalling restarting phone, never gets better. I'm really sad this. :(\",\n",
              "       'It annoying wouldnt let selfies even kind good I left save anything',\n",
              "       \"I wish grayed part would little darker easier see especially small spots. Otherwise, I'm really enjoying app. Honestly, I've seen others thought weird day, I feeling well, I looked colouring favourite.\",\n",
              "       \"It's great but... I would like added way make coloring pages (you take photo something, take colors, color funky way!) Oh, I also eine complaint... need buy WAY TOO MUCH things! But that, perfect!!!\",\n",
              "       \"This best note system I've ever used! Easy simple productive tool. I've used keep records health history, wrote novel, kept addresses, shopping notes, receipts, grocery lists, anything copy paste included here, even lock notes password, keep passwords recorded behind simple password, keep organized colored notes, share. I love it! If phone breaks, worries... It's backed up! There drawbacks here!\",\n",
              "       \"Database include colors. Like Redwood SW3501. Managing saved colors sucks. Something wrong editing names colors save rooms color used in. And text long enough, allow symbols abbreviate. I hired SW color consultant, keep swatches can't find good way manage app, store.\",\n",
              "       'Good luck getting pictures free. Everyday supposed collect diamonds color pictures free. I rarely get diamonds coloring give you. I written support least 4 times results. Too bad. Nice pics I refuse pay color.',\n",
              "       'After sleep',\n",
              "       'Pretty cool idea, nice starter palettes I love choice images. One thing I devs make clear - paying unlock entire unlock palettes separately? Added zoom feature really helps small areas.',\n",
              "       'thanks nice 2 year old baby boy want color everything.',\n",
              "       \"A kid's excessive ads. The types ads allowed app, let alone kids\",\n",
              "       'Update- Latest version fixed problem Android TV, new TV interface. Fantastic. Will need little time properly try happy. THANK YOU Devs fixing issue. Much appreciated.',\n",
              "       \"Awesome Really helpful figure study next. The thing I'd request way bookmark highlight certain ones, know need study next. Overall really helpful though.\",\n",
              "       'Basic device control This OK app....user interface obtuse Bluetooth connection continuing mystery. I hope back backdir still here. I wish TV phone option louder tinnitus volume control added',\n",
              "       \"Got previous phone, connected Gmail account phone contacts/backup, like said to. O never wanted Google contacts sync show, didn't. Just got new phone, Google contacts sync (emails every email I've contacted), phone contacts I'd previously saved nowhere found. Where they? This garbage.\",\n",
              "       'Is great way keep friends, family work partners touch another well inform tasks required get done reminders coming events dates.',\n",
              "       'Never I used seamless transfer Android device another. Provided cloud backups enabled previous device, get local pictures videos call logs text messages back, also get data. I happy 500 call log 17,864 SMS messages transferred. Thank Verizon!',\n",
              "       'Very useful app. I used replace another converter sound ads. I requested sound removed ads app, ignored. After lot searching, I found best. I two requests: 1. Add kilowatt hours Energy/Work. To kwh common unit work. 2. For Currency conversion, always show timestamp last update button update rates demand.',\n",
              "       'So handy. Have used alot. I always try make variety dishes I find want easily.',\n",
              "       'I swear... This worst streaming I ever used. Logs every couple days, stream Chromecast takes forever load video.',\n",
              "       \"Was fun easy beginning. They know suck in, first level there's barely enough gems. By 2nd building I spending money I loved game. By third building, I realized I continue I started putting large chunks check it.... I stop I'm ahead. Got 3 buildings, halfway levels, back update gem problem\",\n",
              "       \"It's totally ok want get money develop game, maybe better create option us decide; like games. They make levels impossible pass want force buy gems. You pass levels unless spend lot gems!!\",\n",
              "       'Its tasty needs hold favorite recipe offline',\n",
              "       'Not working right',\n",
              "       \"The best ereader! I really love it. It nice customise everything like! The thing is, I wish could synchronise progress/bookmarks across devices. So I read phone I'm go carry tablet home without manually entering new spot. Would possible all? Perhaps log in. But otherwise perfect! Always works well joy use!\",\n",
              "       \"Went never run running 10k three times week end programme entered first ever 10k race. Slow steady build meant injuries I love running- something I ever thought I'd say. A great running beginners get back running...\",\n",
              "       \"I really really like app! BUT I'm disappointed. I even paid money full/pro version kinda wish I hadn't. It's great program, I'm enjoying far I'm finding GPS tracking accurate. As someone motivated run longer distances really frustrating push run better say I run far last time even though I know did. I dont know worth spending money on.\",\n",
              "       \"Really digging UI/UX! The ease hitting search icons events, hosts,etc. come remembering location searched. It's little things. Good job team! (Oh yeah, others said , waay easier I bothered first place, hoping would easier site :p)\",\n",
              "       'im using samsung note 3.since install app,i able sign only.but every time try login,its say\\'s \"please patient.you\\'ll added soon\".its month,but still showing error massage.i can\\'t all.please fix it.',\n",
              "       'The ideal The ultimate nook couples, everything here--just two you. The thing keeping perfect score 5 stars would d-day counter to-do wish list sort incorporated, least little bit better. The timeline w/ option commenting/diary function moments room improvement. Other that, ThumbKiss function sole unique, cherry top',\n",
              "       \"seems give imaginary score based scoring system actual system counts. I went bank get lone confidence credit good told score much lower app. credit lower credit check bank I'm screwed. dont trust accuracy score\",\n",
              "       \"Crew invaluable organizing 20 employees. It allows keep everyone up-to-date constantly changing schedule allows less workload enabling pick shifts request coverage shifts. It certainly best tools 4 Staffing I've used. Thank much crew To respond complaints reviews. Most employees love cannot see personal numbers crew app. If I need call video conference anybody directly I normal Cell Phone features. It never crashed Frozen ability upload high-quality PDF schedules directly emails wonderful\",\n",
              "       'Best cricket fans. The UI simple yet amazing, faster cricinfo slow connection. To developers : guys nailed it. Carry good work. One problem I faced news articles sometimes load, I get title material it. But 1 50 times.',\n",
              "       \"Important message doctor voicemail I can't access you, Cricket. This could potentially voicemail telling I cancer. Because callback number I speak operator five offices I go know doctor called force closes everytime I voicemail may never heard. I may never upset life I right now!!\",\n",
              "       'Hi there, game great, even better cool characters like disco zoo, flying disco ball, dancing animals weird music funny, I idea could help game, favorite list works u add chatacter favorite u chatacters fa... Full Review',\n",
              "       \"Great app. Works like charm me. Main complaint people seem can't get content ad free. Well pay rather cheap subscription fee problem. No ads. That's side watching anime legally. It printed much that's costs In time via ads cold hard cash. I truly enjoy anime I'll pay small fee support it.\",\n",
              "       \"Seriously though I yet hear I'm get different provider answer question fix sign problem. Even offered send id\",\n",
              "       'This awesome. I managed create attractive resume myself. Some work needs put templates though. Especially hexagon template. Its also unconvincing omits information entered using templates. But overall, nice application.',\n",
              "       'One of the best applications to learn English easy use without complications very efficient very clear pronunciation like I recommend studying is a lot of help for personal use.',\n",
              "       'I hate games penalize playing them, every 3 runs get 30 second ad, typically longer runs combined. Then, character runs energy, penalized 5 minutes wait energy return pay more. Puzzle games like thes... Full Review',\n",
              "       \"TOO MANY ADDDDDS!!!! Its really ridiculous I daughter wait 30-45 sec see damn ad watched three play ago. I'm deleting app. Thanks, I better things do.\",\n",
              "       \"Will DC ever subscription service??? Comixology mediocre I've Marvel unltd years. Figured id finally catching DC too... Only find offer subscription service.\",\n",
              "       \"I'm young teen I love game u put things avatar please stuff thanks anyways\",\n",
              "       'This best zombie game I played.. Excellent controls, stunning guns,crazy zombies amazing effects much really great time killer giving star deserves it... VNG game studious.. You guys got right.. You probably give ... Full Review',\n",
              "       \"Everything looks delicious, it's just recipes that can be easily done. Just watching it is fun.\",\n",
              "       'I love game, ads complicated, great people like me. The thing I would differently allowing players hunt areas, without special weapon need ton coins for. Still love game area so... Full Review',\n",
              "       \"Not greatest garden design there, offers interesting ideas, includes sketchy how-to's. I wont make 'keeper', better getting general ideas.\",\n",
              "       \"I really like test bf mom said would teach drive maybe get old car. But I least learn test. Sadly I'm 26 never knew learned drive car. Kinda scary I need learn I take daughter go family events without people pick up. Thank much :) : must anyone learning drive.\",\n",
              "       'The ultimate Dragon Ball mobile game every fan waiting for! With real time action, reaction based controls easy learn hard master, best action mobile games massive franchise. Also last least, real time PvP real players around world!! Extremely fun bright future ahead. With many characters throughout series, game lucky replace competitors definitive Dragon Ball mobile game!',\n",
              "       'This much better normal camera I hate .. body please. ... time waste',\n",
              "       'I think usability considered new Android TV designed. The grid view update good get channels. It mission get channel want horizontal list view. When comes Android TV app, considered users using remote touch screen :-(',\n",
              "       \"This worked great while, since latest update I longer view news articles, app's search engine working. You put want search comes back blank page. If could get issues fixed I would give five stars. There lot great features, news search engine 2 main things I used.\",\n",
              "       'This good editing sadly look back recording vid blocky lagy slow too! For recording suggest fixing soon. But AZ screen recorder',\n",
              "       \"There option cancel orders time frame. Can't calling call centre answering, I order meal 2 hours later I still received. 45mins max time. That option integrated app. The moment store accept order, countdown begins.\",\n",
              "       \"Update 2: July update, better cannot enter dentist information, can't make appointment, can't email delta, etc. The before. There checking working pushed through. The constantly freezes basic home screen dental card. It's worthless anything beyond that. Email contact delta dental also inaccurate, comes back un deliverable. Wow really suck this.\",\n",
              "       \"Application is nice but problem starts when you buy a ticket .. Buy a ticket 3 weeks ago tells you that in 24 hours you get the ticket confirmed. But mine already spent 3 weeks but nothing came. Call the bank says the ticket is already paid. Call more than 10 times to customer service but once again the same story that I'm working is working 3 weeks ago to solve the problem of a 200 dollar ticket. Fill out a claim form but until now nothing. I do not recommend to buy passage in this way.\",\n",
              "       'Hits good',\n",
              "       \"New update ok can't checking ram CPU's work condition\",\n",
              "       'Calories reported way base - I would like refund. Up date. After 3 days finding problems app. I asked refund - Google developer. Both refuse. This type short term refunds policy recognised internet trading practice. Pretty disgusting behaviour - I buying store again.',\n",
              "       'Everything important stored place. I really appreciate detail everything handy, easy use. Thank you! Diabetes lot easier now. Update I longer diabetic thanks A1C exactly doctor has.',\n",
              "       'It sucks! It would save even go home screen original screen goes I hate uninstalled',\n",
              "       \"I really enjoy using lets live freely. So far, I issues. I also love I personalise add code lock it. You also change colour icon ever like! Its amazing! It help stress going hard times. I can't English. I live England!\",\n",
              "       'The fingerprint login works unreliable Pixel phone.',\n",
              "       'Unmatched Digg provides users amazing interface get consistently date, high quality realavent articles. Their advertisements non intrusive often not, interesting I find clicking see offering. Thanks fixing share button issue!',\n",
              "       'Like lot far. Had calendar start keeping track events lately done job well. I really like calendar store options too. Having view holidays TV shows calendar awesome. Pretty disappointed I find Outlander Starz channel though. Can added?',\n",
              "       'UPDATED: I say process waiting bank get connected well platform, I\\'ll first say support thing exemplary makes want long term customer. It\\'s exciting revs see money taken hopes \"secretly\" creating savings. Really great stuff. PREVIOUS: I truly love premise behind product. But capitol account syncing. Customer great updating me. Hope gets fixed super happy future customer. I\\'ll update rating fixed',\n",
              "       'Now jankily redesigned new version rolled back, returned old lovable self, settings allow change color display dim almost nothing (long press day/night mode button). Cockerel (alarm sound) tone favorite. A ... Full Review',\n",
              "       'As glitchy Indian government',\n",
              "       'I bought pack I never received I receipt also prove please sort',\n",
              "       \"I think perfect whole family! The littler kids watch shows... older kids watch too! The adds 30 seconds long! It's amazing! There's games, movies, favorite Disney shows app! It's incredible!!! I stopped watching TV cuz cousin would sit day watching SpongeBob...I wanted watch something too! I got works like charm! DOWNLOAD IT, ITS AWESOME!!!\",\n",
              "       \"It's great procrastinator like me. Here's suggestions guys consider. 1. The notification sound set sound phone alarm. 2. The colour task changed variety colours. So differentiate tasks important less important. 3. The completed tasks set deleted automatically. 4. When share app-related things directly showed edit reminder page. Many functions guys add make reliable. Thanks consideration.\",\n",
              "       'A file I\\'m trying open giving message: \"An internal error occurred! (7)\" This file opening perfectly Mobisystems OfficeSuite I also tried saving successfully.',\n",
              "       'I love app! I know people saying boring wallpaper.... Of course gets boring.... But dogs would cool. Also make smoother transition live wallpaper ends? It looks even fake transition whatsoever. (: Nice tho',\n",
              "       'This game amazing. But u little kid playing it, may little disturbing. The panther REALLY scary mean, come on, kills cute d8gs gun??!! No would. Pls fix this, thsn amazing game ive ever had!! I like much!! Thumbs up! ♡♡★♥♥★★☆☆',\n",
              "       'I dont like updated version much ads, takes lot game sigh... please us back previous version... enjoyed playing',\n",
              "       'I would like more filters to search. For example - with furniture, you can with children, etc.',\n",
              "       'One best mobile games time. As INSANELY addictive ever! I personally loved game much I play forever',\n",
              "       'It good',\n",
              "       \"Update: Nothing frustrating authentication issues. forgets login, reset process let's set new password, password work. Can't login Google I used Gmail account manually sign up, Doordash can't manage simple task linking authentication methods. Grubhub struggle basic issues. Simple, needs filter sort options. I able sort estimated delivery. If I'm looking something quick, make hunt it.\",\n",
              "       \"I juggle lot meds. I forgetting take some, forgot I take it, combination possible. This app, 1 kind. Very smart, detailed settings figured little & general common sense. Amazing really. I like let's set time I actually took meds & let's sleep 6 hr comes wee hours morning. Outstanding app! TYVM!\",\n",
              "       \"One best I could find yoga home. I yoga expert I can't comment content I seems good. The well done, professional. I Love fact choose length different speeds. Although need subscribe enable features. The thing I would preferred time payment lifetime. Two thumbs up, I recommend app.\",\n",
              "       'Sadly ingredient lists missing recipes. Also I want cook chutneys jams I would like see indication shelf life. I agree make worldwide available, English version translation would appreciated.',\n",
              "       \"Gets boring really fast, 2 types food make, much purchases. I mean, kids want make things ya know??? Like, stop asking money all. It's annoying.\",\n",
              "       \"Why make everything cost money people money buy everything get bored time it's. bordering make two free please\",\n",
              "       'This great fun betting site/app favorite sports. This legit win. My brother 10k NBA deducted 3k check tax purposes Overall, fun expected deductions hit big',\n",
              "       '99c per character.. What rip',\n",
              "       \"I've looked dress's I've got issue viewing collection !!!!!! You see dress . And that's . I want see top dress bottom item !!!! And I'd like see looks model completely head toe !\",\n",
              "       \"Great phone, tablet This nice quickly sharing pictures short videos mine wife's phones. However, work brand new Samsung Galaxy A tablet. I'm trying zap phone pictures tablet, tablet always reports I've entered wrong PIN, even though I entered exactly. And makes sense worked 4 days ago, suddenly stopped worked since.\",\n",
              "       'I know many people giving bad reviews. Saying fake real app. It either things. Its called Droid Admin ADVICE. And thats exactly does. Gives advice.',\n",
              "       \"Could what's new box actually tell us what's new??!!\",\n",
              "       \"This let's create profiles several people. In profile enter pharmaceutical counter medications dosage allergies. It let know interactions, warnings, side effects. Most importantly, print list wallet, post refrigerator first responders take doctors office hospital you. It literally save life.\",\n",
              "       \"This well thought game I love positive comments I finally figure way I need go first next shot easier get. Some shots really difficult, get right basket first. Anyway, I love challenge. Y'all got vote. BEST... Full Review\",\n",
              "       'I thought exiting game, reason many hard obstacle courses made challenging fun! It beautiful game name game \"Dumb Ways To Die\". But I still enjoy game, therefore I gave 5 stars.',\n",
              "       'Full rigged. Pve, pvp, arena, drops, bosses, rigged. All make stupid people buy. Could great game turned crud. No real support proof message go unanswered like support tickets sent. Time add unfair pvp list YouTube..',\n",
              "       \"I'd give 5☆ many updates included customization many flavor shots I want coffee!!! Cream, liquid sugar & ice customization added, I totally customize coffee I On The Go ordering. When I'm running late 99.9% time I go without coffee I order major competitor bcuz I time go store. I love I able go inside bcuz perks worth it! But On The Go work yet. ☹\",\n",
              "       \"awesome... sure couple ads I mind that, actually pretty thankful help developers way seeing ads. so, here's thing. finland, school study swedish suck it... alot. first saw duolingo like meh saw people online suggestions duolingo gave shot. much better duolingo going get better grades year probably too!\",\n",
              "       'Good monitoring device performance, bug still present. When turned background access, works fine, update Google Play, automatically turned. Other I enable duraspeed, 10% slow phone performance. My handset Karbonn Titanium Frames S7.',\n",
              "       \"It's easier log onto website. asks permission save login info keep it, passwords must used every time even though fingerprint activated. When password input incorrectly, fields wiped. All really needs updated, TD ameritrade Robinhood work great user friendly.\",\n",
              "       'Very good amazing try', \"It's app, I it!\",\n",
              "       \"This worst I seen. Its misleading, lot ads, top I work. Looks ugly too. Don't waste time.\",\n",
              "       \"It's bunch photos... It may good someone needs ideas... But definitely not someone wants learn it. I would suggest adding instructions go images.\",\n",
              "       'Pathetic app. No instructions.. proper steps ..kids make things looking',\n",
              "       \"Very American. Don't recognise cant source ingredients.\",\n",
              "       'So far ok,having trouble getting phone type name recording...could phone ,cause old...',\n",
              "       \"Would given 5* updated MLA 8 format, SUPER helpful! Thanks making student's life little easier!\",\n",
              "       'Bug: Stuck entering initial data I reach \"Ready! Choose diet\" screen empty, except showing daily caloric needs.',\n",
              "       \"Overall saved many occasions I've company come visit unexpectedly. long time hot time order described. However, time time restaurant delivery tendency conflict. Adding live chat helped alleviate conflicts. The reason I give five star; restaurant menu information often outdated.\",\n",
              "       \"While good order food from.. TIPS DO NOT GO TO STORE! I told Larry's Sub Shop workers receive tips app. So want tip restaurant please tip person cash. It really ticks taking tips themselves.\",\n",
              "       \"I think could revamped. There's way add receipts purchase forget stuck. Sometimes wants shop online already store gets confusing. The BEST feature linking cards stores. That helps forget go them. It get cash back even tiny bit adds up.\",\n",
              "       'It good except want navigate chapters, every chapter visit becomes like bookmark cannot deleted (when u back button, ask page u want go) really annoying. I afraid go back forth close without savings reading place bug.',\n",
              "       \"What's going oh... I can't even check account balance someone sends money I can't know I received not... Ecobank nawa oh, people better make improvements end loosing costumers... Can imagine I'm reinstalling see I can't get access account balance\",\n",
              "       'Putting password disaster half. I cant change avatar sometimes functioning well',\n",
              "       'Too many advertisements little ones get stuck might delete reason without would gotten 5 across board',\n",
              "       'It keeps closing when a time passes, you look at the rain for hours in a city. No update has solved this yet.',\n",
              "       'My system setup,other close history deactive.Background process close deactive.Thankfully English-Myanmar Dictionary.',\n",
              "       'I can not access the benefits. It asks me to update the application, but on Google Play there is an update available.',\n",
              "       \"A nice, clean overall experience app. There two things would make excellent. First, allow search across multiple locations. It takes long time search locations I could pick order find best deal, right vehicle. Second, alternatively, allow keep dates times selected I switch search locations. It's annoying makes choose again.\",\n",
              "       \"I love game!!, I like many gems need right choices. I think choices need like 10 gems 25 20 gems, Other game awsome!! It good graphics too. I find fun game! I've notice since I've playing episode'... Full Review\",\n",
              "       'Really disappointed time I open app, immediately freezes closes. It good started crashing 1 second opening it, every single time. I never get anymore. What waste.',\n",
              "       \"This game amazing I loved playing buuuuuut....... Well, thing is, I finished game. It's way short! I got addicted csus4 much fun I finished playing less 3 days! 3 days! Can please make longer make equestrian girls 2 cause I much f3un playing I wanna play like maybe add, I know going camping everfree Chase would awesome went camping last chapter.\",\n",
              "       'Love work do. Tried all. Best anatomy android. Navigation killer feature. Can make function landscape mode fill 4k tv screen. Please bring android. I switch platforms (Complete anatomy, essential Anthony 5). Android largest user base operating systems. Your fairly priced. I believe missing opportunity others step fill gap. I using asus zenpad 3s 10. Complete anatomy best thing I ever seen I 20 years. Thanks',\n",
              "       \"Not single feature request I've made essential implemented. They need start separate version stable Android 7 releases secure settings integration along something like locale something similar (Tasker/etc). And work live FM stereo. The hardware Quality fantastic lack options makes want claw much money back Andy Rubin company possible well make future investments.\",\n",
              "       'Please please shopping ETSY check reviews \" sitejabber \" They send exact item I never buy Etsy And really important thing , let upload pictures less five stars reviews. I RETURNED THE ITEM BUT THEY DON\\'T RETURN MY MONEY AND THEY DON\\'T ANSWER MY MASSAGES I LOST $90',\n",
              "       \"It works sharing. It good with communicating realtor. However, can't remove homes saved list.\",\n",
              "       'How earth possible make difficult unstable ?can I suggest black text black background developers obviously trying put business !!! On STEAL money every year - I DO NOT WANT TO RENEW !!!!!!!!!!!!!!',\n",
              "       \"It's pretty good tracking even give much details. However get best experience keep date. An option menses issues would nice. Like fibroids cyst etc. But even yet gives advice based log. Great tracking overall health.\",\n",
              "       \"I really like launcher, stable enough GS7. The gestures get mixed reloading whenever I get back homescreen. I'd love try again, maybe customization added draw (maybe folders/ability choose alphabetical order custom).\",\n",
              "       \"This first time rate app. I really rate want rate actually. thing makes speak. i've using since 3years ago. Nice app. keep good work. 3stars. impossible rate 5star beacause im highly demanded person. definitely something missing. find ^_^\",\n",
              "       'The show saved list hotels could also indicate price changes daily basis.',\n",
              "       \"Its ive using years. Well put awesome! But Don't provide support anymore ? We need way 'bulk input' data PC option present here. CSV comma separated. But CSV recognise somewhat different. I requested you, years back. And introduce option transition effects. It takes time. Im inpatient man .. lol. Please incorporate app.\",\n",
              "       'Experian utmost suck life more. Not servers unwilling accept e documents unfreezing credit despite pdf format, stupid properly sign up. 0/10 wish HQ firebombed.',\n",
              "       'It\\'s really great game! I like car games, I Love one! My younger brother downloaded game weeks ago said \"Hey, look many cars I have!\" And I said \"Wow! Good job!!\" And asked I wanted try drive jeep (And I drive it) 2 seconds later I downloading it. So, I guess I\\'m trying say DOWNLAOD IT!!!',\n",
              "       'Sometimes game responds faster others. I also problem ads. The ad play goes black screen I close game start again. Frustrating!',\n",
              "       'Graphics ok. There manual acceleration. These good. Anyways, though series copy Touch Racing 2, good. I given 4star copy version. You story.',\n",
              "       'I love app. It solve several issues once! Simple fun.',\n",
              "       'Love app. Have sold photos. But would great directed where/ sold photos used for. Just matter interest. EE supplied info future? A user found sale tineye. User support would appreciated photographers DO sell',\n",
              "       'Please add Time Calculation app, I enter time HH:MM:SS format perform addition & substraction.',\n",
              "       'Most useful 5,4 mb ever. I used reading epub books 2 years now, tryed lot aps always return one. It miss pdf book compatibility :(',\n",
              "       \"I think needs improvement. I like concept I seen another dating features allowing discussion broadly person person. I think good way build community. There lot bugs mobile version mobile. Half time I can't get local news feed connection error. I continue hope improvement.\",\n",
              "       'Why guys published Fifa Points table Timely?',\n",
              "       \"I usually spend month gacha games. They suck in, I put way much time them, I suddenly realize I'm getting nothing return. Exvius exception - I've playing year now. The story captivating, summoning mechanic difficult, there's generally good variety events. It's even confined play ffvi! I recommend final fantasy games anyone looking gacha depth usual\",\n",
              "       'activity counter work',\n",
              "       'Since last update keeps freezing, working closing. Please fix it. I love rating change I see problem solved',\n",
              "       \"Can't get past home screen. Would nice option pay monthly cable/satellite provider. 7/31/18 I want give money monthly subscription access, take it. I home cable. So, TAKE MY FRIGGIN MONEY!!!!!!\",\n",
              "       \"As close real time get! Every sport slot... big 4. Only reason I go 5* bc I can't wait see FF season.\",\n",
              "       \"When comes healthy habits, well habits, I'm worse person world. I go stages I excited something I time, intense, 200%. And week later I forget it. This helped sort ithis issue out. What's best came effortlessly, takes minutes day, little motivation reminders build healthy habits life. Thanks!\",\n",
              "       'If I open link different browser, refreshes feed I scroll back find I previously at. Now \"updated\" notifications completely screwed order notifications new notifications show chronological order. Makes ZERO sense I hunt old notifications find new ones. No likes algorithms, make user friendly. After 3 years using app, I\\'m ready stop using again.',\n",
              "       'Would nice Instagram ads fully functional here, split it. Something needs done Instagram ads still.',\n",
              "       \"The worst ever! You can't choose proper date look events. Whenever pick going show events day instead desired one. Also, want check what's going another city plan traveling way apo show events home cuty matter city chose. I think developers creared eyes closed failed test it. The useless frustrating I had...\",\n",
              "       'Are massive updates least week really necessary? And never seems change log explaining purpose update is. Works point time slow show new messages comments often needs several manual refreshes see new message is.',\n",
              "       \"I love game think fun. I enjoy able see different characters trying make happy make vault best be. The issue I buy Mr Gutsys I could stop playing game can't auto collect without means can't play day two vault dies. But amazing game really good idea moble.\",\n",
              "       'This great way sons grandparents family stay date him. We live states away, want miss every day cuteness.',\n",
              "       'This horrible. Sure, clip coupons. The moment get register, using phone number clerk scan code, none coupons apply. Dont bother wasting time, forget contaction cooporate, thwy wont help you. SAVE YOUR TIME AND MONEY, GO TO DOLLAR GENERAL INSTEAD. AT LEAST THEY HAVE A WRKING COUPON APP.',\n",
              "       'Excellent tracking',\n",
              "       'Have using week far fast, accurate easy use. Question: I notice \"request SMS\" locator flag child. What mean I get rid I want it? New question: street view suddenly changed plain map view. Don\\'t recall hitting buttons. How restore old street view?',\n",
              "       \"It's ok point real information get pay it. Some us victims kidnapping, abuse, ECT looking real family pay non government business right know came from., Especially can't afford outrageous prices\",\n",
              "       'Customer case trash. Good help needed.',\n",
              "       'I like convenience. A search movie, second series, brought first one. I go many keystrokes screen get I wanted. Then, kept defaulting former area I lived, even though I told search near location.',\n",
              "       \"Who gave ok final layout year? Fire them. This clunkiest fantasy I ever used. Updated 2018... It's worse last year! How happen? I single thing except look first page everything. Can't sort anything even anything matter. I used love nfl fantasy system. I guess I'll find different now. I'm done trying garbage. My buddies refusing join league I NFL again. I continued using I literally could anymore.\",\n",
              "       'This launch Oppo F7. Always crash. One star atm [EDIT] Crash fixed. Great thank',\n",
              "       'I like it. Addicting great time passer, way TOO many ads. There three ads I even pressed play three I could start level',\n",
              "       \"Great game!!!!! When I got game great, recently. It content update bug fix update seems I'm issue. The issue I antivirus saying game threat device. I would hate uninstall game since I rarely pay store I this. Please fix annoying frustrating\",\n",
              "       'Crashes... ...whenever I try connect Twitter account. I would like share favorites, I need connect social network. I Facebook. It would better I could connect Google account.',\n",
              "       \"Thanks work effort I want read article pictures video's never seem appear. Not every time I onto related topics want see news specific topic contents never seem appear page loads I blank page nothing. Please could fix problem persistently occurring. I fast news user getting quite annoyed issue. Once thank hard work effort please try solve problem.\",\n",
              "       \"Simple use, ridiculous ads way... When need quick PDF u take picture... oh AND free... Don't get better. Highly recommend\",\n",
              "       'Netflix work tends patchy connection often not. I used years seems quality decreasing time. I originally really liked it, would share others, I doubts. I really hope gets updated, gets fixe... Full Review',\n",
              "       'This totally waste. Whenever restart phone reinstall lose data whenever remove playstore recent reinstall takes half hour install fast wifi mobile data',\n",
              "       'I weight loss self conscious two children back back. After I put height weight told body type ,meaning I, \"very fat\". What way boost morale. It could little sensitive maybe \"needs work\" \"work harder\" would pleasing eyes \"very fat\". Needless say I think I\\'ll try another app.',\n",
              "       \"Reviews hard get 5 star seems true I got 5 star essence two 5 star servants first 20 summos. I know, I'm lucky I guess. Anyways great game problem loading times, would anyway fix problem would pretty much appreciated.\",\n",
              "       \"Uninstalling Wouldn't recognize USB external drive. Also, ads bottom page distracting sickening. Wouldn't endure I paid to. Too irritating put with.\",\n",
              "       'For someone like me, simple. For advanced Android users, skip one. UPDATE Developer reply: The allow file access files. Just basic Documents, Downloads, Medias, etc. Since \"Go\" app, I know supported ot not. I really like using file explorer allows completely see internal storage allows take full advantage Android. With Files app, suitable me. Google, thank taking consideration. Much love.',\n",
              "       'I love thing want fliter part cant choose tho already existing photos. It makes take pic right there. Most let u fliter already taken photos.. So u cpuld fix wouls perfect. Bc like sit n go tho old pic iv taken tho day n fix um',\n",
              "       'This trash. Who five stars? Are bots?',\n",
              "       'How play game better explained. I able leave guild without loosing items I found given game. For example players guild wont help whn im requesting help I ddnt understand hero got captured I know rescue him. I feel game understandable Should hv access leave guild, join another guild I like without loosing chest treasures. Other tht I like game.',\n",
              "       'Love stories. But, chews resources. Causes device run slower',\n",
              "       \"Thanks developer's, I love app. At first I like showed two places eat Sacramento area. But help developer's I found I change radis got plethora places choice from. They helpful quick responsed.\",\n",
              "       'This used great first came out, longer worth time effort crappy pay outs. They started giving 5 10 bucks cash back 5 10% purchase cash back, good variety deals. I used frequently made 50 bucks. However, require watch 30 second video ad find deal & even worth get 1% cash back spend minimum 25 50 bucks! The worst part take $3 back savings every month remained \"active\" watching advertisement. This means lose little earned quickly check app. I pleased least write back send request, need make changes payment rules give good review.',\n",
              "       'I used long time last week cannot see anything. It displayed google play services updating. I uninstalled reinstall several times still same. Pls fix let know. Tq',\n",
              "       'A made company actually cares. Mozilla favorite companies actually care (unlike companies want money). This fast works I want to. It things I love makes browsing breeze. I LOVE FireFox! FireFox Android capable Chrome Android Samsung Internet. It even allows play certain games websites, Samsung Internet cannot do.',\n",
              "       'Very Very Worst Update...',\n",
              "       'I think good game. Very addictive. I like idea pay things enhance game, stuck board days end. One example would buying piggy bank, order collect gems already won. How happy hour, like games. Give us free item, like bombs, start every game. Overall, decent game. Just I would stick long-term...',\n",
              "       'The turns flashlight you. It does not enhance all. Total waste time',\n",
              "       \"The times I've needed works fine. Very bright light. I'm pleased it.\",\n",
              "       'improved lot time, example edit replies comments AND EVEN EDIT PHOTOS posting them! every day works great. Only thing missing messaging (flickrmail)',\n",
              "       'I really pleased Service ixigo team provides. I specially like I whole cashback money next flight booking. Moreove, I recently faced flight cancellation issue. Ixigo Team refunded full amount kind gesture even 1 month travel. Considering situation flight got cancelled Air India abruptly. There pre post support awesome.',\n",
              "       \"I'm Gold User complain ads, cost subscription works 10p (UK Currency) day. So quite frequently IMHO excellent value. I love I find easy use, exactly I want do. I can't think anything else comes close. For future, I would like see updated icons depicting aircraft info (if possible ) military business aircraft. Good work guys.\",\n",
              "       'Excellent beyond others',\n",
              "       \"It's fun, casual, simple, easy, addicting game. However, weekly subscription ridiculous ($7.50/week), even pay much XBL PSN. And $25 gold gun, seriously? I get way support game's creators since free, excessive. 4/5 stars.\",\n",
              "       'Really like app. It makes shopping groceries super easy. I prepared list things I often purchase I need I flipp shows stores special week. I love using it!',\n",
              "       'Its good',\n",
              "       \"I like features. It addictive! But, here's suggestions. I sure already asked already version. 1.) In 3D mode, joystick preview easily.. 2.) Can grass concrete something? So can't get confused ground.. I hope add next version.. Thanks.\",\n",
              "       \"I think daily new puzzles, like size changes daily. It also would nice pack went 200 instead 150, well opportunities get hints without paying them, like finishing phase pack give us free hint, also make already done oak can't go back redo get free hint save later road.. I truly believe would make addictive give people incentive keep playing higher levels.\",\n",
              "       'Rubbish. Wallpapers tacky adverts ruin everything.',\n",
              "       \"I really extremely useful full features improtant info planning traveling. My wish ability save multiple skymiles accts' info would restored. It cumbersome always key info switch acct, wife's kids'. Can put list restore? Please?\",\n",
              "       \"I worked doctor 30 years. If then! It best patient portal I ever seen. It helps doctor's office keeps up-to-date times. The 2 complaints I are, 1. You can't delete anything action center way date. And, 2. You can't print day's lab work. It wants print e everything that's there. It would nice print latest take another doctor.\",\n",
              "       \"There ton ads. I understand needs sort ad since free I swear there's every time press anything always one. Its bit much. Although work really well I need for. The text pixelate youre done I issues before. So since I've found works free I'll deal abundance single ad\",\n",
              "       'wants permission manage phone calls. For reason? If I deny run. TERRIBLE',\n",
              "       'This favorite apps. Period. Everything works perfectly. There virtually buffer time, even poor signal strength areas. The great parts ability watch live TV anytime keeps track resume right last watching. Even middle show. There also ROKU Version watch TV. Eliminated cable three apps. All TV based work like does. Take CBS!',\n",
              "       \"It's pretty good reviewing food see bad explanations ingredient label see themselves. There things makes perfect. Well full info foods like krystals ingredients. Another would food list confusing multiple listing food different picture also clogs list making longer. Last would ratings changes reason. Example food A 3 things red 5 cautious ingredients gets B rating. Food B nothing really bad red alerts probably 1 grey gets C rating. So means best go ratings actual look explanations ingredients even D. Haven't really much features I can't say much now.\",\n",
              "       'Awesome. Scores updated immediately. Hope fixed.',\n",
              "       \"The working absolutely fine old xiaomi phone. But I'm able receive notification since I installed OnePlus 6. Have tried uninstalling amd re-installing too, work.\",\n",
              "       'This accurate weather area, widget ... cannot info upgrading work Android 7.0. So I keep Accuweather widget (it gives quite accurate present weather info) Foreca accurate future info. Or maybe I uninstall create shortcut page desktop, maybe would better. After uninstalling adding shortcut page, funny, problem server Foreca. The server slow, slower slowerthan server. I remove shortcut well. Bye, bye Foreca.',\n",
              "       'Hi love app. I wish guys could create version recording expense income functions. Super simple intuitive!! The city game part causes tot make long load. At least I really digged fact I building city recording expenses. But no... Full Review',\n",
              "       \"Its perfect intrusive adds! People give 4 stars say best 4in row.. well giving 5 stars then? Me wife play we're returants, glow hockey awesome, pay restaurant fee playing games table tablet!\",\n",
              "       'Interesting best challenging games! Most importantly AI Levels chosen player wants(According his/her ability)',\n",
              "       \"The load pull suggestions places I've searched. This used great I first downloaded year ago older device. Now unfortunately sucks pls fixs.\",\n",
              "       'Checking widget looks successfully check in...have cancel shows. Also, cool remove private picture toggle upload... everything public default. Sneaky update.',\n",
              "       \"Good quality coverage events world, stock markets, everything expect. My biggest gripe reason I 3 stars instead 5 I downloaded able SHARE news I'm reading, social media I seem able share gmail, I all, Facebook. Why can't I tweet links Articles I've read? Why can't I share Google Plus? Why least good Fox News app? That one, I share articles platforms I social media itself. On Fox Business one, I can't.\",\n",
              "       \"Cannot watch live stream anymore UPDATE: Contacted cable provider(CHARTER), several days normal restored. Don't know FOX NEWS blocked purpose not, back. This good allowed run.\",\n",
              "       \"Have register try register won't anything freezes register screen tells email already used absurd. Terrible orbot instead free, registration, ads. Actually works.\",\n",
              "       \"Why one's responding? I'm 38 years old! Is real website? Or hacker malware type b.s. prohibited like everything I online, saying I'm underage incompetent! The person years. No could imagine psychological torment put years!\",\n",
              "       'Social chat dating many members start chatting right now! Chat dating online dating keeps things casual NSA. You meet local singles instantly many online members. There quite different chat rooms choose great feature online dating app. I enjoyed going different categories chat rooms. Chat live girls definitely good times. You search nearby users smart phone makes easy meet find dates.',\n",
              "       \"Per mortgage lender advertising app--it's scam!! The house I interested NOT foreclosure even market! DO NOT USE!!! It's FRAUD!!\",\n",
              "       \"I think terrific. I've recommended friends thinking cutting cord cut cord miss news programs can't get locally. Here Las Vegas Get 60 plus channels proper antenna. But adds watch especially used getting many channels. I love it!!!\",\n",
              "       'Nice app, appreciate',\n",
              "       \"I like get pick phone number major carriers allow. Works pretty well. Wish would get rid credits half scams. But half work. Once person gets hang works fairly nice app. Just wish credits we're easier obtain.\",\n",
              "       'I never write reviews, deserves good review! It helped tremendously! I dont drive usually tough get place print pictures thanks app, I dont leave house. AND, prices fantastic! You NOT find cheaper place print pics. I LOVE app.',\n",
              "       \"You register purchase this! This way free app. You can't even try without registration signing free trial. Uninstalled!\",\n",
              "       'I would given 5star,but cannot apply themes, why?',\n",
              "       \"I used long time finally uninstalled tired asking change password every often cant 13 used passworrds. One password enough. I dont understand secured. I check computer on. Update... I heard updated I thought I would give another try. It let log I tried reset keeps asking I'm robot keeps looping\",\n",
              "       'I would really like see PDF support receipts creating expense. I store receipts PDFs essentially makes large part useless (and many others well).',\n",
              "       'Many action it, automatic captured time.',\n",
              "       'Great game however- game updates I uninstall reinstall goes way back begining cuts progress. I come way lose progress, I sign facebook account I go back level.. please fix I love game spend alot money..',\n",
              "       'The problem with the problem is that when you start the game from 1st level to 1st level in the first level, then 250 levels are started from the start of the game.',\n",
              "       'This great game I arrived Fruits Castle, level 19. At top screen, screen displays 25 bread slices collected item. I remove item game board fine. However, I never remove bread, screen always shows I 3 bread slices find, even though bread slices left screen. I actually counted bread slices board I began game. There 22 bread slices instead 25, hence possible error programming? Could someone fix problem? This great game, would shame delete game due glitch.',\n",
              "       'Costs impact Average cost per kilometer Average cost per day. It should. Expense fuel. Average cost per kilometer Statistics Cost stats equal. They be.',\n",
              "       'I like much using years phone phone (full pro version).. But currently upgrading galaxy s7 edge 8 Oreo, start crashing stop working. Looks like needs major compatibility upgrade.',\n",
              "       'Absolutely nothing advertisements.. Pathetic.',\n",
              "       'Why like exist playstore?! Does Google even review apps? F$#\"king Ads everywhere shi&#ty game!',\n",
              "       \"Their lovely beautiful sound,I love rooster I living country I Clock's Roosters alway waked every morning. Really Really missed sounds appreciate share. !\",\n",
              "       \"I've 5 years now, I've paid twice, first things I I get new phone. It shows funny pictures memes simple easy understand format. If community big deal interactive full unique inside jokes. Get it.\",\n",
              "       'Very helpful as. It would great able flip back card I double check I understood question. So far great help. Thank',\n",
              "       'Very nice useful designed really well... But I facing problem selecting answers... I currently using Xperia Ion... It seems like correctly fitting screen. I select answer. I tried tapping multiple times option getting selected... Request help issue...',\n",
              "       'Efficient attractive UI, excellent mail - user-friendly reliable.',\n",
              "       \"WHY THE HELL DOESN'T IT SAVE MY EMOJI'S ANYMORE!!!!!! It'll save like long later deletes leaves emojis last pannel. It seriously pisses off.\",\n",
              "       'It seem work well phone. It disturbs function phone whenever I switch on. But overall nice keyboard app. (Phone: HTC Desire)',\n",
              "       \"Still work (Note 4) For whatever reason counter never resets even I checked message. This problem that's around long many users. I've unistalled reinstalled still issue still there. Please fix issue 5 me. Also add Type Mail notification list?\",\n",
              "       \"I'm currently Oreo Note 8, noticed Dual SIM support option longer available settings menu. :( I purchased Super VIP Pass seamless year now. :....( Been GoSMS Pro ever since I remember Android, I'd still like keep using app. Hoping Your Team working fix release update very, soon.\",\n",
              "       \"Didn't work. And Dev seem think I'm idiot turn GPS. Strangely enough next I tried worked fine.\",\n",
              "       \"I've long time casually paid attention it. Lately I've heavily using find underrated I have. Accurate Snapdragon 810. Many useful features. If I paid this, money well spent. If Thank Mr Developer kudos\",\n",
              "       'Compared navigation apps, ads intrusive. There needs way payment remove ads.',\n",
              "       \"The addiction. Once get it... You'd want finish soon.. I always keep thinking solving learning new words every then. Great app. To use. Highly recommend; matter preparing exam not. Just ur mobile enjoy.\",\n",
              "       'Magoosh offers high quality video lessons GRE-like practise questions run 1000s. The video lessons lucid provides many tricks tips help test takers save time immensely test. Your queries doubts regarding study plan, practice questions etc addressed within 12 hours. Worth every penny!!',\n",
              "       'Got perfect score verbal This great rapidly picking vocab, definitely questions I got GRE I could answer better reviewed vocab app. It learns words difficulty keeps drilling get it. Awesome app.',\n",
              "       'I liked game addictive awesome But, Theres something wrong Im playing game. When I play special mission With gold reward I Completed mission sometimes give gold reward. Please! Joycity Fix This!!!......',\n",
              "       'Wish free version clear It\\'s great wallpaper, quickly skimming though, evident photos shown *not* included. There could least text overlay say \"full version\" something. I bummed get choice zero customization options - would tell I\\'d like full version? Aside that, single wallpaper get pretty.',\n",
              "       \"Love offline part game. However, reason I rated 2 game definitely pay win game. I can't play multiplayer someone either better version ship uneven match chance winning someone purchase ship crystals obtain legendary ship. It needs balance kind ships opponent. It good skills within level ships.\",\n",
              "       \"It's...a coloring book ap. And I like adult coloring books. It's easy (I try moving around end coloring something I want color), least fixing mistakes easy enough. I love color options. However, despite that, I can't complain. My biggest compla... Full Review\",\n",
              "       'Great game I really love it! And I absolutely love updates made! Is way login Facebook? Also controls great 100% time. Sometimes pieces go direction I want to.',\n",
              "       'Nice app..... So good.....',\n",
              "       'Edit July 13th: last update ruined game. I cannot play anymore keeping asking give access Fb friends list button work. It\\'s pitty! Love game (i\\'ve passed across river) happened \"tap skip\"? It great idea worked update only. Now work anymore.',\n",
              "       'Please add bolt action Sniper rifles. That would great. The game way easy. And also please decrease amount vehicles per game? Or reduce vehicles except monster truck (because airdrop vehicle). The game way easy I think. Just increase recoil little players say made hard. Nice game. Keep Garena.',\n",
              "       'This improves time! Updates useful essential. Been using year+ The interface watch phone (LG - G6)...it\\'s seamless. Easy share running data running group friends! If app/Forerunner 630/ Garmin Express/ Connect issues... I call Garmin tech help directly! I always/ always gotten real person real results help resolve every issue I\\'ve had. Everything always \"running\" great! Thanks Garmin supporting runners... Vic',\n",
              "       \"Displays large Applebee logos OVER top gas station I'm trying see. Really? No way find gas stations ahead me. Also shows gas stations behind me. I'm driving back 10 miles wrong direction buy gas. Searching distance needs take account direction. Also, gas station logos appear map. rated mature audiences only. Really?\",\n",
              "       \"I dont like difficult message someone. I don't like send photo, believe should option send chat. Also wait photo reviewed?\",\n",
              "       'This pretty good except typing slide part. That part work me. When I slide letter next letter, always skips second letter putting space letters. I would like know possible delete action without messing anything else app. Please get back soon also makes harder type normally. Is way turn part without messing anything else app? I want go back another messenger app. Thank I appreciate help this. God Bless family today.',\n",
              "       'This game relaxing. Its tools wind long day',\n",
              "       'I regularly scanning things go creating multipage pdfs. Occasionally pages change orientation scanned appear B&W (perhaps inadvertently something cause this) easily fixed editing. Simple, practical',\n",
              "       \"Very good. Especially since card came UBER there's extra benefits. Green Dot finally got stuff together GoBank line least UBER drivers. The great. based check cashing disappeared back. Idk came back yet. Easy send money without fees (just forget: cash app/ venmo/PayPal) BTW: Walmart card basically re-skin OF THIS ONE. BUT IT HAS SOME ODD QUIRKS.\",\n",
              "       'I love concept, every aspect slow buggy. Uploads, preview, connecting camera, amd almost features struggle. I constantly notifications telling uploads cloud process neverend there. I want great I really enjoy Hero 5, great connecting direct PC',\n",
              "       'Developers work instant data update in-app statistics. For example, Kane scored 5 goals, showed Ronaldo top scorer 4 goals world cup competition. Then, data changed 2 days. I hope I could explain cool guys make changes. Thanx ;-)',\n",
              "       'Goibibo worst customer care services. They force accept closure issue sending information mails without even trying solve them. They make wait till time back down. No GOibibo again.',\n",
              "       'Cool wallpaper', 'Amazing', 'The sound working updating',\n",
              "       \"It's eating battery. Phone getting hot soon... It continues phone blast.\",\n",
              "       'Fantastic amazingly fast customer',\n",
              "       'The joke. Ads load fast sit wait video content load. Worst yet put news could read seconds slides take forever load. You watch 5 minute YouTube video time takes load news item.',\n",
              "       \"I gripe although I may completely wrong. I wish like Grint, golfpad gave GHIN complaint handicap. That would great. Shot 84 today , best I've ever played I really think knowing yardages golfpad gives really big reason. Also drop price tags I'd buy them. 100 high screws NFC tag things. I bet costs 50 cents produce one.\",\n",
              "       'This updated review. Today (7/29/18) first time using since update. Not fan. It lost round 16th hole. No error exit save popup. Round disappeared. (I concede may operator error.) Unable edit scores easily before. Fonts small read course. LG G6.',\n",
              "       \"I think need remove stupid putt breaks. I want go away. One say I wat it, check box ne'er see again. Instead every time I go map back again. I love somebody needed told breaks. Absolutely waste time\",\n",
              "       \"I used love app, seems courses area wants deal anymore. I live area least 5-10 courses 10 mile radius house closest course book thru golfnow 20-30+ miles away. Not mention hot deals changed drop price closer get tee time. Well I'm sorry hour drive course I'm going need book early enough get plan round I'm paying more. Get courses hot deals! Every year less less\",\n",
              "       'Update...downgrading 1 star. Weak GPS signal continues useless. Tech support unhelpful issue never resolved. Dont waste money. Also GPS functionality issues. Shows \"weak GPS signal\" past 2 weeks longer works best sporadically.',\n",
              "       \"I've used five years. Always liked GPS recently. I noticed performance gone significantly. It becomes slow laggy sometimes I patience wait refresh accurate yardage. I'm using LG V30 I think plenty horse power. Are guys aware response time me?\",\n",
              "       'Great comparing prices medications thru different stores. Especially, dont health insurance low health insurance pay pocket. It also great giving description medicines, saving medication list, gives reminder refill. Really enjoy using app. I recommended many people.',\n",
              "       'Nice',\n",
              "       'You terrible job recreating something works. Now slow load. Does half options used creates work',\n",
              "       'I love lot I wish that(like google translate)there sound setting able listen name place viewing could know pronounce it. Also really hard move along road arrows hard click.',\n",
              "       \"It's rubbish. I much prefer Huawei Health phone Watch 2 – works much better way accurate. Also Fit terrible UX way clearly see trends. You would think correct location G Maps… doesn't, cuts distance even high accuracy on. Have set goals? Great, calculated correctly.\",\n",
              "       \"Have using handwriting since original tablet pc & best app. Use Android devices works really well LG stylus products. Plus upgrades non-stylus Android device reasonable handwriting device. Poor man's Samsung note terms input.\",\n",
              "       \"I note apps, I like reminder function set location too. I hoping see formatting options text. I given two stars recent update caused reminders longer work. I've missed quite now. I waited hoping see update addressed issue weeks now. Fix two stars.\",\n",
              "       'When I try change cover photo ends posting new post. So damn frustrating!!',\n",
              "       'I disabled phone. I read lot news wanted try out. However, week I blown 400 MB data plan. My news kind data whole month! Share function designed Crack-head, I share 2 sources always show end list. Why Android 8 different sharing dialogs?',\n",
              "       'Simple gets work done. All basic features icon drawer come way. 4mb size background processes. In short, exactly I wanted. If heavy pdf reader, wrong page. But, enough casual users like me.',\n",
              "       \"Am I missing way view cash Wallet balance (or whatever we're calling recent name change)? If here, clear. Still using separate send app. I'm combining apps, wish functionality there.\",\n",
              "       \"It's decent I used better longer works I switched here. The problem ads pop play store themselves. Fix much wrong.\",\n",
              "       'Really interesting game. Definitely feel like live world. Fun build home, cultivate garden explore. It got real I started getting attacked players! What great flee escape able win. Can play pace. Feels like game I playing years. No need pay either. Get game! UPDATE: game keeps getting better',\n",
              "       'Takes forever upload pics dont get 100 pics due date double them. It also adds pics dont choose crappy pics time doubled. I recommend app. Only reason used brother prison dont know another one. Great idea photo sharing definitely beeds work! Im uninstalling!',\n",
              "       \"This intuitive easy use. It's great connecting different friend groups I particularly like feature change nickname within groupchat. The issue I've recently emojis, happened old ones? They much cuter current blue faces. Just two cents. Keep do!\",\n",
              "       'I love everything groupon! 1 exception though, pictures misleading. One time I thought I getting laser lipo cool spinning machine shoots laser beams targeted areas like photo I got there, I strapped looks like thick plastic heat pads slept bed 1 hour. =( So I wish groupon would actually businesses submit actual photos place items used. Other that, I still love Groypon!',\n",
              "       'Game scam riddled bugs. None existent customer I think busy playing game. I joking! They come new scams regularly miraculously someone gets next day. Paying customers pay hundreds thousands even takes time acquire. Do stupid people playing game company.',\n",
              "       'Purchase risk. Bought gift card work. Gyft refuse fix send replacement. Stopped responding email. Have dispute get money back. They banned account took away copy previous gift card purchases without warning. Fighting get giftcards back cuz still balance. Stay away',\n",
              "       'What happen app? working anymore, reason I keep using truemove sim I option boost internet speed. If truemove cannot fix I continue prepaid subscription anymore transfer another carrier, maybe AIS DTac',\n",
              "       'This good, many channels available .why?',\n",
              "       'Horrible customer order app. Had shopping cart full everything got deleted. Called customer number said maintenance try 2 hours. Tried still functioning. Better going store. Get together H&M!',\n",
              "       \"Excellent! I take brakes watching long content, always remembers I left off, fills bottom screen link resume I return. Launches fast, great movies timely content(John Oliver, Real Time, Vice). Maintains nice watch list, always up. Excellent! How 3.8? I know? Maybe expense, I DirecTV Now I'm advertisement, HBO $5 DirecTV Now consumers. It's great deal, I expect last long. Sorry I adore Westworld Game Thrones, appreciation influenced creative works. Said much I sound like advert. HBO brutally honest decades. There's nothing new here, except content that's meaningful timeless. Is business? Seemz like expression amazing people.\",\n",
              "       \"Excellent I updating review developers addressed issues I & deserve recognition improving product. This simple interface integrates well photo editing app. On Sony Xperia Z3 compact photo button used taking photos & volume button used zoom. I used Google's camera HDR takes FOREVER capture 20mp picture. This faster sharper. The donation remove nags well worth it.\",\n",
              "       \"An otherwise great great features, except annoying number ads. I'd happily pay means get rid ads always face whenever open close it, would deserve five stars. Having option get rid damned annoying ads, I'm almost reluctant give four stars. I understand purpose ads, stuck something like camera used frequently needs option able remove them. So case, solution uninstall install another great camera free ads.\",\n",
              "       'Says downloaded video part video downloads. Crashes often, videos low level corruption, many adds sometimes two once, adds turns sound muted, restarts downloads left paused long. Gives error message video big??? So try smaller size video ( automatically switch smaller size big Android file system split sections joined computer )',\n",
              "       \"Finally I find All Videos place unlike video player shows 1/3 Videos. Definetlymakes easier find video I'm waiting watch try search photos videos phone cloud. It even found couple videos forgotten I partner passed away I can't replace. Thanks HD VIDEO PLAYER FOR ANDROID. Great job. Keep great work. I love player. Just really impressed.☺☺\",\n",
              "       \"Great widgets, weather locator longer gets right location me. Every knows exactly I am, puts hour two away real location. Sometimes I can't select preset locations list either, even tho automatic locating disabled. Aside that, great making customized desktops settings shortcuts widgets. I consider must minor tolerable bugs.\",\n",
              "       \"It's given relief test approaches catching guard questions, letting know I'm right track others. Good app!\",\n",
              "       'Would 5 stars many adds almost like watching live tv. I thought benefit watching would less adds I mean could watch 1 2 3 1min adds 15sec. Or 30sec overkill. Come would think enough add space regular viewing could add free least I would sayin.',\n",
              "       'My HTC One M9 new phone charger damaged original get I pls tell iwant charger',\n",
              "       \"I saw Update yesterday I swear, said Reboot Phone I KNEW I reboot it. Then I woke today update gone. I checked see happened it. After reading comments I'm REALLY Happy I Reboot phone update. It would probably Broke right now.\",\n",
              "       \"Why take 4 attempts allows put recipients name? The display keeps bouncing everywhere I can't put name right away. Every. Single. Time. Ridiculous.\",\n",
              "       'Is way change long press buttons? If I want enter numbers emoji delay button held option coming far long.',\n",
              "       'Very upset Not working htc phone ! Hope fix please',\n",
              "       \"Please help. Thought I upgrading phone, I lost DNLA that. I know whole lot stuff I can't open phone fullest enjoy I know half stuff works requires. I know do. Almost point returning phone. I HTC since Evo hard change made lot easier.\",\n",
              "       'Media file type unsupported Seems like lot people seem issue including me, WHAT it, fix?? Due upgrade issue force steer away HTC!!',\n",
              "       'Need edit description HTC please edit description app,people complaining know remove/ disable app. I know customers remove page home screen panels,but teach people know it.',\n",
              "       'success ratio approximately 75 1. hard time recognizing I\\'m asking do, keeps saying \"with wrong phone number\", goes right back start screen. Will recognize people contact list.',\n",
              "       'Never problem till now, sound effects weather effects play sound effects turn settings.',\n",
              "       \"Some damn fine work. I'm novelist, far best keyboard me. Took second figure configure settings liking that, perfect. I love enable type writer sounds. A true work art! I think I text faster it! Has settings could think more. A clean look 100% free, ads. Thank overall great experience.\",\n",
              "       'If hair I feel like good thing cuz harder stuff like hair alot really good I think best',\n",
              "       'This helpless satisfied, perfect huge fan like me. I love new karaoke trivia, also seeing latest updates. The things I would like see songs karaoke, least full vErsions. If add more, may I recommend songs person, like Alexander Hamilton Say No To This. Also, maybe add five questions trivia instead three? Maybe stickers well. I would love Peggy, Philip, King George III. I seeing musical Thursday really helpful see places I go well visiting! Also, HamCam really fun. I like Lafayette Peggy ones best! Great app, I really recommend Hamilton fans.',\n",
              "       \"Doesn't update other's profile pictures. My friend updated profile picture many times, loads fine PC. On phone, displays picture 2016.\",\n",
              "       'This best birthdays I know many people love thank much',\n",
              "       'I liked game lot I reached level 41 melon fields stage. It gives 60 turns beat it, soon I reach 52 moves quits me. Everytime, frustrating!',\n",
              "       \"The reason I give game 5 star review I installed played game could get free flooz I never got reward. I contacted tech support everything I never got anything. Support responded told I received flooz even though I didn't. Other game great. Its cute nice characters. The graphics great overall fun game play\",\n",
              "       \"It never opened. It's worthless. Tried uninstalling multiple times result.\",\n",
              "       'Really, SO Fun! It sucks waiting energy, I mean option buy coins & spend various things including wait, free play RPG games days. However, like HP & little games I would definitely recommend game.',\n",
              "       'I wanting couple changes 1. I would like boat alot cheaper food production buildings cheaper well 2. I would like food take less time cook, give boost ( using gems ) takes ages cook gems If I see th... Full Review',\n",
              "       'This keeps informed',\n",
              "       'The loading 30% time recent update, load all. Also, search feature finding correct email doctor work properly. If try look \"Dr. David xxxxx\" recognize name variation name makes sense. But start typing first letters nurse\\'s name, recognizes the\"vi\" middle \"David.\" I able find doctors name accident, even though clearly list providers.',\n",
              "       \"Just kept saying there's problem immediate shutdown please X reload I deleted trying three times kept saying thing\",\n",
              "       \"Actually really enjoy playing game, however I paid upgraded version without ads still continued get ads. Emailed developer week ago along attached confirmation purchase never got response, therefore I'm giving star. Just lot downloads mean overlook people support game; especially ones voluntarily pay upgraded version.\",\n",
              "       'This would great game developer would shove full junk ads. The cancel (x) button work well, daughter always ends hitting going install screen want. However, daughter still wanted say loves game.',\n",
              "       'Creative puzzle game combines doodling physics based. Not challenging interesting concept. Yes lots ads devs gotta eat too!',\n",
              "       'The prices unreasonable, new interface sucks single thing positive except disease condition states. Get yourselves, balance books bit better make easy navigate better rates become member. Dispicble opinion!',\n",
              "       \"I'm issues.I've got thumbprint setup activates Home Button instead fingerprint. Like know wants thumbprint. PLEASE HELP\",\n",
              "       'I purchased monthly subscription nit logging',\n",
              "       \"It's free app... Pay $1.99 false advertisement\",\n",
              "       'Very strong light. I know eggs gone bad',\n",
              "       'I think good takes video function would I give 5stars',\n",
              "       'Some suggestions improvement 1. Change throttle adjusted user instead fully fully off. 2. Make brakes reverse independent hold vehicle hill using brakes. 3. Change loot box system declared illegal, disclose odds acquiring parts',\n",
              "       'Full fake accounts. 2 friends college pretty popular insta/snap girls I ran fake accounts using name like 5 times piece. Definitely worth it. Stick Tinder friends!',\n",
              "       \"UPDATE: The apparently sync messages conversation. I got email someone replied show chat. Also, issues deleting likes. The definitely potential there's lot bugs need worked out. This really different usual OKCupid Tinder. It's nice people pick 3 questions answer; get tiny sense personality. I really enjoy whole dating scene makes simple, realistic enjoyable.\",\n",
              "       'When idle reconnect server, sign back 20+ times day. Chat groups show user leaving joining room another huge flaw',\n",
              "       \"This great aggregate app. Probably favorite bombard nonsense! No stupid hey wanna fly obscure place cause great deal?! Stuff. Just search give updated rates ask. Only thing I would like add option select multiple classes search flight. Sometimes first economy close enough I'd like see both.\",\n",
              "       'This worst I ever seen........ I wish I might see worst like future journey life....... Bakwas apps..... Be away types',\n",
              "       'Deceptive & Useless. You need password get onto I googled one,, needed name & email. The listings SOME California! Dont waste time!',\n",
              "       \"Pretty intuitive controls. Great functionality. Easy set-up monitor. Their customer also prompt helpful (needed help I upgraded pro). The complaint mixed system (Android Apple), buy license platform. I'm assuming that's beyond control. Otherwise, great system investment!\",\n",
              "       \"Can't say enough great stuff game. I get much enjoyment competitions .The play way nature attracts kinds people vast array neighborhoods makes easy find group people share style. Or hey, loner, that's ok, too. I love ... Full Review\",\n",
              "       \"I'm 39 year old woman I practice pole fitness, go traditional gym. I looking would help keep track days I go pole studio, built women mostly far easy. The workouts challenging app, especially get advanced levels, I appreciate. The 7×4 full body program mostly various types push ups, I love, good workout. The full body also include legs, I add leg workouts too. Overall, pretty good workout app, I would recommend men fit women.\",\n",
              "       'This wonderful. .. thanks a lot creating app.. would like see exercise dumbbells machines too,because people including end wrong exercises without proper techniques. Would greatly appreciated u too.tnx',\n",
              "       'Easy lot options',\n",
              "       \"* It's good home search HOWEVER -- enough filters-- example filters included like choosing radius, number garages, etc. * Please add features perform effective search.\",\n",
              "       'My issue crispy white options walls, \"whites\" mostly like cream colors needs variety plants like succulents, topiaries palm trees. Still great app!',\n",
              "       \"It's useful I'd close get dates display correctly editing. The color choices also static using subjects. The dates written European style. This deeply confuses me. So sorry i'm American XD. Give us options I'll raise stars. Also text colored yellow due date tomorrow. Hard work painted similarly.\",\n",
              "       \"It's super fun I absolutely love graphics! The game play pretty smooth time action spot on. This easily time favourite mobile games there. The complaint I would things take long load (like starting game going store) I particularly mind since I know large game.\",\n",
              "       'Used tracking flight prices two weeks intended departure. It suggested I wait week prices would drop. Prices increased every day finally suggested I purchase $200 higher I first checked. Ended finding better prices app. Maybe better planning months advance?',\n",
              "       'I like tells us percent compatibility relationship sections quality',\n",
              "       '00love horses.',\n",
              "       'works well got fast overview need. However, frequently refuses work anything less perfect internet connection, often issue travelling, likely app.',\n",
              "       'Totally unimpressed. We booking hotels Vietnam want find city centre hotels HCMC. Apply filter \"city\" first result draws IBIS airport. You can\\'t sort district area useless. That\\'s uninstalled',\n",
              "       'Bookings stopped showing app. Helpline useless (yes I reinstalled tried turning phone again!) Their answer : OK PC instead :D',\n",
              "       '7 days free trial asking credit card. Stupid!!!', 'running',\n",
              "       'Incorrect listings. The agents show property discuss properties. Plus listed price varies lot compared told agents/ owners. Not reliable looking flat purchase.'],\n",
              "      dtype=object)"
            ]
          },
          "metadata": {},
          "execution_count": 39
        }
      ]
    },
    {
      "cell_type": "code",
      "source": [
        "df['Translated_Review'].value_counts()"
      ],
      "metadata": {
        "colab": {
          "base_uri": "https://localhost:8080/"
        },
        "id": "mtaYI3tloUx0",
        "outputId": "c27bfd4e-87d3-4aa1-d918-0ae7fd9ab12d"
      },
      "execution_count": null,
      "outputs": [
        {
          "output_type": "execute_result",
          "data": {
            "text/plain": [
              "Love                                                                                                                                                                                                                                                                                                                                                                          2\n",
              "I like eat delicious food. That's I'm cooking food myself, case \"10 Best Foods\" helps lot, also \"Best Before (Shelf Life)\"                                                                                                                                                                                                                                                    1\n",
              "I love game think fun. I enjoy able see different characters trying make happy make vault best be. The issue I buy Mr Gutsys I could stop playing game can't auto collect without means can't play day two vault dies. But amazing game really good idea moble.                                                                                                               1\n",
              "Can't get past home screen. Would nice option pay monthly cable/satellite provider. 7/31/18 I want give money monthly subscription access, take it. I home cable. So, TAKE MY FRIGGIN MONEY!!!!!!                                                                                                                                                                             1\n",
              "As close real time get! Every sport slot... big 4. Only reason I go 5* bc I can't wait see FF season.                                                                                                                                                                                                                                                                         1\n",
              "                                                                                                                                                                                                                                                                                                                                                                             ..\n",
              "Just downloaded I'm reviewing let guys know I can't figure sign app. When tap \"Log In Sign Up\" gives login option, sign-up option. If I try enter info I want sign with, I get error message. A redirect sign-up page needed somewhere here.                                                                                                                                  1\n",
              "There are really bad days with the quality of the news that is called hot news. This loss will come to an end if you do not change. My house will uninstall immediately                                                                                                                                                                                                       1\n",
              "Gr8 Rookies From personal experience gem. If beginner want learn From Scrape baby you. From simple Addition Substraction Programs complex file Handling. This got everything. I would strongly recommend want make Programming learning endeavour Fun .only becoz loads advertisements I deducting 1 otherwise great app. Live long &strong feed poor hurt animals Peace ✌    1\n",
              "How many ads take How many ads take crash tablet? I started read intro 3 ads!! Then wanted back main menu another ad! Then I wanted close guessed it. Another add. Granted free add intensive I would pay add free version.                                                                                                                                                   1\n",
              "Incorrect listings. The agents show property discuss properties. Plus listed price varies lot compared told agents/ owners. Not reliable looking flat purchase.                                                                                                                                                                                                               1\n",
              "Name: Translated_Review, Length: 640, dtype: int64"
            ]
          },
          "metadata": {},
          "execution_count": 40
        }
      ]
    },
    {
      "cell_type": "code",
      "source": [],
      "metadata": {
        "id": "3wOyMOGphI85"
      },
      "execution_count": null,
      "outputs": []
    },
    {
      "cell_type": "markdown",
      "source": [
        "#*Sentiment*"
      ],
      "metadata": {
        "id": "enCowNhPhWaV"
      }
    },
    {
      "cell_type": "code",
      "source": [
        "#checking the head of sentiment\n",
        "df['Sentiment'].head()"
      ],
      "metadata": {
        "id": "2M-0zxpXhMQ1",
        "colab": {
          "base_uri": "https://localhost:8080/"
        },
        "outputId": "0a2a8c16-9d4d-42aa-9f7c-5da486c1d89c"
      },
      "execution_count": null,
      "outputs": [
        {
          "output_type": "execute_result",
          "data": {
            "text/plain": [
              "0    Positive\n",
              "1    Positive\n",
              "2         NaN\n",
              "3    Positive\n",
              "4    Positive\n",
              "Name: Sentiment, dtype: object"
            ]
          },
          "metadata": {},
          "execution_count": 40
        }
      ]
    },
    {
      "cell_type": "code",
      "source": [
        "df['Sentiment'].shape"
      ],
      "metadata": {
        "colab": {
          "base_uri": "https://localhost:8080/"
        },
        "id": "IjRuRC5-k7Ro",
        "outputId": "b467a300-753e-4562-c529-cef87a6ad59d"
      },
      "execution_count": null,
      "outputs": [
        {
          "output_type": "execute_result",
          "data": {
            "text/plain": [
              "(1074,)"
            ]
          },
          "metadata": {},
          "execution_count": 53
        }
      ]
    },
    {
      "cell_type": "code",
      "source": [
        "#value count of sentiment\n",
        "df['Sentiment'].value_counts()"
      ],
      "metadata": {
        "id": "k6HfkLshkKIj",
        "colab": {
          "base_uri": "https://localhost:8080/"
        },
        "outputId": "faace81d-2c2b-4265-cab2-3ab749dfc937"
      },
      "execution_count": null,
      "outputs": [
        {
          "output_type": "execute_result",
          "data": {
            "text/plain": [
              "Positive    23998\n",
              "Negative     8271\n",
              "Neutral      5163\n",
              "Name: Sentiment, dtype: int64"
            ]
          },
          "metadata": {},
          "execution_count": 41
        }
      ]
    },
    {
      "cell_type": "code",
      "source": [
        "#bar graph\n",
        "plt.rcParams['figure.figsize'] = (20, 10)\n",
        "df['Sentiment'].value_counts().plot(kind='bar')\n",
        "plt.ylabel('number of sentiments')\n",
        "plt.xlabel('review sentiment')"
      ],
      "metadata": {
        "colab": {
          "base_uri": "https://localhost:8080/",
          "height": 657
        },
        "id": "vxYkm-kWmWbs",
        "outputId": "60675401-574c-4424-fd52-f64e6bd4b5f8"
      },
      "execution_count": null,
      "outputs": [
        {
          "output_type": "execute_result",
          "data": {
            "text/plain": [
              "Text(0.5, 0, 'review sentiment')"
            ]
          },
          "metadata": {},
          "execution_count": 61
        },
        {
          "output_type": "display_data",
          "data": {
            "text/plain": [
              "<Figure size 1440x720 with 1 Axes>"
            ],
            "image/png": "[encoded data removed]"
          },
          "metadata": {
            "needs_background": "light"
          }
        }
      ]
    },
    {
      "cell_type": "code",
      "source": [
        "#pie chat\n",
        "plt.figure(figsize=(10,10))\n",
        "labels= df['Sentiment'].value_counts(sort = True).index\n",
        "Size= df['Sentiment'].value_counts()\n",
        "colors = ['g','y','r']\n",
        "explode= [0,0.1,0.1]\n",
        "plt.pie(Size,labels=labels, autopct='%.1f%%' ,colors=colors,explode=explode)"
      ],
      "metadata": {
        "colab": {
          "base_uri": "https://localhost:8080/",
          "height": 731
        },
        "id": "Xd0YfYu8h0vM",
        "outputId": "d35b0939-da9a-4045-ef78-c0b2ecfc7b14"
      },
      "execution_count": null,
      "outputs": [
        {
          "output_type": "execute_result",
          "data": {
            "text/plain": [
              "([<matplotlib.patches.Wedge at 0x7f9007890350>,\n",
              "  <matplotlib.patches.Wedge at 0x7f9007890a50>,\n",
              "  <matplotlib.patches.Wedge at 0x7f9007819290>],\n",
              " [Text(-0.5853982712746089, 0.9312941876704157, 'Positive'),\n",
              "  Text(0.37864231865312165, -1.138696620933332, 'Negative'),\n",
              "  Text(1.1655618987894556, -0.28542154804835385, 'Neutral')],\n",
              " [Text(-0.31930814796796847, 0.5079786478202267, '67.9%'),\n",
              "  Text(0.22087468588098763, -0.6642396955444435, '24.5%'),\n",
              "  Text(0.6799111076271824, -0.1664959030282064, '7.6%')])"
            ]
          },
          "metadata": {},
          "execution_count": 65
        },
        {
          "output_type": "display_data",
          "data": {
            "text/plain": [
              "<Figure size 720x720 with 1 Axes>"
            ],
            "image/png": "[encoded data removed]"
          },
          "metadata": {}
        }
      ]
    },
    {
      "cell_type": "code",
      "source": [],
      "metadata": {
        "id": "CoBt4D-XiI2m"
      },
      "execution_count": null,
      "outputs": []
    },
    {
      "cell_type": "markdown",
      "source": [
        "#*Sentiment_Polarity*"
      ],
      "metadata": {
        "id": "iibHlIyIo1nX"
      }
    },
    {
      "cell_type": "code",
      "source": [
        "df['Sentiment_Polarity'].head()"
      ],
      "metadata": {
        "colab": {
          "base_uri": "https://localhost:8080/"
        },
        "id": "ve6tlC9cpDKk",
        "outputId": "382fc42d-ba6e-4ba9-ec16-83010acb3f8e"
      },
      "execution_count": null,
      "outputs": [
        {
          "output_type": "execute_result",
          "data": {
            "text/plain": [
              "0      1.000000\n",
              "200    0.800000\n",
              "240   -1.000000\n",
              "280    0.600000\n",
              "360   -0.157143\n",
              "Name: Sentiment_Polarity, dtype: float64"
            ]
          },
          "metadata": {},
          "execution_count": 66
        }
      ]
    },
    {
      "cell_type": "code",
      "source": [
        "df[\"Sentiment_Polarity\"].unique()"
      ],
      "metadata": {
        "id": "cHD50ZAfpGAL"
      },
      "execution_count": null,
      "outputs": []
    },
    {
      "cell_type": "code",
      "source": [
        "df['Sentiment_Polarity'].value_counts().round(2)"
      ],
      "metadata": {
        "colab": {
          "base_uri": "https://localhost:8080/"
        },
        "id": "BmqrrB2cpLsY",
        "outputId": "509c3685-1026-4500-eea5-20175d8441b8"
      },
      "execution_count": null,
      "outputs": [
        {
          "output_type": "execute_result",
          "data": {
            "text/plain": [
              " 0.000000    49\n",
              " 0.500000    14\n",
              " 0.300000    12\n",
              " 1.000000    11\n",
              " 0.700000     9\n",
              "             ..\n",
              "-0.080357     1\n",
              "-0.010008     1\n",
              " 0.280556     1\n",
              " 0.350000     1\n",
              "-0.300000     1\n",
              "Name: Sentiment_Polarity, Length: 436, dtype: int64"
            ]
          },
          "metadata": {},
          "execution_count": 84
        }
      ]
    },
    {
      "cell_type": "code",
      "source": [
        "#determines the sentimental aspect of an opinion\n",
        "df.hist('Sentiment_Polarity')"
      ],
      "metadata": {
        "colab": {
          "base_uri": "https://localhost:8080/",
          "height": 642
        },
        "id": "1jBCrNaqpVdf",
        "outputId": "cfc513ca-f52c-48c7-ad18-24e411510bb9"
      },
      "execution_count": null,
      "outputs": [
        {
          "output_type": "execute_result",
          "data": {
            "text/plain": [
              "array([[<matplotlib.axes._subplots.AxesSubplot object at 0x7f900785dc50>]],\n",
              "      dtype=object)"
            ]
          },
          "metadata": {},
          "execution_count": 70
        },
        {
          "output_type": "display_data",
          "data": {
            "text/plain": [
              "<Figure size 1440x720 with 1 Axes>"
            ],
            "image/png": "[encoded data removed]"
          },
          "metadata": {
            "needs_background": "light"
          }
        }
      ]
    },
    {
      "cell_type": "code",
      "source": [],
      "metadata": {
        "id": "qdd3vcvhqFsh"
      },
      "execution_count": null,
      "outputs": []
    },
    {
      "cell_type": "markdown",
      "source": [
        "#*Sentiment_Subjectivity*"
      ],
      "metadata": {
        "id": "cZqBn-m3t7Ij"
      }
    },
    {
      "cell_type": "code",
      "source": [
        "df['Sentiment_Subjectivity'].head()"
      ],
      "metadata": {
        "colab": {
          "base_uri": "https://localhost:8080/"
        },
        "id": "vU1K_9EauA4X",
        "outputId": "0078549d-e497-4380-c6f2-9673e48eda13"
      },
      "execution_count": null,
      "outputs": [
        {
          "output_type": "execute_result",
          "data": {
            "text/plain": [
              "0      0.533333\n",
              "200    0.750000\n",
              "240    1.000000\n",
              "280    0.775000\n",
              "360    0.704762\n",
              "Name: Sentiment_Subjectivity, dtype: float64"
            ]
          },
          "metadata": {},
          "execution_count": 85
        }
      ]
    },
    {
      "cell_type": "code",
      "source": [
        "df['Sentiment_Subjectivity'].unique()"
      ],
      "metadata": {
        "id": "Blza5FcSuD6e"
      },
      "execution_count": null,
      "outputs": []
    },
    {
      "cell_type": "code",
      "source": [
        "df['Sentiment_Subjectivity'].value_counts()"
      ],
      "metadata": {
        "colab": {
          "base_uri": "https://localhost:8080/"
        },
        "id": "rXWFhEw9uJVY",
        "outputId": "b6243fe6-046f-4697-a455-b6094087567a"
      },
      "execution_count": null,
      "outputs": [
        {
          "output_type": "execute_result",
          "data": {
            "text/plain": [
              "0.000000    40\n",
              "0.500000    20\n",
              "1.000000    17\n",
              "0.600000    12\n",
              "0.600000    11\n",
              "            ..\n",
              "0.418054     1\n",
              "0.719444     1\n",
              "0.550230     1\n",
              "0.290000     1\n",
              "0.125000     1\n",
              "Name: Sentiment_Subjectivity, Length: 410, dtype: int64"
            ]
          },
          "metadata": {},
          "execution_count": 92
        }
      ]
    },
    {
      "cell_type": "code",
      "source": [
        "#Revies as per Sentiment_Subjectivity\n",
        "df.hist('Sentiment_Subjectivity');"
      ],
      "metadata": {
        "colab": {
          "base_uri": "https://localhost:8080/",
          "height": 607
        },
        "id": "DdWUEr8GuTZf",
        "outputId": "367ad77f-c0bd-48d6-c36f-4c07b9336011"
      },
      "execution_count": null,
      "outputs": [
        {
          "output_type": "display_data",
          "data": {
            "text/plain": [
              "<Figure size 1440x720 with 1 Axes>"
            ],
            "image/png": "[encoded data removed]"
          },
          "metadata": {
            "needs_background": "light"
          }
        }
      ]
    },
    {
      "cell_type": "code",
      "source": [
        "sns.distplot(df['Sentiment_Subjectivity'], hist=False,color='red')"
      ],
      "metadata": {
        "colab": {
          "base_uri": "https://localhost:8080/",
          "height": 678
        },
        "id": "N2DO1qWwuccN",
        "outputId": "e8aaeb29-b601-4702-d5d3-478f54d08b89"
      },
      "execution_count": null,
      "outputs": [
        {
          "output_type": "stream",
          "name": "stderr",
          "text": [
            "/usr/local/lib/python3.7/dist-packages/seaborn/distributions.py:2619: FutureWarning: `distplot` is a deprecated function and will be removed in a future version. Please adapt your code to use either `displot` (a figure-level function with similar flexibility) or `kdeplot` (an axes-level function for kernel density plots).\n",
            "  warnings.warn(msg, FutureWarning)\n"
          ]
        },
        {
          "output_type": "execute_result",
          "data": {
            "text/plain": [
              "<matplotlib.axes._subplots.AxesSubplot at 0x7f90073aab10>"
            ]
          },
          "metadata": {},
          "execution_count": 94
        },
        {
          "output_type": "display_data",
          "data": {
            "text/plain": [
              "<Figure size 1440x720 with 1 Axes>"
            ],
            "image/png": "[encoded data removed]"
          },
          "metadata": {
            "needs_background": "light"
          }
        }
      ]
    },
    {
      "cell_type": "code",
      "source": [],
      "metadata": {
        "id": "bHORYdFYwdfk"
      },
      "execution_count": null,
      "outputs": []
    },
    {
      "cell_type": "markdown",
      "source": [
        "#***************************************************END***********************"
      ],
      "metadata": {
        "id": "CLwCq57zwnny"
      }
    }
  ],
  "metadata": {
    "colab": {
      "collapsed_sections": [
        "i6gWJXoYHlah",
        "rkmEszoSafyM",
        "XJ3NtKV8pKH-",
        "OgBIgYixTA7z",
        "W3s1wBYu61eB",
        "foFWv_-bJrEx",
        "gwzqjxGthbGc",
        "8rIttG4mscDu",
        "cD4YWdOTIoiR",
        "6HDuj2IZJCgI",
        "1wO0GDNKJ7mt",
        "LjSjFVwPRSiR",
        "Qp8BnFX8TlEA"
      ],
      "provenance": [],
      "include_colab_link": true
    },
    "kernelspec": {
      "display_name": "Python 3",
      "language": "python",
      "name": "python3"
    },
    "language_info": {
      "codemirror_mode": {
        "name": "ipython",
        "version": 3
      },
      "file_extension": ".py",
      "mimetype": "text/x-python",
      "name": "python",
      "nbconvert_exporter": "python",
      "pygments_lexer": "ipython3",
      "version": "3.6.6"
    }
  },
  "nbformat": 4,
  "nbformat_minor": 0
}